{
  "nbformat": 4,
  "nbformat_minor": 0,
  "metadata": {
    "colab": {
      "provenance": [],
      "mount_file_id": "1cj2Ag6POOIZKdqlPLCUKN15hvNPzoUsv",
      "authorship_tag": "ABX9TyNHQsINHe9Q6lgbz+RxUvQj",
      "include_colab_link": true
    },
    "kernelspec": {
      "name": "python3",
      "display_name": "Python 3"
    },
    "language_info": {
      "name": "python"
    }
  },
  "cells": [
    {
      "cell_type": "markdown",
      "metadata": {
        "id": "view-in-github",
        "colab_type": "text"
      },
      "source": [
        "<a href=\"https://colab.research.google.com/github/Manish-k723/Cricket-score-prediction/blob/main/Used_transformers.ipynb\" target=\"_parent\"><img src=\"https://colab.research.google.com/assets/colab-badge.svg\" alt=\"Open In Colab\"/></a>"
      ]
    },
    {
      "cell_type": "code",
      "execution_count": 19,
      "metadata": {
        "id": "ZO-KoGcKdQ3y"
      },
      "outputs": [],
      "source": [
        "import pandas as pd\n",
        "import numpy as np"
      ]
    },
    {
      "cell_type": "code",
      "source": [
        "import pandas as pd\n",
        "from sklearn.compose import ColumnTransformer\n",
        "from sklearn.preprocessing import StandardScaler, OneHotEncoder\n",
        "from sklearn.pipeline import Pipeline\n",
        "from sklearn.model_selection import train_test_split\n",
        "from sklearn.linear_model import LinearRegression"
      ],
      "metadata": {
        "id": "K08KsJsYd15n"
      },
      "execution_count": 1,
      "outputs": []
    },
    {
      "cell_type": "code",
      "source": [
        "data = pd.read_csv('/content/drive/MyDrive/Colab Notebooks/Data1.csv')"
      ],
      "metadata": {
        "id": "MRKnAAZWeA5V"
      },
      "execution_count": 2,
      "outputs": []
    },
    {
      "cell_type": "code",
      "source": [
        "data.head()"
      ],
      "metadata": {
        "colab": {
          "base_uri": "https://localhost:8080/",
          "height": 560
        },
        "id": "ViuPbZWpeaEB",
        "outputId": "977c5bfa-3ca9-4fb3-9cca-33f0b68c8a8b"
      },
      "execution_count": 3,
      "outputs": [
        {
          "output_type": "execute_result",
          "data": {
            "text/plain": [
              "   Unnamed: 0       ID  inning                             Venue Season  \\\n",
              "0           0  1312200       1  Narendra Modi Stadium, Ahmedabad   2022   \n",
              "1           1  1312200       2  Narendra Modi Stadium, Ahmedabad   2022   \n",
              "2           2  1312199       1  Narendra Modi Stadium, Ahmedabad   2022   \n",
              "3           3  1312199       2  Narendra Modi Stadium, Ahmedabad   2022   \n",
              "4           4  1312198       1             Eden Gardens, Kolkata   2022   \n",
              "\n",
              "                  Batting_team                 Bowling_team  powerplay_runs  \\\n",
              "0             Rajasthan Royals               Gujarat Titans              44   \n",
              "1               Gujarat Titans             Rajasthan Royals              31   \n",
              "2  Royal Challengers Bangalore             Rajasthan Royals              46   \n",
              "3             Rajasthan Royals  Royal Challengers Bangalore              67   \n",
              "4  Royal Challengers Bangalore         Lucknow Super Giants              52   \n",
              "\n",
              "   is_india        batsmen1  ...          bowler2        bowler3  \\\n",
              "0         1  ['YBK Jaiswal'  ...   'Shubman Gill'      'MS Wade'   \n",
              "1         1      ['WP Saha'  ...     'JC Buttler'    'SV Samson'   \n",
              "2         1      ['V Kohli'  ...     'JC Buttler'    'SV Samson'   \n",
              "3         1  ['YBK Jaiswal'  ...   'F du Plessis'   'RM Patidar'   \n",
              "4         1      ['V Kohli'  ...       'KL Rahul'      'M Vohra'   \n",
              "\n",
              "         bowler4        bowler5        bowler6           bowler7  \\\n",
              "0    'HH Pandya'    'DA Miller'    'R Tewatia'     'Rashid Khan'   \n",
              "1   'D Padikkal'   'SO Hetmyer'     'R Ashwin'         'R Parag'   \n",
              "2   'D Padikkal'   'SO Hetmyer'      'R Parag'        'R Ashwin'   \n",
              "3   'GJ Maxwell'    'MK Lomror'   'KD Karthik'   'Shahbaz Ahmed'   \n",
              "4     'DJ Hooda'   'MP Stoinis'      'E Lewis'       'KH Pandya'   \n",
              "\n",
              "            bowler8         bowler9              bowler10            bowler11  \n",
              "0   'R Sai Kishore'   'LH Ferguson'          'Yash Dayal'   'Mohammed Shami']  \n",
              "1        'TA Boult'      'OC McCoy'   'M Prasidh Krishna'        'YS Chahal']  \n",
              "2        'TA Boult'     'YS Chahal'   'M Prasidh Krishna'         'OC McCoy']  \n",
              "3    'PWH de Silva'      'HV Patel'        'JR Hazlewood'   'Mohammed Siraj']  \n",
              "4    'PVD Chameera'   'Mohsin Khan'          'Avesh Khan'     'Ravi Bishnoi']  \n",
              "\n",
              "[5 rows x 31 columns]"
            ],
            "text/html": [
              "\n",
              "  <div id=\"df-c20086f9-3d6f-41fc-be31-a7c41d9a5b6e\">\n",
              "    <div class=\"colab-df-container\">\n",
              "      <div>\n",
              "<style scoped>\n",
              "    .dataframe tbody tr th:only-of-type {\n",
              "        vertical-align: middle;\n",
              "    }\n",
              "\n",
              "    .dataframe tbody tr th {\n",
              "        vertical-align: top;\n",
              "    }\n",
              "\n",
              "    .dataframe thead th {\n",
              "        text-align: right;\n",
              "    }\n",
              "</style>\n",
              "<table border=\"1\" class=\"dataframe\">\n",
              "  <thead>\n",
              "    <tr style=\"text-align: right;\">\n",
              "      <th></th>\n",
              "      <th>Unnamed: 0</th>\n",
              "      <th>ID</th>\n",
              "      <th>inning</th>\n",
              "      <th>Venue</th>\n",
              "      <th>Season</th>\n",
              "      <th>Batting_team</th>\n",
              "      <th>Bowling_team</th>\n",
              "      <th>powerplay_runs</th>\n",
              "      <th>is_india</th>\n",
              "      <th>batsmen1</th>\n",
              "      <th>...</th>\n",
              "      <th>bowler2</th>\n",
              "      <th>bowler3</th>\n",
              "      <th>bowler4</th>\n",
              "      <th>bowler5</th>\n",
              "      <th>bowler6</th>\n",
              "      <th>bowler7</th>\n",
              "      <th>bowler8</th>\n",
              "      <th>bowler9</th>\n",
              "      <th>bowler10</th>\n",
              "      <th>bowler11</th>\n",
              "    </tr>\n",
              "  </thead>\n",
              "  <tbody>\n",
              "    <tr>\n",
              "      <th>0</th>\n",
              "      <td>0</td>\n",
              "      <td>1312200</td>\n",
              "      <td>1</td>\n",
              "      <td>Narendra Modi Stadium, Ahmedabad</td>\n",
              "      <td>2022</td>\n",
              "      <td>Rajasthan Royals</td>\n",
              "      <td>Gujarat Titans</td>\n",
              "      <td>44</td>\n",
              "      <td>1</td>\n",
              "      <td>['YBK Jaiswal'</td>\n",
              "      <td>...</td>\n",
              "      <td>'Shubman Gill'</td>\n",
              "      <td>'MS Wade'</td>\n",
              "      <td>'HH Pandya'</td>\n",
              "      <td>'DA Miller'</td>\n",
              "      <td>'R Tewatia'</td>\n",
              "      <td>'Rashid Khan'</td>\n",
              "      <td>'R Sai Kishore'</td>\n",
              "      <td>'LH Ferguson'</td>\n",
              "      <td>'Yash Dayal'</td>\n",
              "      <td>'Mohammed Shami']</td>\n",
              "    </tr>\n",
              "    <tr>\n",
              "      <th>1</th>\n",
              "      <td>1</td>\n",
              "      <td>1312200</td>\n",
              "      <td>2</td>\n",
              "      <td>Narendra Modi Stadium, Ahmedabad</td>\n",
              "      <td>2022</td>\n",
              "      <td>Gujarat Titans</td>\n",
              "      <td>Rajasthan Royals</td>\n",
              "      <td>31</td>\n",
              "      <td>1</td>\n",
              "      <td>['WP Saha'</td>\n",
              "      <td>...</td>\n",
              "      <td>'JC Buttler'</td>\n",
              "      <td>'SV Samson'</td>\n",
              "      <td>'D Padikkal'</td>\n",
              "      <td>'SO Hetmyer'</td>\n",
              "      <td>'R Ashwin'</td>\n",
              "      <td>'R Parag'</td>\n",
              "      <td>'TA Boult'</td>\n",
              "      <td>'OC McCoy'</td>\n",
              "      <td>'M Prasidh Krishna'</td>\n",
              "      <td>'YS Chahal']</td>\n",
              "    </tr>\n",
              "    <tr>\n",
              "      <th>2</th>\n",
              "      <td>2</td>\n",
              "      <td>1312199</td>\n",
              "      <td>1</td>\n",
              "      <td>Narendra Modi Stadium, Ahmedabad</td>\n",
              "      <td>2022</td>\n",
              "      <td>Royal Challengers Bangalore</td>\n",
              "      <td>Rajasthan Royals</td>\n",
              "      <td>46</td>\n",
              "      <td>1</td>\n",
              "      <td>['V Kohli'</td>\n",
              "      <td>...</td>\n",
              "      <td>'JC Buttler'</td>\n",
              "      <td>'SV Samson'</td>\n",
              "      <td>'D Padikkal'</td>\n",
              "      <td>'SO Hetmyer'</td>\n",
              "      <td>'R Parag'</td>\n",
              "      <td>'R Ashwin'</td>\n",
              "      <td>'TA Boult'</td>\n",
              "      <td>'YS Chahal'</td>\n",
              "      <td>'M Prasidh Krishna'</td>\n",
              "      <td>'OC McCoy']</td>\n",
              "    </tr>\n",
              "    <tr>\n",
              "      <th>3</th>\n",
              "      <td>3</td>\n",
              "      <td>1312199</td>\n",
              "      <td>2</td>\n",
              "      <td>Narendra Modi Stadium, Ahmedabad</td>\n",
              "      <td>2022</td>\n",
              "      <td>Rajasthan Royals</td>\n",
              "      <td>Royal Challengers Bangalore</td>\n",
              "      <td>67</td>\n",
              "      <td>1</td>\n",
              "      <td>['YBK Jaiswal'</td>\n",
              "      <td>...</td>\n",
              "      <td>'F du Plessis'</td>\n",
              "      <td>'RM Patidar'</td>\n",
              "      <td>'GJ Maxwell'</td>\n",
              "      <td>'MK Lomror'</td>\n",
              "      <td>'KD Karthik'</td>\n",
              "      <td>'Shahbaz Ahmed'</td>\n",
              "      <td>'PWH de Silva'</td>\n",
              "      <td>'HV Patel'</td>\n",
              "      <td>'JR Hazlewood'</td>\n",
              "      <td>'Mohammed Siraj']</td>\n",
              "    </tr>\n",
              "    <tr>\n",
              "      <th>4</th>\n",
              "      <td>4</td>\n",
              "      <td>1312198</td>\n",
              "      <td>1</td>\n",
              "      <td>Eden Gardens, Kolkata</td>\n",
              "      <td>2022</td>\n",
              "      <td>Royal Challengers Bangalore</td>\n",
              "      <td>Lucknow Super Giants</td>\n",
              "      <td>52</td>\n",
              "      <td>1</td>\n",
              "      <td>['V Kohli'</td>\n",
              "      <td>...</td>\n",
              "      <td>'KL Rahul'</td>\n",
              "      <td>'M Vohra'</td>\n",
              "      <td>'DJ Hooda'</td>\n",
              "      <td>'MP Stoinis'</td>\n",
              "      <td>'E Lewis'</td>\n",
              "      <td>'KH Pandya'</td>\n",
              "      <td>'PVD Chameera'</td>\n",
              "      <td>'Mohsin Khan'</td>\n",
              "      <td>'Avesh Khan'</td>\n",
              "      <td>'Ravi Bishnoi']</td>\n",
              "    </tr>\n",
              "  </tbody>\n",
              "</table>\n",
              "<p>5 rows × 31 columns</p>\n",
              "</div>\n",
              "      <button class=\"colab-df-convert\" onclick=\"convertToInteractive('df-c20086f9-3d6f-41fc-be31-a7c41d9a5b6e')\"\n",
              "              title=\"Convert this dataframe to an interactive table.\"\n",
              "              style=\"display:none;\">\n",
              "        \n",
              "  <svg xmlns=\"http://www.w3.org/2000/svg\" height=\"24px\"viewBox=\"0 0 24 24\"\n",
              "       width=\"24px\">\n",
              "    <path d=\"M0 0h24v24H0V0z\" fill=\"none\"/>\n",
              "    <path d=\"M18.56 5.44l.94 2.06.94-2.06 2.06-.94-2.06-.94-.94-2.06-.94 2.06-2.06.94zm-11 1L8.5 8.5l.94-2.06 2.06-.94-2.06-.94L8.5 2.5l-.94 2.06-2.06.94zm10 10l.94 2.06.94-2.06 2.06-.94-2.06-.94-.94-2.06-.94 2.06-2.06.94z\"/><path d=\"M17.41 7.96l-1.37-1.37c-.4-.4-.92-.59-1.43-.59-.52 0-1.04.2-1.43.59L10.3 9.45l-7.72 7.72c-.78.78-.78 2.05 0 2.83L4 21.41c.39.39.9.59 1.41.59.51 0 1.02-.2 1.41-.59l7.78-7.78 2.81-2.81c.8-.78.8-2.07 0-2.86zM5.41 20L4 18.59l7.72-7.72 1.47 1.35L5.41 20z\"/>\n",
              "  </svg>\n",
              "      </button>\n",
              "      \n",
              "  <style>\n",
              "    .colab-df-container {\n",
              "      display:flex;\n",
              "      flex-wrap:wrap;\n",
              "      gap: 12px;\n",
              "    }\n",
              "\n",
              "    .colab-df-convert {\n",
              "      background-color: #E8F0FE;\n",
              "      border: none;\n",
              "      border-radius: 50%;\n",
              "      cursor: pointer;\n",
              "      display: none;\n",
              "      fill: #1967D2;\n",
              "      height: 32px;\n",
              "      padding: 0 0 0 0;\n",
              "      width: 32px;\n",
              "    }\n",
              "\n",
              "    .colab-df-convert:hover {\n",
              "      background-color: #E2EBFA;\n",
              "      box-shadow: 0px 1px 2px rgba(60, 64, 67, 0.3), 0px 1px 3px 1px rgba(60, 64, 67, 0.15);\n",
              "      fill: #174EA6;\n",
              "    }\n",
              "\n",
              "    [theme=dark] .colab-df-convert {\n",
              "      background-color: #3B4455;\n",
              "      fill: #D2E3FC;\n",
              "    }\n",
              "\n",
              "    [theme=dark] .colab-df-convert:hover {\n",
              "      background-color: #434B5C;\n",
              "      box-shadow: 0px 1px 3px 1px rgba(0, 0, 0, 0.15);\n",
              "      filter: drop-shadow(0px 1px 2px rgba(0, 0, 0, 0.3));\n",
              "      fill: #FFFFFF;\n",
              "    }\n",
              "  </style>\n",
              "\n",
              "      <script>\n",
              "        const buttonEl =\n",
              "          document.querySelector('#df-c20086f9-3d6f-41fc-be31-a7c41d9a5b6e button.colab-df-convert');\n",
              "        buttonEl.style.display =\n",
              "          google.colab.kernel.accessAllowed ? 'block' : 'none';\n",
              "\n",
              "        async function convertToInteractive(key) {\n",
              "          const element = document.querySelector('#df-c20086f9-3d6f-41fc-be31-a7c41d9a5b6e');\n",
              "          const dataTable =\n",
              "            await google.colab.kernel.invokeFunction('convertToInteractive',\n",
              "                                                     [key], {});\n",
              "          if (!dataTable) return;\n",
              "\n",
              "          const docLinkHtml = 'Like what you see? Visit the ' +\n",
              "            '<a target=\"_blank\" href=https://colab.research.google.com/notebooks/data_table.ipynb>data table notebook</a>'\n",
              "            + ' to learn more about interactive tables.';\n",
              "          element.innerHTML = '';\n",
              "          dataTable['output_type'] = 'display_data';\n",
              "          await google.colab.output.renderOutput(dataTable, element);\n",
              "          const docLink = document.createElement('div');\n",
              "          docLink.innerHTML = docLinkHtml;\n",
              "          element.appendChild(docLink);\n",
              "        }\n",
              "      </script>\n",
              "    </div>\n",
              "  </div>\n",
              "  "
            ]
          },
          "metadata": {},
          "execution_count": 3
        }
      ]
    },
    {
      "cell_type": "code",
      "source": [
        "# data.drop(['Team1Players', 'Team2Players'], axis = 1, inplace = True)"
      ],
      "metadata": {
        "id": "gaYETgaHiNsh"
      },
      "execution_count": 4,
      "outputs": []
    },
    {
      "cell_type": "code",
      "source": [
        "data.columns"
      ],
      "metadata": {
        "colab": {
          "base_uri": "https://localhost:8080/"
        },
        "id": "i0Pi3BKxefKh",
        "outputId": "4ec9b7e7-766f-4043-e6f2-c3d563e342c7"
      },
      "execution_count": 5,
      "outputs": [
        {
          "output_type": "execute_result",
          "data": {
            "text/plain": [
              "Index(['Unnamed: 0', 'ID', 'inning', 'Venue', 'Season', 'Batting_team',\n",
              "       'Bowling_team', 'powerplay_runs', 'is_india', 'batsmen1', 'batsmen2',\n",
              "       'batsmen3', 'batsmen4', 'batsmen5', 'batsmen6', 'batsmen7', 'batsmen8',\n",
              "       'batsmen9', 'batsmen10', 'batsmen11', 'bowler1', 'bowler2', 'bowler3',\n",
              "       'bowler4', 'bowler5', 'bowler6', 'bowler7', 'bowler8', 'bowler9',\n",
              "       'bowler10', 'bowler11'],\n",
              "      dtype='object')"
            ]
          },
          "metadata": {},
          "execution_count": 5
        }
      ]
    },
    {
      "cell_type": "code",
      "source": [
        "data.drop('Unnamed: 0', axis = 1, inplace = True)"
      ],
      "metadata": {
        "id": "zrboqN0eeNfW"
      },
      "execution_count": 6,
      "outputs": []
    },
    {
      "cell_type": "code",
      "source": [
        "data.info()"
      ],
      "metadata": {
        "colab": {
          "base_uri": "https://localhost:8080/"
        },
        "id": "rLGg35G-eMAu",
        "outputId": "c9260f71-6a2c-4998-e362-749f0667379e"
      },
      "execution_count": 7,
      "outputs": [
        {
          "output_type": "stream",
          "name": "stdout",
          "text": [
            "<class 'pandas.core.frame.DataFrame'>\n",
            "RangeIndex: 1896 entries, 0 to 1895\n",
            "Data columns (total 30 columns):\n",
            " #   Column          Non-Null Count  Dtype \n",
            "---  ------          --------------  ----- \n",
            " 0   ID              1896 non-null   int64 \n",
            " 1   inning          1896 non-null   int64 \n",
            " 2   Venue           1896 non-null   object\n",
            " 3   Season          1896 non-null   object\n",
            " 4   Batting_team    1896 non-null   object\n",
            " 5   Bowling_team    1896 non-null   object\n",
            " 6   powerplay_runs  1896 non-null   int64 \n",
            " 7   is_india        1896 non-null   int64 \n",
            " 8   batsmen1        1896 non-null   object\n",
            " 9   batsmen2        1896 non-null   object\n",
            " 10  batsmen3        1896 non-null   object\n",
            " 11  batsmen4        1896 non-null   object\n",
            " 12  batsmen5        1896 non-null   object\n",
            " 13  batsmen6        1896 non-null   object\n",
            " 14  batsmen7        1896 non-null   object\n",
            " 15  batsmen8        1896 non-null   object\n",
            " 16  batsmen9        1896 non-null   object\n",
            " 17  batsmen10       1896 non-null   object\n",
            " 18  batsmen11       1896 non-null   object\n",
            " 19  bowler1         1896 non-null   object\n",
            " 20  bowler2         1896 non-null   object\n",
            " 21  bowler3         1896 non-null   object\n",
            " 22  bowler4         1896 non-null   object\n",
            " 23  bowler5         1896 non-null   object\n",
            " 24  bowler6         1896 non-null   object\n",
            " 25  bowler7         1896 non-null   object\n",
            " 26  bowler8         1896 non-null   object\n",
            " 27  bowler9         1896 non-null   object\n",
            " 28  bowler10        1896 non-null   object\n",
            " 29  bowler11        1896 non-null   object\n",
            "dtypes: int64(4), object(26)\n",
            "memory usage: 444.5+ KB\n"
          ]
        }
      ]
    },
    {
      "cell_type": "code",
      "source": [
        "data.sample(3)"
      ],
      "metadata": {
        "colab": {
          "base_uri": "https://localhost:8080/",
          "height": 393
        },
        "id": "FqroAq11iZ4a",
        "outputId": "bbacaa00-d98d-4d19-f5f5-00e68d7bb54b"
      },
      "execution_count": 8,
      "outputs": [
        {
          "output_type": "execute_result",
          "data": {
            "text/plain": [
              "          ID  inning                                       Venue Season  \\\n",
              "1667  392239       2                       New Wanderers Stadium   2009   \n",
              "992   734039       1  Punjab Cricket Association Stadium, Mohali   2014   \n",
              "1292  548362       1                  Subrata Roy Sahara Stadium   2012   \n",
              "\n",
              "                     Batting_team     Bowling_team  powerplay_runs  is_india  \\\n",
              "1667  Royal Challengers Bangalore  Deccan Chargers              36         0   \n",
              "992              Delhi Daredevils  Kings XI Punjab              44         1   \n",
              "1292  Royal Challengers Bangalore    Pune Warriors              66         1   \n",
              "\n",
              "             batsmen1       batsmen2  ...       bowler2        bowler3  \\\n",
              "1667     ['JH Kallis'    'MK Pandey'  ...    'HH Gibbs'     'TL Suman'   \n",
              "992   ['KP Pietersen'   'MA Agarwal'  ...     'M Vohra'   'GJ Maxwell'   \n",
              "1292      ['CH Gayle'   'TM Dilshan'  ...   'MJ Clarke'    'MK Pandey'   \n",
              "\n",
              "            bowler4         bowler5             bowler6         bowler7  \\\n",
              "1667    'A Symonds'     'RG Sharma'   'Y Venugopal Rao'   'AA Bilakhia'   \n",
              "992     'DA Miller'     'GJ Bailey'           'WP Saha'      'AR Patel'   \n",
              "1292   'RV Uthappa'   'AP Majumdar'        'AD Mathews'     'SPD Smith'   \n",
              "\n",
              "            bowler8       bowler9            bowler10        bowler11  \n",
              "1667    'RJ Harris'     'PP Ojha'     'Harmeet Singh'     'RP Singh']  \n",
              "992    'MG Johnson'    'R Dhawan'   'Karanveer Singh'      'P Awana']  \n",
              "1292      'B Kumar'   'AC Thomas'          'R Sharma'   'K Upadhyay']  \n",
              "\n",
              "[3 rows x 30 columns]"
            ],
            "text/html": [
              "\n",
              "  <div id=\"df-2198e24c-0e7c-434f-b012-49df2a10f344\">\n",
              "    <div class=\"colab-df-container\">\n",
              "      <div>\n",
              "<style scoped>\n",
              "    .dataframe tbody tr th:only-of-type {\n",
              "        vertical-align: middle;\n",
              "    }\n",
              "\n",
              "    .dataframe tbody tr th {\n",
              "        vertical-align: top;\n",
              "    }\n",
              "\n",
              "    .dataframe thead th {\n",
              "        text-align: right;\n",
              "    }\n",
              "</style>\n",
              "<table border=\"1\" class=\"dataframe\">\n",
              "  <thead>\n",
              "    <tr style=\"text-align: right;\">\n",
              "      <th></th>\n",
              "      <th>ID</th>\n",
              "      <th>inning</th>\n",
              "      <th>Venue</th>\n",
              "      <th>Season</th>\n",
              "      <th>Batting_team</th>\n",
              "      <th>Bowling_team</th>\n",
              "      <th>powerplay_runs</th>\n",
              "      <th>is_india</th>\n",
              "      <th>batsmen1</th>\n",
              "      <th>batsmen2</th>\n",
              "      <th>...</th>\n",
              "      <th>bowler2</th>\n",
              "      <th>bowler3</th>\n",
              "      <th>bowler4</th>\n",
              "      <th>bowler5</th>\n",
              "      <th>bowler6</th>\n",
              "      <th>bowler7</th>\n",
              "      <th>bowler8</th>\n",
              "      <th>bowler9</th>\n",
              "      <th>bowler10</th>\n",
              "      <th>bowler11</th>\n",
              "    </tr>\n",
              "  </thead>\n",
              "  <tbody>\n",
              "    <tr>\n",
              "      <th>1667</th>\n",
              "      <td>392239</td>\n",
              "      <td>2</td>\n",
              "      <td>New Wanderers Stadium</td>\n",
              "      <td>2009</td>\n",
              "      <td>Royal Challengers Bangalore</td>\n",
              "      <td>Deccan Chargers</td>\n",
              "      <td>36</td>\n",
              "      <td>0</td>\n",
              "      <td>['JH Kallis'</td>\n",
              "      <td>'MK Pandey'</td>\n",
              "      <td>...</td>\n",
              "      <td>'HH Gibbs'</td>\n",
              "      <td>'TL Suman'</td>\n",
              "      <td>'A Symonds'</td>\n",
              "      <td>'RG Sharma'</td>\n",
              "      <td>'Y Venugopal Rao'</td>\n",
              "      <td>'AA Bilakhia'</td>\n",
              "      <td>'RJ Harris'</td>\n",
              "      <td>'PP Ojha'</td>\n",
              "      <td>'Harmeet Singh'</td>\n",
              "      <td>'RP Singh']</td>\n",
              "    </tr>\n",
              "    <tr>\n",
              "      <th>992</th>\n",
              "      <td>734039</td>\n",
              "      <td>1</td>\n",
              "      <td>Punjab Cricket Association Stadium, Mohali</td>\n",
              "      <td>2014</td>\n",
              "      <td>Delhi Daredevils</td>\n",
              "      <td>Kings XI Punjab</td>\n",
              "      <td>44</td>\n",
              "      <td>1</td>\n",
              "      <td>['KP Pietersen'</td>\n",
              "      <td>'MA Agarwal'</td>\n",
              "      <td>...</td>\n",
              "      <td>'M Vohra'</td>\n",
              "      <td>'GJ Maxwell'</td>\n",
              "      <td>'DA Miller'</td>\n",
              "      <td>'GJ Bailey'</td>\n",
              "      <td>'WP Saha'</td>\n",
              "      <td>'AR Patel'</td>\n",
              "      <td>'MG Johnson'</td>\n",
              "      <td>'R Dhawan'</td>\n",
              "      <td>'Karanveer Singh'</td>\n",
              "      <td>'P Awana']</td>\n",
              "    </tr>\n",
              "    <tr>\n",
              "      <th>1292</th>\n",
              "      <td>548362</td>\n",
              "      <td>1</td>\n",
              "      <td>Subrata Roy Sahara Stadium</td>\n",
              "      <td>2012</td>\n",
              "      <td>Royal Challengers Bangalore</td>\n",
              "      <td>Pune Warriors</td>\n",
              "      <td>66</td>\n",
              "      <td>1</td>\n",
              "      <td>['CH Gayle'</td>\n",
              "      <td>'TM Dilshan'</td>\n",
              "      <td>...</td>\n",
              "      <td>'MJ Clarke'</td>\n",
              "      <td>'MK Pandey'</td>\n",
              "      <td>'RV Uthappa'</td>\n",
              "      <td>'AP Majumdar'</td>\n",
              "      <td>'AD Mathews'</td>\n",
              "      <td>'SPD Smith'</td>\n",
              "      <td>'B Kumar'</td>\n",
              "      <td>'AC Thomas'</td>\n",
              "      <td>'R Sharma'</td>\n",
              "      <td>'K Upadhyay']</td>\n",
              "    </tr>\n",
              "  </tbody>\n",
              "</table>\n",
              "<p>3 rows × 30 columns</p>\n",
              "</div>\n",
              "      <button class=\"colab-df-convert\" onclick=\"convertToInteractive('df-2198e24c-0e7c-434f-b012-49df2a10f344')\"\n",
              "              title=\"Convert this dataframe to an interactive table.\"\n",
              "              style=\"display:none;\">\n",
              "        \n",
              "  <svg xmlns=\"http://www.w3.org/2000/svg\" height=\"24px\"viewBox=\"0 0 24 24\"\n",
              "       width=\"24px\">\n",
              "    <path d=\"M0 0h24v24H0V0z\" fill=\"none\"/>\n",
              "    <path d=\"M18.56 5.44l.94 2.06.94-2.06 2.06-.94-2.06-.94-.94-2.06-.94 2.06-2.06.94zm-11 1L8.5 8.5l.94-2.06 2.06-.94-2.06-.94L8.5 2.5l-.94 2.06-2.06.94zm10 10l.94 2.06.94-2.06 2.06-.94-2.06-.94-.94-2.06-.94 2.06-2.06.94z\"/><path d=\"M17.41 7.96l-1.37-1.37c-.4-.4-.92-.59-1.43-.59-.52 0-1.04.2-1.43.59L10.3 9.45l-7.72 7.72c-.78.78-.78 2.05 0 2.83L4 21.41c.39.39.9.59 1.41.59.51 0 1.02-.2 1.41-.59l7.78-7.78 2.81-2.81c.8-.78.8-2.07 0-2.86zM5.41 20L4 18.59l7.72-7.72 1.47 1.35L5.41 20z\"/>\n",
              "  </svg>\n",
              "      </button>\n",
              "      \n",
              "  <style>\n",
              "    .colab-df-container {\n",
              "      display:flex;\n",
              "      flex-wrap:wrap;\n",
              "      gap: 12px;\n",
              "    }\n",
              "\n",
              "    .colab-df-convert {\n",
              "      background-color: #E8F0FE;\n",
              "      border: none;\n",
              "      border-radius: 50%;\n",
              "      cursor: pointer;\n",
              "      display: none;\n",
              "      fill: #1967D2;\n",
              "      height: 32px;\n",
              "      padding: 0 0 0 0;\n",
              "      width: 32px;\n",
              "    }\n",
              "\n",
              "    .colab-df-convert:hover {\n",
              "      background-color: #E2EBFA;\n",
              "      box-shadow: 0px 1px 2px rgba(60, 64, 67, 0.3), 0px 1px 3px 1px rgba(60, 64, 67, 0.15);\n",
              "      fill: #174EA6;\n",
              "    }\n",
              "\n",
              "    [theme=dark] .colab-df-convert {\n",
              "      background-color: #3B4455;\n",
              "      fill: #D2E3FC;\n",
              "    }\n",
              "\n",
              "    [theme=dark] .colab-df-convert:hover {\n",
              "      background-color: #434B5C;\n",
              "      box-shadow: 0px 1px 3px 1px rgba(0, 0, 0, 0.15);\n",
              "      filter: drop-shadow(0px 1px 2px rgba(0, 0, 0, 0.3));\n",
              "      fill: #FFFFFF;\n",
              "    }\n",
              "  </style>\n",
              "\n",
              "      <script>\n",
              "        const buttonEl =\n",
              "          document.querySelector('#df-2198e24c-0e7c-434f-b012-49df2a10f344 button.colab-df-convert');\n",
              "        buttonEl.style.display =\n",
              "          google.colab.kernel.accessAllowed ? 'block' : 'none';\n",
              "\n",
              "        async function convertToInteractive(key) {\n",
              "          const element = document.querySelector('#df-2198e24c-0e7c-434f-b012-49df2a10f344');\n",
              "          const dataTable =\n",
              "            await google.colab.kernel.invokeFunction('convertToInteractive',\n",
              "                                                     [key], {});\n",
              "          if (!dataTable) return;\n",
              "\n",
              "          const docLinkHtml = 'Like what you see? Visit the ' +\n",
              "            '<a target=\"_blank\" href=https://colab.research.google.com/notebooks/data_table.ipynb>data table notebook</a>'\n",
              "            + ' to learn more about interactive tables.';\n",
              "          element.innerHTML = '';\n",
              "          dataTable['output_type'] = 'display_data';\n",
              "          await google.colab.output.renderOutput(dataTable, element);\n",
              "          const docLink = document.createElement('div');\n",
              "          docLink.innerHTML = docLinkHtml;\n",
              "          element.appendChild(docLink);\n",
              "        }\n",
              "      </script>\n",
              "    </div>\n",
              "  </div>\n",
              "  "
            ]
          },
          "metadata": {},
          "execution_count": 8
        }
      ]
    },
    {
      "cell_type": "code",
      "source": [
        "data['Season'] = np.where(data['Season']=='2007/08', '2008', data['Season'])\n",
        "data['Season'] = np.where(data['Season']=='2009/10', '2010', data['Season'])\n",
        "data['Season'] = np.where(data['Season']=='2020/21', '2020', data['Season'])"
      ],
      "metadata": {
        "id": "eNr59ZI5oEbd"
      },
      "execution_count": 27,
      "outputs": []
    },
    {
      "cell_type": "code",
      "source": [
        "data['Season'].unique()"
      ],
      "metadata": {
        "colab": {
          "base_uri": "https://localhost:8080/"
        },
        "id": "RikWLF-ZoOnu",
        "outputId": "0bcc6616-33ac-4143-c3a5-61538ed70bde"
      },
      "execution_count": 28,
      "outputs": [
        {
          "output_type": "execute_result",
          "data": {
            "text/plain": [
              "array(['2022', '2021', '2020', '2019', '2018', '2017', '2016', '2015',\n",
              "       '2014', '2013', '2012', '2011', '2010', '2009', '2008'],\n",
              "      dtype=object)"
            ]
          },
          "metadata": {},
          "execution_count": 28
        }
      ]
    },
    {
      "cell_type": "code",
      "source": [
        "data['Season'] =  data['Season'].astype(int)"
      ],
      "metadata": {
        "id": "C8kumQ6-jAoO"
      },
      "execution_count": 29,
      "outputs": []
    },
    {
      "cell_type": "code",
      "source": [
        "# Define columns to transform\n",
        "numeric_features = ['is_india','inning']\n",
        "categorical_features = ['Venue', 'Batting_team', 'Bowling_team', 'batsmen1', 'batsmen2', 'batsmen3', \n",
        "                        'batsmen4', 'batsmen5', 'batsmen6', 'batsmen7', 'batsmen8', 'batsmen9', 'batsmen10', \n",
        "                        'batsmen11', 'bowler1', 'bowler2', 'bowler3', 'bowler4', 'bowler5', 'bowler6', 'bowler7', 'bowler8', 'bowler9', 'bowler10', 'bowler11']"
      ],
      "metadata": {
        "id": "gdg7r24zd9kK"
      },
      "execution_count": 31,
      "outputs": []
    },
    {
      "cell_type": "code",
      "source": [
        "train_df = data[data['Season']<2021]\n",
        "val_df = data[data['Season']>2020]"
      ],
      "metadata": {
        "id": "JUx6OHlzjj4l"
      },
      "execution_count": 32,
      "outputs": []
    },
    {
      "cell_type": "code",
      "source": [
        "X_train = train_df.drop('powerplay_runs', axis=1)\n",
        "y_train = train_df['powerplay_runs']\n",
        "X_val = val_df.drop('powerplay_runs', axis=1)\n",
        "y_val = val_df['powerplay_runs']"
      ],
      "metadata": {
        "id": "pLeMmxyJnrTC"
      },
      "execution_count": 35,
      "outputs": []
    },
    {
      "cell_type": "code",
      "source": [
        "# Split data into train and test sets\n",
        "# X_train, X_test, y_train, y_test = train_test_split(X, y, test_size=0.2, random_state=42)"
      ],
      "metadata": {
        "id": "VZtcb_cbfF_S"
      },
      "execution_count": 24,
      "outputs": []
    },
    {
      "cell_type": "code",
      "source": [
        "# Define transformers for numeric and categorical features\n",
        "numeric_transformer = Pipeline(steps=[\n",
        "    ('scaler', StandardScaler())])\n",
        "\n",
        "categorical_transformer = Pipeline(steps=[\n",
        "    ('onehot', OneHotEncoder(handle_unknown='ignore'))])"
      ],
      "metadata": {
        "id": "DlFRB1SFfjJo"
      },
      "execution_count": 36,
      "outputs": []
    },
    {
      "cell_type": "code",
      "source": [
        "# Use ColumnTransformer to apply transformers to specific columns\n",
        "preprocessor = ColumnTransformer(\n",
        "    transformers=[\n",
        "        ('cat', categorical_transformer, categorical_features)])"
      ],
      "metadata": {
        "id": "wdjtjxhrfsna"
      },
      "execution_count": 37,
      "outputs": []
    },
    {
      "cell_type": "code",
      "source": [
        "# Create a pipeline that applies the preprocessor and fits a linear regression model\n",
        "model_pipeline = Pipeline(steps=[('preprocessor', preprocessor),\n",
        "                      ('regressor', LinearRegression())])"
      ],
      "metadata": {
        "id": "WJ7fQ2UgfvET"
      },
      "execution_count": 38,
      "outputs": []
    },
    {
      "cell_type": "code",
      "source": [
        "model_pipeline.fit(X_train,y_train)"
      ],
      "metadata": {
        "colab": {
          "base_uri": "https://localhost:8080/",
          "height": 192
        },
        "id": "xq-WhfFGnJ2D",
        "outputId": "f054a82f-e399-4b9d-9737-5cac8836dcfa"
      },
      "execution_count": 39,
      "outputs": [
        {
          "output_type": "execute_result",
          "data": {
            "text/plain": [
              "Pipeline(steps=[('preprocessor',\n",
              "                 ColumnTransformer(transformers=[('cat',\n",
              "                                                  Pipeline(steps=[('onehot',\n",
              "                                                                   OneHotEncoder(handle_unknown='ignore'))]),\n",
              "                                                  ['Venue', 'Batting_team',\n",
              "                                                   'Bowling_team', 'batsmen1',\n",
              "                                                   'batsmen2', 'batsmen3',\n",
              "                                                   'batsmen4', 'batsmen5',\n",
              "                                                   'batsmen6', 'batsmen7',\n",
              "                                                   'batsmen8', 'batsmen9',\n",
              "                                                   'batsmen10', 'batsmen11',\n",
              "                                                   'bowler1', 'bowler2',\n",
              "                                                   'bowler3', 'bowler4',\n",
              "                                                   'bowler5', 'bowler6',\n",
              "                                                   'bowler7', 'bowler8',\n",
              "                                                   'bowler9', 'bowler10',\n",
              "                                                   'bowler11'])])),\n",
              "                ('regressor', LinearRegression())])"
            ],
            "text/html": [
              "<style>#sk-container-id-1 {color: black;background-color: white;}#sk-container-id-1 pre{padding: 0;}#sk-container-id-1 div.sk-toggleable {background-color: white;}#sk-container-id-1 label.sk-toggleable__label {cursor: pointer;display: block;width: 100%;margin-bottom: 0;padding: 0.3em;box-sizing: border-box;text-align: center;}#sk-container-id-1 label.sk-toggleable__label-arrow:before {content: \"▸\";float: left;margin-right: 0.25em;color: #696969;}#sk-container-id-1 label.sk-toggleable__label-arrow:hover:before {color: black;}#sk-container-id-1 div.sk-estimator:hover label.sk-toggleable__label-arrow:before {color: black;}#sk-container-id-1 div.sk-toggleable__content {max-height: 0;max-width: 0;overflow: hidden;text-align: left;background-color: #f0f8ff;}#sk-container-id-1 div.sk-toggleable__content pre {margin: 0.2em;color: black;border-radius: 0.25em;background-color: #f0f8ff;}#sk-container-id-1 input.sk-toggleable__control:checked~div.sk-toggleable__content {max-height: 200px;max-width: 100%;overflow: auto;}#sk-container-id-1 input.sk-toggleable__control:checked~label.sk-toggleable__label-arrow:before {content: \"▾\";}#sk-container-id-1 div.sk-estimator input.sk-toggleable__control:checked~label.sk-toggleable__label {background-color: #d4ebff;}#sk-container-id-1 div.sk-label input.sk-toggleable__control:checked~label.sk-toggleable__label {background-color: #d4ebff;}#sk-container-id-1 input.sk-hidden--visually {border: 0;clip: rect(1px 1px 1px 1px);clip: rect(1px, 1px, 1px, 1px);height: 1px;margin: -1px;overflow: hidden;padding: 0;position: absolute;width: 1px;}#sk-container-id-1 div.sk-estimator {font-family: monospace;background-color: #f0f8ff;border: 1px dotted black;border-radius: 0.25em;box-sizing: border-box;margin-bottom: 0.5em;}#sk-container-id-1 div.sk-estimator:hover {background-color: #d4ebff;}#sk-container-id-1 div.sk-parallel-item::after {content: \"\";width: 100%;border-bottom: 1px solid gray;flex-grow: 1;}#sk-container-id-1 div.sk-label:hover label.sk-toggleable__label {background-color: #d4ebff;}#sk-container-id-1 div.sk-serial::before {content: \"\";position: absolute;border-left: 1px solid gray;box-sizing: border-box;top: 0;bottom: 0;left: 50%;z-index: 0;}#sk-container-id-1 div.sk-serial {display: flex;flex-direction: column;align-items: center;background-color: white;padding-right: 0.2em;padding-left: 0.2em;position: relative;}#sk-container-id-1 div.sk-item {position: relative;z-index: 1;}#sk-container-id-1 div.sk-parallel {display: flex;align-items: stretch;justify-content: center;background-color: white;position: relative;}#sk-container-id-1 div.sk-item::before, #sk-container-id-1 div.sk-parallel-item::before {content: \"\";position: absolute;border-left: 1px solid gray;box-sizing: border-box;top: 0;bottom: 0;left: 50%;z-index: -1;}#sk-container-id-1 div.sk-parallel-item {display: flex;flex-direction: column;z-index: 1;position: relative;background-color: white;}#sk-container-id-1 div.sk-parallel-item:first-child::after {align-self: flex-end;width: 50%;}#sk-container-id-1 div.sk-parallel-item:last-child::after {align-self: flex-start;width: 50%;}#sk-container-id-1 div.sk-parallel-item:only-child::after {width: 0;}#sk-container-id-1 div.sk-dashed-wrapped {border: 1px dashed gray;margin: 0 0.4em 0.5em 0.4em;box-sizing: border-box;padding-bottom: 0.4em;background-color: white;}#sk-container-id-1 div.sk-label label {font-family: monospace;font-weight: bold;display: inline-block;line-height: 1.2em;}#sk-container-id-1 div.sk-label-container {text-align: center;}#sk-container-id-1 div.sk-container {/* jupyter's `normalize.less` sets `[hidden] { display: none; }` but bootstrap.min.css set `[hidden] { display: none !important; }` so we also need the `!important` here to be able to override the default hidden behavior on the sphinx rendered scikit-learn.org. See: https://github.com/scikit-learn/scikit-learn/issues/21755 */display: inline-block !important;position: relative;}#sk-container-id-1 div.sk-text-repr-fallback {display: none;}</style><div id=\"sk-container-id-1\" class=\"sk-top-container\"><div class=\"sk-text-repr-fallback\"><pre>Pipeline(steps=[(&#x27;preprocessor&#x27;,\n",
              "                 ColumnTransformer(transformers=[(&#x27;cat&#x27;,\n",
              "                                                  Pipeline(steps=[(&#x27;onehot&#x27;,\n",
              "                                                                   OneHotEncoder(handle_unknown=&#x27;ignore&#x27;))]),\n",
              "                                                  [&#x27;Venue&#x27;, &#x27;Batting_team&#x27;,\n",
              "                                                   &#x27;Bowling_team&#x27;, &#x27;batsmen1&#x27;,\n",
              "                                                   &#x27;batsmen2&#x27;, &#x27;batsmen3&#x27;,\n",
              "                                                   &#x27;batsmen4&#x27;, &#x27;batsmen5&#x27;,\n",
              "                                                   &#x27;batsmen6&#x27;, &#x27;batsmen7&#x27;,\n",
              "                                                   &#x27;batsmen8&#x27;, &#x27;batsmen9&#x27;,\n",
              "                                                   &#x27;batsmen10&#x27;, &#x27;batsmen11&#x27;,\n",
              "                                                   &#x27;bowler1&#x27;, &#x27;bowler2&#x27;,\n",
              "                                                   &#x27;bowler3&#x27;, &#x27;bowler4&#x27;,\n",
              "                                                   &#x27;bowler5&#x27;, &#x27;bowler6&#x27;,\n",
              "                                                   &#x27;bowler7&#x27;, &#x27;bowler8&#x27;,\n",
              "                                                   &#x27;bowler9&#x27;, &#x27;bowler10&#x27;,\n",
              "                                                   &#x27;bowler11&#x27;])])),\n",
              "                (&#x27;regressor&#x27;, LinearRegression())])</pre><b>In a Jupyter environment, please rerun this cell to show the HTML representation or trust the notebook. <br />On GitHub, the HTML representation is unable to render, please try loading this page with nbviewer.org.</b></div><div class=\"sk-container\" hidden><div class=\"sk-item sk-dashed-wrapped\"><div class=\"sk-label-container\"><div class=\"sk-label sk-toggleable\"><input class=\"sk-toggleable__control sk-hidden--visually\" id=\"sk-estimator-id-1\" type=\"checkbox\" ><label for=\"sk-estimator-id-1\" class=\"sk-toggleable__label sk-toggleable__label-arrow\">Pipeline</label><div class=\"sk-toggleable__content\"><pre>Pipeline(steps=[(&#x27;preprocessor&#x27;,\n",
              "                 ColumnTransformer(transformers=[(&#x27;cat&#x27;,\n",
              "                                                  Pipeline(steps=[(&#x27;onehot&#x27;,\n",
              "                                                                   OneHotEncoder(handle_unknown=&#x27;ignore&#x27;))]),\n",
              "                                                  [&#x27;Venue&#x27;, &#x27;Batting_team&#x27;,\n",
              "                                                   &#x27;Bowling_team&#x27;, &#x27;batsmen1&#x27;,\n",
              "                                                   &#x27;batsmen2&#x27;, &#x27;batsmen3&#x27;,\n",
              "                                                   &#x27;batsmen4&#x27;, &#x27;batsmen5&#x27;,\n",
              "                                                   &#x27;batsmen6&#x27;, &#x27;batsmen7&#x27;,\n",
              "                                                   &#x27;batsmen8&#x27;, &#x27;batsmen9&#x27;,\n",
              "                                                   &#x27;batsmen10&#x27;, &#x27;batsmen11&#x27;,\n",
              "                                                   &#x27;bowler1&#x27;, &#x27;bowler2&#x27;,\n",
              "                                                   &#x27;bowler3&#x27;, &#x27;bowler4&#x27;,\n",
              "                                                   &#x27;bowler5&#x27;, &#x27;bowler6&#x27;,\n",
              "                                                   &#x27;bowler7&#x27;, &#x27;bowler8&#x27;,\n",
              "                                                   &#x27;bowler9&#x27;, &#x27;bowler10&#x27;,\n",
              "                                                   &#x27;bowler11&#x27;])])),\n",
              "                (&#x27;regressor&#x27;, LinearRegression())])</pre></div></div></div><div class=\"sk-serial\"><div class=\"sk-item sk-dashed-wrapped\"><div class=\"sk-label-container\"><div class=\"sk-label sk-toggleable\"><input class=\"sk-toggleable__control sk-hidden--visually\" id=\"sk-estimator-id-2\" type=\"checkbox\" ><label for=\"sk-estimator-id-2\" class=\"sk-toggleable__label sk-toggleable__label-arrow\">preprocessor: ColumnTransformer</label><div class=\"sk-toggleable__content\"><pre>ColumnTransformer(transformers=[(&#x27;cat&#x27;,\n",
              "                                 Pipeline(steps=[(&#x27;onehot&#x27;,\n",
              "                                                  OneHotEncoder(handle_unknown=&#x27;ignore&#x27;))]),\n",
              "                                 [&#x27;Venue&#x27;, &#x27;Batting_team&#x27;, &#x27;Bowling_team&#x27;,\n",
              "                                  &#x27;batsmen1&#x27;, &#x27;batsmen2&#x27;, &#x27;batsmen3&#x27;,\n",
              "                                  &#x27;batsmen4&#x27;, &#x27;batsmen5&#x27;, &#x27;batsmen6&#x27;,\n",
              "                                  &#x27;batsmen7&#x27;, &#x27;batsmen8&#x27;, &#x27;batsmen9&#x27;,\n",
              "                                  &#x27;batsmen10&#x27;, &#x27;batsmen11&#x27;, &#x27;bowler1&#x27;,\n",
              "                                  &#x27;bowler2&#x27;, &#x27;bowler3&#x27;, &#x27;bowler4&#x27;, &#x27;bowler5&#x27;,\n",
              "                                  &#x27;bowler6&#x27;, &#x27;bowler7&#x27;, &#x27;bowler8&#x27;, &#x27;bowler9&#x27;,\n",
              "                                  &#x27;bowler10&#x27;, &#x27;bowler11&#x27;])])</pre></div></div></div><div class=\"sk-parallel\"><div class=\"sk-parallel-item\"><div class=\"sk-item\"><div class=\"sk-label-container\"><div class=\"sk-label sk-toggleable\"><input class=\"sk-toggleable__control sk-hidden--visually\" id=\"sk-estimator-id-3\" type=\"checkbox\" ><label for=\"sk-estimator-id-3\" class=\"sk-toggleable__label sk-toggleable__label-arrow\">cat</label><div class=\"sk-toggleable__content\"><pre>[&#x27;Venue&#x27;, &#x27;Batting_team&#x27;, &#x27;Bowling_team&#x27;, &#x27;batsmen1&#x27;, &#x27;batsmen2&#x27;, &#x27;batsmen3&#x27;, &#x27;batsmen4&#x27;, &#x27;batsmen5&#x27;, &#x27;batsmen6&#x27;, &#x27;batsmen7&#x27;, &#x27;batsmen8&#x27;, &#x27;batsmen9&#x27;, &#x27;batsmen10&#x27;, &#x27;batsmen11&#x27;, &#x27;bowler1&#x27;, &#x27;bowler2&#x27;, &#x27;bowler3&#x27;, &#x27;bowler4&#x27;, &#x27;bowler5&#x27;, &#x27;bowler6&#x27;, &#x27;bowler7&#x27;, &#x27;bowler8&#x27;, &#x27;bowler9&#x27;, &#x27;bowler10&#x27;, &#x27;bowler11&#x27;]</pre></div></div></div><div class=\"sk-serial\"><div class=\"sk-item\"><div class=\"sk-serial\"><div class=\"sk-item\"><div class=\"sk-estimator sk-toggleable\"><input class=\"sk-toggleable__control sk-hidden--visually\" id=\"sk-estimator-id-4\" type=\"checkbox\" ><label for=\"sk-estimator-id-4\" class=\"sk-toggleable__label sk-toggleable__label-arrow\">OneHotEncoder</label><div class=\"sk-toggleable__content\"><pre>OneHotEncoder(handle_unknown=&#x27;ignore&#x27;)</pre></div></div></div></div></div></div></div></div></div></div><div class=\"sk-item\"><div class=\"sk-estimator sk-toggleable\"><input class=\"sk-toggleable__control sk-hidden--visually\" id=\"sk-estimator-id-5\" type=\"checkbox\" ><label for=\"sk-estimator-id-5\" class=\"sk-toggleable__label sk-toggleable__label-arrow\">LinearRegression</label><div class=\"sk-toggleable__content\"><pre>LinearRegression()</pre></div></div></div></div></div></div></div>"
            ]
          },
          "metadata": {},
          "execution_count": 39
        }
      ]
    },
    {
      "cell_type": "code",
      "source": [
        "score = model_pipeline.score(X_val, y_val)"
      ],
      "metadata": {
        "id": "MLYqENXop7CH"
      },
      "execution_count": 41,
      "outputs": []
    },
    {
      "cell_type": "code",
      "source": [
        "score"
      ],
      "metadata": {
        "colab": {
          "base_uri": "https://localhost:8080/"
        },
        "id": "tAzfC9bAqMY6",
        "outputId": "65a384c9-4002-4301-d017-4a9d8ae78fcd"
      },
      "execution_count": 42,
      "outputs": [
        {
          "output_type": "execute_result",
          "data": {
            "text/plain": [
              "-0.5423211202367737"
            ]
          },
          "metadata": {},
          "execution_count": 42
        }
      ]
    }
  ]
}