{
  "nbformat": 4,
  "nbformat_minor": 0,
  "metadata": {
    "colab": {
      "provenance": [],
      "mount_file_id": "1kaZ0lU_7yrVDPoe9RMmgmBPo1X05IPth",
      "authorship_tag": "ABX9TyNuO9vMBtqS0Az2tBP/H/jf",
      "include_colab_link": true
    },
    "kernelspec": {
      "name": "python3",
      "display_name": "Python 3"
    },
    "language_info": {
      "name": "python"
    }
  },
  "cells": [
    {
      "cell_type": "markdown",
      "metadata": {
        "id": "view-in-github",
        "colab_type": "text"
      },
      "source": [
        "<a href=\"https://colab.research.google.com/github/Manish-k723/Cricket-score-prediction/blob/main/Cricket_Prediction.ipynb\" target=\"_parent\"><img src=\"https://colab.research.google.com/assets/colab-badge.svg\" alt=\"Open In Colab\"/></a>"
      ]
    },
    {
      "cell_type": "markdown",
      "source": [
        "# **Importing Data**"
      ],
      "metadata": {
        "id": "WahSCuxxz2Ah"
      }
    },
    {
      "cell_type": "code",
      "execution_count": 1,
      "metadata": {
        "id": "pOLo0y85v88y"
      },
      "outputs": [],
      "source": [
        "import pandas as pd\n",
        "import numpy as np"
      ]
    },
    {
      "cell_type": "code",
      "source": [
        "result_df = pd.read_csv('/content/drive/MyDrive/Colab Notebooks/IPL_Matches_Result_2008_2022.csv')\n",
        "input_format_df = pd.read_csv('/content/drive/MyDrive/Colab Notebooks/input_test_file.csv')\n",
        "df = pd.read_csv('/content/drive/MyDrive/Colab Notebooks/IPL_Ball_by_Ball_2008_2022.csv')"
      ],
      "metadata": {
        "id": "1ZfmDnLkwBmG"
      },
      "execution_count": 2,
      "outputs": []
    },
    {
      "cell_type": "code",
      "source": [
        "input_format_df"
      ],
      "metadata": {
        "colab": {
          "base_uri": "https://localhost:8080/",
          "height": 156
        },
        "id": "uLoUGRQvwY2A",
        "outputId": "3856d0fa-d866-4445-c0a0-94596b96bb2b"
      },
      "execution_count": 3,
      "outputs": [
        {
          "output_type": "execute_result",
          "data": {
            "text/plain": [
              "                    venue  innings           batting_team  \\\n",
              "0  MA Chidambaram Stadium        1         Mumbai Indians   \n",
              "1  MA Chidambaram Stadium        2  Kolkata Knight Riders   \n",
              "\n",
              "            bowling_team                                            batsmen  \\\n",
              "0  Kolkata Knight Riders    Quinton de Kock, Rohit Sharma, Suryakumar Yadav   \n",
              "1         Mumbai Indians  Harbhajan Singh, Varun Chakravarthy, Shakib Al...   \n",
              "\n",
              "                                             bowlers  \n",
              "0  Harbhajan Singh, Varun Chakravarthy, Shakib Al...  \n",
              "1    Quinton de Kock, Rohit Sharma, Suryakumar Yadav  "
            ],
            "text/html": [
              "\n",
              "  <div id=\"df-521a3f6a-06a5-4334-9e86-a116a67648f0\">\n",
              "    <div class=\"colab-df-container\">\n",
              "      <div>\n",
              "<style scoped>\n",
              "    .dataframe tbody tr th:only-of-type {\n",
              "        vertical-align: middle;\n",
              "    }\n",
              "\n",
              "    .dataframe tbody tr th {\n",
              "        vertical-align: top;\n",
              "    }\n",
              "\n",
              "    .dataframe thead th {\n",
              "        text-align: right;\n",
              "    }\n",
              "</style>\n",
              "<table border=\"1\" class=\"dataframe\">\n",
              "  <thead>\n",
              "    <tr style=\"text-align: right;\">\n",
              "      <th></th>\n",
              "      <th>venue</th>\n",
              "      <th>innings</th>\n",
              "      <th>batting_team</th>\n",
              "      <th>bowling_team</th>\n",
              "      <th>batsmen</th>\n",
              "      <th>bowlers</th>\n",
              "    </tr>\n",
              "  </thead>\n",
              "  <tbody>\n",
              "    <tr>\n",
              "      <th>0</th>\n",
              "      <td>MA Chidambaram Stadium</td>\n",
              "      <td>1</td>\n",
              "      <td>Mumbai Indians</td>\n",
              "      <td>Kolkata Knight Riders</td>\n",
              "      <td>Quinton de Kock, Rohit Sharma, Suryakumar Yadav</td>\n",
              "      <td>Harbhajan Singh, Varun Chakravarthy, Shakib Al...</td>\n",
              "    </tr>\n",
              "    <tr>\n",
              "      <th>1</th>\n",
              "      <td>MA Chidambaram Stadium</td>\n",
              "      <td>2</td>\n",
              "      <td>Kolkata Knight Riders</td>\n",
              "      <td>Mumbai Indians</td>\n",
              "      <td>Harbhajan Singh, Varun Chakravarthy, Shakib Al...</td>\n",
              "      <td>Quinton de Kock, Rohit Sharma, Suryakumar Yadav</td>\n",
              "    </tr>\n",
              "  </tbody>\n",
              "</table>\n",
              "</div>\n",
              "      <button class=\"colab-df-convert\" onclick=\"convertToInteractive('df-521a3f6a-06a5-4334-9e86-a116a67648f0')\"\n",
              "              title=\"Convert this dataframe to an interactive table.\"\n",
              "              style=\"display:none;\">\n",
              "        \n",
              "  <svg xmlns=\"http://www.w3.org/2000/svg\" height=\"24px\"viewBox=\"0 0 24 24\"\n",
              "       width=\"24px\">\n",
              "    <path d=\"M0 0h24v24H0V0z\" fill=\"none\"/>\n",
              "    <path d=\"M18.56 5.44l.94 2.06.94-2.06 2.06-.94-2.06-.94-.94-2.06-.94 2.06-2.06.94zm-11 1L8.5 8.5l.94-2.06 2.06-.94-2.06-.94L8.5 2.5l-.94 2.06-2.06.94zm10 10l.94 2.06.94-2.06 2.06-.94-2.06-.94-.94-2.06-.94 2.06-2.06.94z\"/><path d=\"M17.41 7.96l-1.37-1.37c-.4-.4-.92-.59-1.43-.59-.52 0-1.04.2-1.43.59L10.3 9.45l-7.72 7.72c-.78.78-.78 2.05 0 2.83L4 21.41c.39.39.9.59 1.41.59.51 0 1.02-.2 1.41-.59l7.78-7.78 2.81-2.81c.8-.78.8-2.07 0-2.86zM5.41 20L4 18.59l7.72-7.72 1.47 1.35L5.41 20z\"/>\n",
              "  </svg>\n",
              "      </button>\n",
              "      \n",
              "  <style>\n",
              "    .colab-df-container {\n",
              "      display:flex;\n",
              "      flex-wrap:wrap;\n",
              "      gap: 12px;\n",
              "    }\n",
              "\n",
              "    .colab-df-convert {\n",
              "      background-color: #E8F0FE;\n",
              "      border: none;\n",
              "      border-radius: 50%;\n",
              "      cursor: pointer;\n",
              "      display: none;\n",
              "      fill: #1967D2;\n",
              "      height: 32px;\n",
              "      padding: 0 0 0 0;\n",
              "      width: 32px;\n",
              "    }\n",
              "\n",
              "    .colab-df-convert:hover {\n",
              "      background-color: #E2EBFA;\n",
              "      box-shadow: 0px 1px 2px rgba(60, 64, 67, 0.3), 0px 1px 3px 1px rgba(60, 64, 67, 0.15);\n",
              "      fill: #174EA6;\n",
              "    }\n",
              "\n",
              "    [theme=dark] .colab-df-convert {\n",
              "      background-color: #3B4455;\n",
              "      fill: #D2E3FC;\n",
              "    }\n",
              "\n",
              "    [theme=dark] .colab-df-convert:hover {\n",
              "      background-color: #434B5C;\n",
              "      box-shadow: 0px 1px 3px 1px rgba(0, 0, 0, 0.15);\n",
              "      filter: drop-shadow(0px 1px 2px rgba(0, 0, 0, 0.3));\n",
              "      fill: #FFFFFF;\n",
              "    }\n",
              "  </style>\n",
              "\n",
              "      <script>\n",
              "        const buttonEl =\n",
              "          document.querySelector('#df-521a3f6a-06a5-4334-9e86-a116a67648f0 button.colab-df-convert');\n",
              "        buttonEl.style.display =\n",
              "          google.colab.kernel.accessAllowed ? 'block' : 'none';\n",
              "\n",
              "        async function convertToInteractive(key) {\n",
              "          const element = document.querySelector('#df-521a3f6a-06a5-4334-9e86-a116a67648f0');\n",
              "          const dataTable =\n",
              "            await google.colab.kernel.invokeFunction('convertToInteractive',\n",
              "                                                     [key], {});\n",
              "          if (!dataTable) return;\n",
              "\n",
              "          const docLinkHtml = 'Like what you see? Visit the ' +\n",
              "            '<a target=\"_blank\" href=https://colab.research.google.com/notebooks/data_table.ipynb>data table notebook</a>'\n",
              "            + ' to learn more about interactive tables.';\n",
              "          element.innerHTML = '';\n",
              "          dataTable['output_type'] = 'display_data';\n",
              "          await google.colab.output.renderOutput(dataTable, element);\n",
              "          const docLink = document.createElement('div');\n",
              "          docLink.innerHTML = docLinkHtml;\n",
              "          element.appendChild(docLink);\n",
              "        }\n",
              "      </script>\n",
              "    </div>\n",
              "  </div>\n",
              "  "
            ]
          },
          "metadata": {},
          "execution_count": 3
        }
      ]
    },
    {
      "cell_type": "markdown",
      "source": [
        "These are our input columns and we have to use this much data for prediction."
      ],
      "metadata": {
        "id": "JKiZ22pJxher"
      }
    },
    {
      "cell_type": "code",
      "source": [
        "result_df.shape"
      ],
      "metadata": {
        "colab": {
          "base_uri": "https://localhost:8080/"
        },
        "id": "luU9cqhFxZJ4",
        "outputId": "a44c1ea8-ac42-4d19-bc2d-df5b1faa7b7b"
      },
      "execution_count": 4,
      "outputs": [
        {
          "output_type": "execute_result",
          "data": {
            "text/plain": [
              "(950, 20)"
            ]
          },
          "metadata": {},
          "execution_count": 4
        }
      ]
    },
    {
      "cell_type": "code",
      "source": [
        "result_df.sample(3)"
      ],
      "metadata": {
        "colab": {
          "base_uri": "https://localhost:8080/",
          "height": 381
        },
        "id": "E2-X2Hmrwbm2",
        "outputId": "53cba59a-81d0-4220-8ee4-350c820d1e71"
      },
      "execution_count": 5,
      "outputs": [
        {
          "output_type": "execute_result",
          "data": {
            "text/plain": [
              "          ID        City        Date   Season MatchNumber             Team1  \\\n",
              "138  1216495         NaN  2020-11-03  2020/21          56    Mumbai Indians   \n",
              "11   1304109      Mumbai  2022-05-15     2022          63  Rajasthan Royals   \n",
              "635   548374  Dharamsala  2012-05-19     2012          69   Kings XI Punjab   \n",
              "\n",
              "                    Team2                                         Venue  \\\n",
              "138   Sunrisers Hyderabad                       Sharjah Cricket Stadium   \n",
              "11   Lucknow Super Giants                     Brabourne Stadium, Mumbai   \n",
              "635      Delhi Daredevils  Himachal Pradesh Cricket Association Stadium   \n",
              "\n",
              "              TossWinner TossDecision SuperOver          WinningTeam    WonBy  \\\n",
              "138  Sunrisers Hyderabad        field         N  Sunrisers Hyderabad  Wickets   \n",
              "11      Rajasthan Royals          bat         N     Rajasthan Royals     Runs   \n",
              "635     Delhi Daredevils        field         N     Delhi Daredevils  Wickets   \n",
              "\n",
              "     Margin method Player_of_Match  \\\n",
              "138    10.0    NaN        S Nadeem   \n",
              "11     24.0    NaN        TA Boult   \n",
              "635     6.0    NaN        UT Yadav   \n",
              "\n",
              "                                          Team1Players  \\\n",
              "138  ['RG Sharma', 'Q de Kock', 'SA Yadav', 'Ishan ...   \n",
              "11   ['YBK Jaiswal', 'JC Buttler', 'SV Samson', 'D ...   \n",
              "635  ['AC Gilchrist', 'Mandeep Singh', 'PC Valthaty...   \n",
              "\n",
              "                                          Team2Players        Umpire1  \\\n",
              "138  ['DA Warner', 'WP Saha', 'MK Pandey', 'KS Will...  C Shamshuddin   \n",
              "11   ['Q de Kock', 'KL Rahul', 'A Badoni', 'DJ Hood...      PG Pathak   \n",
              "635  ['UBT Chand', 'DA Warner', 'Y Venugopal Rao', ...      BF Bowden   \n",
              "\n",
              "            Umpire2  \n",
              "138  RK Illingworth  \n",
              "11     Tapan Sharma  \n",
              "635     VA Kulkarni  "
            ],
            "text/html": [
              "\n",
              "  <div id=\"df-6dfcb2d0-e5a2-4db4-b288-2e6f4a4cd27c\">\n",
              "    <div class=\"colab-df-container\">\n",
              "      <div>\n",
              "<style scoped>\n",
              "    .dataframe tbody tr th:only-of-type {\n",
              "        vertical-align: middle;\n",
              "    }\n",
              "\n",
              "    .dataframe tbody tr th {\n",
              "        vertical-align: top;\n",
              "    }\n",
              "\n",
              "    .dataframe thead th {\n",
              "        text-align: right;\n",
              "    }\n",
              "</style>\n",
              "<table border=\"1\" class=\"dataframe\">\n",
              "  <thead>\n",
              "    <tr style=\"text-align: right;\">\n",
              "      <th></th>\n",
              "      <th>ID</th>\n",
              "      <th>City</th>\n",
              "      <th>Date</th>\n",
              "      <th>Season</th>\n",
              "      <th>MatchNumber</th>\n",
              "      <th>Team1</th>\n",
              "      <th>Team2</th>\n",
              "      <th>Venue</th>\n",
              "      <th>TossWinner</th>\n",
              "      <th>TossDecision</th>\n",
              "      <th>SuperOver</th>\n",
              "      <th>WinningTeam</th>\n",
              "      <th>WonBy</th>\n",
              "      <th>Margin</th>\n",
              "      <th>method</th>\n",
              "      <th>Player_of_Match</th>\n",
              "      <th>Team1Players</th>\n",
              "      <th>Team2Players</th>\n",
              "      <th>Umpire1</th>\n",
              "      <th>Umpire2</th>\n",
              "    </tr>\n",
              "  </thead>\n",
              "  <tbody>\n",
              "    <tr>\n",
              "      <th>138</th>\n",
              "      <td>1216495</td>\n",
              "      <td>NaN</td>\n",
              "      <td>2020-11-03</td>\n",
              "      <td>2020/21</td>\n",
              "      <td>56</td>\n",
              "      <td>Mumbai Indians</td>\n",
              "      <td>Sunrisers Hyderabad</td>\n",
              "      <td>Sharjah Cricket Stadium</td>\n",
              "      <td>Sunrisers Hyderabad</td>\n",
              "      <td>field</td>\n",
              "      <td>N</td>\n",
              "      <td>Sunrisers Hyderabad</td>\n",
              "      <td>Wickets</td>\n",
              "      <td>10.0</td>\n",
              "      <td>NaN</td>\n",
              "      <td>S Nadeem</td>\n",
              "      <td>['RG Sharma', 'Q de Kock', 'SA Yadav', 'Ishan ...</td>\n",
              "      <td>['DA Warner', 'WP Saha', 'MK Pandey', 'KS Will...</td>\n",
              "      <td>C Shamshuddin</td>\n",
              "      <td>RK Illingworth</td>\n",
              "    </tr>\n",
              "    <tr>\n",
              "      <th>11</th>\n",
              "      <td>1304109</td>\n",
              "      <td>Mumbai</td>\n",
              "      <td>2022-05-15</td>\n",
              "      <td>2022</td>\n",
              "      <td>63</td>\n",
              "      <td>Rajasthan Royals</td>\n",
              "      <td>Lucknow Super Giants</td>\n",
              "      <td>Brabourne Stadium, Mumbai</td>\n",
              "      <td>Rajasthan Royals</td>\n",
              "      <td>bat</td>\n",
              "      <td>N</td>\n",
              "      <td>Rajasthan Royals</td>\n",
              "      <td>Runs</td>\n",
              "      <td>24.0</td>\n",
              "      <td>NaN</td>\n",
              "      <td>TA Boult</td>\n",
              "      <td>['YBK Jaiswal', 'JC Buttler', 'SV Samson', 'D ...</td>\n",
              "      <td>['Q de Kock', 'KL Rahul', 'A Badoni', 'DJ Hood...</td>\n",
              "      <td>PG Pathak</td>\n",
              "      <td>Tapan Sharma</td>\n",
              "    </tr>\n",
              "    <tr>\n",
              "      <th>635</th>\n",
              "      <td>548374</td>\n",
              "      <td>Dharamsala</td>\n",
              "      <td>2012-05-19</td>\n",
              "      <td>2012</td>\n",
              "      <td>69</td>\n",
              "      <td>Kings XI Punjab</td>\n",
              "      <td>Delhi Daredevils</td>\n",
              "      <td>Himachal Pradesh Cricket Association Stadium</td>\n",
              "      <td>Delhi Daredevils</td>\n",
              "      <td>field</td>\n",
              "      <td>N</td>\n",
              "      <td>Delhi Daredevils</td>\n",
              "      <td>Wickets</td>\n",
              "      <td>6.0</td>\n",
              "      <td>NaN</td>\n",
              "      <td>UT Yadav</td>\n",
              "      <td>['AC Gilchrist', 'Mandeep Singh', 'PC Valthaty...</td>\n",
              "      <td>['UBT Chand', 'DA Warner', 'Y Venugopal Rao', ...</td>\n",
              "      <td>BF Bowden</td>\n",
              "      <td>VA Kulkarni</td>\n",
              "    </tr>\n",
              "  </tbody>\n",
              "</table>\n",
              "</div>\n",
              "      <button class=\"colab-df-convert\" onclick=\"convertToInteractive('df-6dfcb2d0-e5a2-4db4-b288-2e6f4a4cd27c')\"\n",
              "              title=\"Convert this dataframe to an interactive table.\"\n",
              "              style=\"display:none;\">\n",
              "        \n",
              "  <svg xmlns=\"http://www.w3.org/2000/svg\" height=\"24px\"viewBox=\"0 0 24 24\"\n",
              "       width=\"24px\">\n",
              "    <path d=\"M0 0h24v24H0V0z\" fill=\"none\"/>\n",
              "    <path d=\"M18.56 5.44l.94 2.06.94-2.06 2.06-.94-2.06-.94-.94-2.06-.94 2.06-2.06.94zm-11 1L8.5 8.5l.94-2.06 2.06-.94-2.06-.94L8.5 2.5l-.94 2.06-2.06.94zm10 10l.94 2.06.94-2.06 2.06-.94-2.06-.94-.94-2.06-.94 2.06-2.06.94z\"/><path d=\"M17.41 7.96l-1.37-1.37c-.4-.4-.92-.59-1.43-.59-.52 0-1.04.2-1.43.59L10.3 9.45l-7.72 7.72c-.78.78-.78 2.05 0 2.83L4 21.41c.39.39.9.59 1.41.59.51 0 1.02-.2 1.41-.59l7.78-7.78 2.81-2.81c.8-.78.8-2.07 0-2.86zM5.41 20L4 18.59l7.72-7.72 1.47 1.35L5.41 20z\"/>\n",
              "  </svg>\n",
              "      </button>\n",
              "      \n",
              "  <style>\n",
              "    .colab-df-container {\n",
              "      display:flex;\n",
              "      flex-wrap:wrap;\n",
              "      gap: 12px;\n",
              "    }\n",
              "\n",
              "    .colab-df-convert {\n",
              "      background-color: #E8F0FE;\n",
              "      border: none;\n",
              "      border-radius: 50%;\n",
              "      cursor: pointer;\n",
              "      display: none;\n",
              "      fill: #1967D2;\n",
              "      height: 32px;\n",
              "      padding: 0 0 0 0;\n",
              "      width: 32px;\n",
              "    }\n",
              "\n",
              "    .colab-df-convert:hover {\n",
              "      background-color: #E2EBFA;\n",
              "      box-shadow: 0px 1px 2px rgba(60, 64, 67, 0.3), 0px 1px 3px 1px rgba(60, 64, 67, 0.15);\n",
              "      fill: #174EA6;\n",
              "    }\n",
              "\n",
              "    [theme=dark] .colab-df-convert {\n",
              "      background-color: #3B4455;\n",
              "      fill: #D2E3FC;\n",
              "    }\n",
              "\n",
              "    [theme=dark] .colab-df-convert:hover {\n",
              "      background-color: #434B5C;\n",
              "      box-shadow: 0px 1px 3px 1px rgba(0, 0, 0, 0.15);\n",
              "      filter: drop-shadow(0px 1px 2px rgba(0, 0, 0, 0.3));\n",
              "      fill: #FFFFFF;\n",
              "    }\n",
              "  </style>\n",
              "\n",
              "      <script>\n",
              "        const buttonEl =\n",
              "          document.querySelector('#df-6dfcb2d0-e5a2-4db4-b288-2e6f4a4cd27c button.colab-df-convert');\n",
              "        buttonEl.style.display =\n",
              "          google.colab.kernel.accessAllowed ? 'block' : 'none';\n",
              "\n",
              "        async function convertToInteractive(key) {\n",
              "          const element = document.querySelector('#df-6dfcb2d0-e5a2-4db4-b288-2e6f4a4cd27c');\n",
              "          const dataTable =\n",
              "            await google.colab.kernel.invokeFunction('convertToInteractive',\n",
              "                                                     [key], {});\n",
              "          if (!dataTable) return;\n",
              "\n",
              "          const docLinkHtml = 'Like what you see? Visit the ' +\n",
              "            '<a target=\"_blank\" href=https://colab.research.google.com/notebooks/data_table.ipynb>data table notebook</a>'\n",
              "            + ' to learn more about interactive tables.';\n",
              "          element.innerHTML = '';\n",
              "          dataTable['output_type'] = 'display_data';\n",
              "          await google.colab.output.renderOutput(dataTable, element);\n",
              "          const docLink = document.createElement('div');\n",
              "          docLink.innerHTML = docLinkHtml;\n",
              "          element.appendChild(docLink);\n",
              "        }\n",
              "      </script>\n",
              "    </div>\n",
              "  </div>\n",
              "  "
            ]
          },
          "metadata": {},
          "execution_count": 5
        }
      ]
    },
    {
      "cell_type": "code",
      "source": [
        "result_df.isna().mean()*100"
      ],
      "metadata": {
        "colab": {
          "base_uri": "https://localhost:8080/"
        },
        "id": "-yYT58DFwfc_",
        "outputId": "e24eb070-caec-4e97-c092-a46517790ce1"
      },
      "execution_count": 6,
      "outputs": [
        {
          "output_type": "execute_result",
          "data": {
            "text/plain": [
              "ID                  0.000000\n",
              "City                5.368421\n",
              "Date                0.000000\n",
              "Season              0.000000\n",
              "MatchNumber         0.000000\n",
              "Team1               0.000000\n",
              "Team2               0.000000\n",
              "Venue               0.000000\n",
              "TossWinner          0.000000\n",
              "TossDecision        0.000000\n",
              "SuperOver           0.421053\n",
              "WinningTeam         0.421053\n",
              "WonBy               0.000000\n",
              "Margin              1.894737\n",
              "method             98.000000\n",
              "Player_of_Match     0.421053\n",
              "Team1Players        0.000000\n",
              "Team2Players        0.000000\n",
              "Umpire1             0.000000\n",
              "Umpire2             0.000000\n",
              "dtype: float64"
            ]
          },
          "metadata": {},
          "execution_count": 6
        }
      ]
    },
    {
      "cell_type": "markdown",
      "source": [
        "98% of the data is not available in margin column. Easy decision to drop it."
      ],
      "metadata": {
        "id": "j6rQtoYAxvTA"
      }
    },
    {
      "cell_type": "code",
      "source": [
        "df.shape"
      ],
      "metadata": {
        "colab": {
          "base_uri": "https://localhost:8080/"
        },
        "id": "_owoq8j6xu6y",
        "outputId": "160f7d40-fe41-467a-b792-1308dc0147af"
      },
      "execution_count": 7,
      "outputs": [
        {
          "output_type": "execute_result",
          "data": {
            "text/plain": [
              "(225954, 17)"
            ]
          },
          "metadata": {},
          "execution_count": 7
        }
      ]
    },
    {
      "cell_type": "code",
      "source": [
        "result_df[result_df.ID == 1312200]"
      ],
      "metadata": {
        "colab": {
          "base_uri": "https://localhost:8080/",
          "height": 214
        },
        "id": "1GFQrjeocT1x",
        "outputId": "f75fa859-e4a1-4fb2-be40-bba5f1567461"
      },
      "execution_count": 8,
      "outputs": [
        {
          "output_type": "execute_result",
          "data": {
            "text/plain": [
              "        ID       City        Date Season MatchNumber             Team1  \\\n",
              "0  1312200  Ahmedabad  2022-05-29   2022       Final  Rajasthan Royals   \n",
              "\n",
              "            Team2                             Venue        TossWinner  \\\n",
              "0  Gujarat Titans  Narendra Modi Stadium, Ahmedabad  Rajasthan Royals   \n",
              "\n",
              "  TossDecision SuperOver     WinningTeam    WonBy  Margin method  \\\n",
              "0          bat         N  Gujarat Titans  Wickets     7.0    NaN   \n",
              "\n",
              "  Player_of_Match                                       Team1Players  \\\n",
              "0       HH Pandya  ['YBK Jaiswal', 'JC Buttler', 'SV Samson', 'D ...   \n",
              "\n",
              "                                        Team2Players      Umpire1      Umpire2  \n",
              "0  ['WP Saha', 'Shubman Gill', 'MS Wade', 'HH Pan...  CB Gaffaney  Nitin Menon  "
            ],
            "text/html": [
              "\n",
              "  <div id=\"df-8bfa70c8-1816-49b1-9a32-d108920e93be\">\n",
              "    <div class=\"colab-df-container\">\n",
              "      <div>\n",
              "<style scoped>\n",
              "    .dataframe tbody tr th:only-of-type {\n",
              "        vertical-align: middle;\n",
              "    }\n",
              "\n",
              "    .dataframe tbody tr th {\n",
              "        vertical-align: top;\n",
              "    }\n",
              "\n",
              "    .dataframe thead th {\n",
              "        text-align: right;\n",
              "    }\n",
              "</style>\n",
              "<table border=\"1\" class=\"dataframe\">\n",
              "  <thead>\n",
              "    <tr style=\"text-align: right;\">\n",
              "      <th></th>\n",
              "      <th>ID</th>\n",
              "      <th>City</th>\n",
              "      <th>Date</th>\n",
              "      <th>Season</th>\n",
              "      <th>MatchNumber</th>\n",
              "      <th>Team1</th>\n",
              "      <th>Team2</th>\n",
              "      <th>Venue</th>\n",
              "      <th>TossWinner</th>\n",
              "      <th>TossDecision</th>\n",
              "      <th>SuperOver</th>\n",
              "      <th>WinningTeam</th>\n",
              "      <th>WonBy</th>\n",
              "      <th>Margin</th>\n",
              "      <th>method</th>\n",
              "      <th>Player_of_Match</th>\n",
              "      <th>Team1Players</th>\n",
              "      <th>Team2Players</th>\n",
              "      <th>Umpire1</th>\n",
              "      <th>Umpire2</th>\n",
              "    </tr>\n",
              "  </thead>\n",
              "  <tbody>\n",
              "    <tr>\n",
              "      <th>0</th>\n",
              "      <td>1312200</td>\n",
              "      <td>Ahmedabad</td>\n",
              "      <td>2022-05-29</td>\n",
              "      <td>2022</td>\n",
              "      <td>Final</td>\n",
              "      <td>Rajasthan Royals</td>\n",
              "      <td>Gujarat Titans</td>\n",
              "      <td>Narendra Modi Stadium, Ahmedabad</td>\n",
              "      <td>Rajasthan Royals</td>\n",
              "      <td>bat</td>\n",
              "      <td>N</td>\n",
              "      <td>Gujarat Titans</td>\n",
              "      <td>Wickets</td>\n",
              "      <td>7.0</td>\n",
              "      <td>NaN</td>\n",
              "      <td>HH Pandya</td>\n",
              "      <td>['YBK Jaiswal', 'JC Buttler', 'SV Samson', 'D ...</td>\n",
              "      <td>['WP Saha', 'Shubman Gill', 'MS Wade', 'HH Pan...</td>\n",
              "      <td>CB Gaffaney</td>\n",
              "      <td>Nitin Menon</td>\n",
              "    </tr>\n",
              "  </tbody>\n",
              "</table>\n",
              "</div>\n",
              "      <button class=\"colab-df-convert\" onclick=\"convertToInteractive('df-8bfa70c8-1816-49b1-9a32-d108920e93be')\"\n",
              "              title=\"Convert this dataframe to an interactive table.\"\n",
              "              style=\"display:none;\">\n",
              "        \n",
              "  <svg xmlns=\"http://www.w3.org/2000/svg\" height=\"24px\"viewBox=\"0 0 24 24\"\n",
              "       width=\"24px\">\n",
              "    <path d=\"M0 0h24v24H0V0z\" fill=\"none\"/>\n",
              "    <path d=\"M18.56 5.44l.94 2.06.94-2.06 2.06-.94-2.06-.94-.94-2.06-.94 2.06-2.06.94zm-11 1L8.5 8.5l.94-2.06 2.06-.94-2.06-.94L8.5 2.5l-.94 2.06-2.06.94zm10 10l.94 2.06.94-2.06 2.06-.94-2.06-.94-.94-2.06-.94 2.06-2.06.94z\"/><path d=\"M17.41 7.96l-1.37-1.37c-.4-.4-.92-.59-1.43-.59-.52 0-1.04.2-1.43.59L10.3 9.45l-7.72 7.72c-.78.78-.78 2.05 0 2.83L4 21.41c.39.39.9.59 1.41.59.51 0 1.02-.2 1.41-.59l7.78-7.78 2.81-2.81c.8-.78.8-2.07 0-2.86zM5.41 20L4 18.59l7.72-7.72 1.47 1.35L5.41 20z\"/>\n",
              "  </svg>\n",
              "      </button>\n",
              "      \n",
              "  <style>\n",
              "    .colab-df-container {\n",
              "      display:flex;\n",
              "      flex-wrap:wrap;\n",
              "      gap: 12px;\n",
              "    }\n",
              "\n",
              "    .colab-df-convert {\n",
              "      background-color: #E8F0FE;\n",
              "      border: none;\n",
              "      border-radius: 50%;\n",
              "      cursor: pointer;\n",
              "      display: none;\n",
              "      fill: #1967D2;\n",
              "      height: 32px;\n",
              "      padding: 0 0 0 0;\n",
              "      width: 32px;\n",
              "    }\n",
              "\n",
              "    .colab-df-convert:hover {\n",
              "      background-color: #E2EBFA;\n",
              "      box-shadow: 0px 1px 2px rgba(60, 64, 67, 0.3), 0px 1px 3px 1px rgba(60, 64, 67, 0.15);\n",
              "      fill: #174EA6;\n",
              "    }\n",
              "\n",
              "    [theme=dark] .colab-df-convert {\n",
              "      background-color: #3B4455;\n",
              "      fill: #D2E3FC;\n",
              "    }\n",
              "\n",
              "    [theme=dark] .colab-df-convert:hover {\n",
              "      background-color: #434B5C;\n",
              "      box-shadow: 0px 1px 3px 1px rgba(0, 0, 0, 0.15);\n",
              "      filter: drop-shadow(0px 1px 2px rgba(0, 0, 0, 0.3));\n",
              "      fill: #FFFFFF;\n",
              "    }\n",
              "  </style>\n",
              "\n",
              "      <script>\n",
              "        const buttonEl =\n",
              "          document.querySelector('#df-8bfa70c8-1816-49b1-9a32-d108920e93be button.colab-df-convert');\n",
              "        buttonEl.style.display =\n",
              "          google.colab.kernel.accessAllowed ? 'block' : 'none';\n",
              "\n",
              "        async function convertToInteractive(key) {\n",
              "          const element = document.querySelector('#df-8bfa70c8-1816-49b1-9a32-d108920e93be');\n",
              "          const dataTable =\n",
              "            await google.colab.kernel.invokeFunction('convertToInteractive',\n",
              "                                                     [key], {});\n",
              "          if (!dataTable) return;\n",
              "\n",
              "          const docLinkHtml = 'Like what you see? Visit the ' +\n",
              "            '<a target=\"_blank\" href=https://colab.research.google.com/notebooks/data_table.ipynb>data table notebook</a>'\n",
              "            + ' to learn more about interactive tables.';\n",
              "          element.innerHTML = '';\n",
              "          dataTable['output_type'] = 'display_data';\n",
              "          await google.colab.output.renderOutput(dataTable, element);\n",
              "          const docLink = document.createElement('div');\n",
              "          docLink.innerHTML = docLinkHtml;\n",
              "          element.appendChild(docLink);\n",
              "        }\n",
              "      </script>\n",
              "    </div>\n",
              "  </div>\n",
              "  "
            ]
          },
          "metadata": {},
          "execution_count": 8
        }
      ]
    },
    {
      "cell_type": "code",
      "source": [
        "df[df.ID == 1312200]"
      ],
      "metadata": {
        "colab": {
          "base_uri": "https://localhost:8080/",
          "height": 679
        },
        "id": "JL4Pa694cMlg",
        "outputId": "9b7b67ca-9f3f-4e6e-ad05-865dbdf51f8a"
      },
      "execution_count": 9,
      "outputs": [
        {
          "output_type": "execute_result",
          "data": {
            "text/plain": [
              "          ID  innings  overs  ballnumber        batter          bowler  \\\n",
              "0    1312200        1      0           1   YBK Jaiswal  Mohammed Shami   \n",
              "1    1312200        1      0           2   YBK Jaiswal  Mohammed Shami   \n",
              "2    1312200        1      0           3    JC Buttler  Mohammed Shami   \n",
              "3    1312200        1      0           4   YBK Jaiswal  Mohammed Shami   \n",
              "4    1312200        1      0           5   YBK Jaiswal  Mohammed Shami   \n",
              "..       ...      ...    ...         ...           ...             ...   \n",
              "228  1312200        2     17           3     DA Miller        R Ashwin   \n",
              "229  1312200        2     17           4  Shubman Gill        R Ashwin   \n",
              "230  1312200        2     17           5  Shubman Gill        R Ashwin   \n",
              "231  1312200        2     17           6     DA Miller        R Ashwin   \n",
              "232  1312200        2     18           1  Shubman Gill        OC McCoy   \n",
              "\n",
              "      non-striker extra_type  batsman_run  extras_run  total_run  \\\n",
              "0      JC Buttler        NaN            0           0          0   \n",
              "1      JC Buttler    legbyes            0           1          1   \n",
              "2     YBK Jaiswal        NaN            1           0          1   \n",
              "3      JC Buttler        NaN            0           0          0   \n",
              "4      JC Buttler        NaN            0           0          0   \n",
              "..            ...        ...          ...         ...        ...   \n",
              "228  Shubman Gill        NaN            1           0          1   \n",
              "229     DA Miller        NaN            0           0          0   \n",
              "230     DA Miller        NaN            1           0          1   \n",
              "231  Shubman Gill        NaN            2           0          2   \n",
              "232     DA Miller        NaN            6           0          6   \n",
              "\n",
              "     non_boundary  isWicketDelivery player_out kind fielders_involved  \\\n",
              "0               0                 0        NaN  NaN               NaN   \n",
              "1               0                 0        NaN  NaN               NaN   \n",
              "2               0                 0        NaN  NaN               NaN   \n",
              "3               0                 0        NaN  NaN               NaN   \n",
              "4               0                 0        NaN  NaN               NaN   \n",
              "..            ...               ...        ...  ...               ...   \n",
              "228             0                 0        NaN  NaN               NaN   \n",
              "229             0                 0        NaN  NaN               NaN   \n",
              "230             0                 0        NaN  NaN               NaN   \n",
              "231             0                 0        NaN  NaN               NaN   \n",
              "232             0                 0        NaN  NaN               NaN   \n",
              "\n",
              "          BattingTeam  \n",
              "0    Rajasthan Royals  \n",
              "1    Rajasthan Royals  \n",
              "2    Rajasthan Royals  \n",
              "3    Rajasthan Royals  \n",
              "4    Rajasthan Royals  \n",
              "..                ...  \n",
              "228    Gujarat Titans  \n",
              "229    Gujarat Titans  \n",
              "230    Gujarat Titans  \n",
              "231    Gujarat Titans  \n",
              "232    Gujarat Titans  \n",
              "\n",
              "[233 rows x 17 columns]"
            ],
            "text/html": [
              "\n",
              "  <div id=\"df-e6512813-a34c-4dd9-ad0b-5ed7076e7150\">\n",
              "    <div class=\"colab-df-container\">\n",
              "      <div>\n",
              "<style scoped>\n",
              "    .dataframe tbody tr th:only-of-type {\n",
              "        vertical-align: middle;\n",
              "    }\n",
              "\n",
              "    .dataframe tbody tr th {\n",
              "        vertical-align: top;\n",
              "    }\n",
              "\n",
              "    .dataframe thead th {\n",
              "        text-align: right;\n",
              "    }\n",
              "</style>\n",
              "<table border=\"1\" class=\"dataframe\">\n",
              "  <thead>\n",
              "    <tr style=\"text-align: right;\">\n",
              "      <th></th>\n",
              "      <th>ID</th>\n",
              "      <th>innings</th>\n",
              "      <th>overs</th>\n",
              "      <th>ballnumber</th>\n",
              "      <th>batter</th>\n",
              "      <th>bowler</th>\n",
              "      <th>non-striker</th>\n",
              "      <th>extra_type</th>\n",
              "      <th>batsman_run</th>\n",
              "      <th>extras_run</th>\n",
              "      <th>total_run</th>\n",
              "      <th>non_boundary</th>\n",
              "      <th>isWicketDelivery</th>\n",
              "      <th>player_out</th>\n",
              "      <th>kind</th>\n",
              "      <th>fielders_involved</th>\n",
              "      <th>BattingTeam</th>\n",
              "    </tr>\n",
              "  </thead>\n",
              "  <tbody>\n",
              "    <tr>\n",
              "      <th>0</th>\n",
              "      <td>1312200</td>\n",
              "      <td>1</td>\n",
              "      <td>0</td>\n",
              "      <td>1</td>\n",
              "      <td>YBK Jaiswal</td>\n",
              "      <td>Mohammed Shami</td>\n",
              "      <td>JC Buttler</td>\n",
              "      <td>NaN</td>\n",
              "      <td>0</td>\n",
              "      <td>0</td>\n",
              "      <td>0</td>\n",
              "      <td>0</td>\n",
              "      <td>0</td>\n",
              "      <td>NaN</td>\n",
              "      <td>NaN</td>\n",
              "      <td>NaN</td>\n",
              "      <td>Rajasthan Royals</td>\n",
              "    </tr>\n",
              "    <tr>\n",
              "      <th>1</th>\n",
              "      <td>1312200</td>\n",
              "      <td>1</td>\n",
              "      <td>0</td>\n",
              "      <td>2</td>\n",
              "      <td>YBK Jaiswal</td>\n",
              "      <td>Mohammed Shami</td>\n",
              "      <td>JC Buttler</td>\n",
              "      <td>legbyes</td>\n",
              "      <td>0</td>\n",
              "      <td>1</td>\n",
              "      <td>1</td>\n",
              "      <td>0</td>\n",
              "      <td>0</td>\n",
              "      <td>NaN</td>\n",
              "      <td>NaN</td>\n",
              "      <td>NaN</td>\n",
              "      <td>Rajasthan Royals</td>\n",
              "    </tr>\n",
              "    <tr>\n",
              "      <th>2</th>\n",
              "      <td>1312200</td>\n",
              "      <td>1</td>\n",
              "      <td>0</td>\n",
              "      <td>3</td>\n",
              "      <td>JC Buttler</td>\n",
              "      <td>Mohammed Shami</td>\n",
              "      <td>YBK Jaiswal</td>\n",
              "      <td>NaN</td>\n",
              "      <td>1</td>\n",
              "      <td>0</td>\n",
              "      <td>1</td>\n",
              "      <td>0</td>\n",
              "      <td>0</td>\n",
              "      <td>NaN</td>\n",
              "      <td>NaN</td>\n",
              "      <td>NaN</td>\n",
              "      <td>Rajasthan Royals</td>\n",
              "    </tr>\n",
              "    <tr>\n",
              "      <th>3</th>\n",
              "      <td>1312200</td>\n",
              "      <td>1</td>\n",
              "      <td>0</td>\n",
              "      <td>4</td>\n",
              "      <td>YBK Jaiswal</td>\n",
              "      <td>Mohammed Shami</td>\n",
              "      <td>JC Buttler</td>\n",
              "      <td>NaN</td>\n",
              "      <td>0</td>\n",
              "      <td>0</td>\n",
              "      <td>0</td>\n",
              "      <td>0</td>\n",
              "      <td>0</td>\n",
              "      <td>NaN</td>\n",
              "      <td>NaN</td>\n",
              "      <td>NaN</td>\n",
              "      <td>Rajasthan Royals</td>\n",
              "    </tr>\n",
              "    <tr>\n",
              "      <th>4</th>\n",
              "      <td>1312200</td>\n",
              "      <td>1</td>\n",
              "      <td>0</td>\n",
              "      <td>5</td>\n",
              "      <td>YBK Jaiswal</td>\n",
              "      <td>Mohammed Shami</td>\n",
              "      <td>JC Buttler</td>\n",
              "      <td>NaN</td>\n",
              "      <td>0</td>\n",
              "      <td>0</td>\n",
              "      <td>0</td>\n",
              "      <td>0</td>\n",
              "      <td>0</td>\n",
              "      <td>NaN</td>\n",
              "      <td>NaN</td>\n",
              "      <td>NaN</td>\n",
              "      <td>Rajasthan Royals</td>\n",
              "    </tr>\n",
              "    <tr>\n",
              "      <th>...</th>\n",
              "      <td>...</td>\n",
              "      <td>...</td>\n",
              "      <td>...</td>\n",
              "      <td>...</td>\n",
              "      <td>...</td>\n",
              "      <td>...</td>\n",
              "      <td>...</td>\n",
              "      <td>...</td>\n",
              "      <td>...</td>\n",
              "      <td>...</td>\n",
              "      <td>...</td>\n",
              "      <td>...</td>\n",
              "      <td>...</td>\n",
              "      <td>...</td>\n",
              "      <td>...</td>\n",
              "      <td>...</td>\n",
              "      <td>...</td>\n",
              "    </tr>\n",
              "    <tr>\n",
              "      <th>228</th>\n",
              "      <td>1312200</td>\n",
              "      <td>2</td>\n",
              "      <td>17</td>\n",
              "      <td>3</td>\n",
              "      <td>DA Miller</td>\n",
              "      <td>R Ashwin</td>\n",
              "      <td>Shubman Gill</td>\n",
              "      <td>NaN</td>\n",
              "      <td>1</td>\n",
              "      <td>0</td>\n",
              "      <td>1</td>\n",
              "      <td>0</td>\n",
              "      <td>0</td>\n",
              "      <td>NaN</td>\n",
              "      <td>NaN</td>\n",
              "      <td>NaN</td>\n",
              "      <td>Gujarat Titans</td>\n",
              "    </tr>\n",
              "    <tr>\n",
              "      <th>229</th>\n",
              "      <td>1312200</td>\n",
              "      <td>2</td>\n",
              "      <td>17</td>\n",
              "      <td>4</td>\n",
              "      <td>Shubman Gill</td>\n",
              "      <td>R Ashwin</td>\n",
              "      <td>DA Miller</td>\n",
              "      <td>NaN</td>\n",
              "      <td>0</td>\n",
              "      <td>0</td>\n",
              "      <td>0</td>\n",
              "      <td>0</td>\n",
              "      <td>0</td>\n",
              "      <td>NaN</td>\n",
              "      <td>NaN</td>\n",
              "      <td>NaN</td>\n",
              "      <td>Gujarat Titans</td>\n",
              "    </tr>\n",
              "    <tr>\n",
              "      <th>230</th>\n",
              "      <td>1312200</td>\n",
              "      <td>2</td>\n",
              "      <td>17</td>\n",
              "      <td>5</td>\n",
              "      <td>Shubman Gill</td>\n",
              "      <td>R Ashwin</td>\n",
              "      <td>DA Miller</td>\n",
              "      <td>NaN</td>\n",
              "      <td>1</td>\n",
              "      <td>0</td>\n",
              "      <td>1</td>\n",
              "      <td>0</td>\n",
              "      <td>0</td>\n",
              "      <td>NaN</td>\n",
              "      <td>NaN</td>\n",
              "      <td>NaN</td>\n",
              "      <td>Gujarat Titans</td>\n",
              "    </tr>\n",
              "    <tr>\n",
              "      <th>231</th>\n",
              "      <td>1312200</td>\n",
              "      <td>2</td>\n",
              "      <td>17</td>\n",
              "      <td>6</td>\n",
              "      <td>DA Miller</td>\n",
              "      <td>R Ashwin</td>\n",
              "      <td>Shubman Gill</td>\n",
              "      <td>NaN</td>\n",
              "      <td>2</td>\n",
              "      <td>0</td>\n",
              "      <td>2</td>\n",
              "      <td>0</td>\n",
              "      <td>0</td>\n",
              "      <td>NaN</td>\n",
              "      <td>NaN</td>\n",
              "      <td>NaN</td>\n",
              "      <td>Gujarat Titans</td>\n",
              "    </tr>\n",
              "    <tr>\n",
              "      <th>232</th>\n",
              "      <td>1312200</td>\n",
              "      <td>2</td>\n",
              "      <td>18</td>\n",
              "      <td>1</td>\n",
              "      <td>Shubman Gill</td>\n",
              "      <td>OC McCoy</td>\n",
              "      <td>DA Miller</td>\n",
              "      <td>NaN</td>\n",
              "      <td>6</td>\n",
              "      <td>0</td>\n",
              "      <td>6</td>\n",
              "      <td>0</td>\n",
              "      <td>0</td>\n",
              "      <td>NaN</td>\n",
              "      <td>NaN</td>\n",
              "      <td>NaN</td>\n",
              "      <td>Gujarat Titans</td>\n",
              "    </tr>\n",
              "  </tbody>\n",
              "</table>\n",
              "<p>233 rows × 17 columns</p>\n",
              "</div>\n",
              "      <button class=\"colab-df-convert\" onclick=\"convertToInteractive('df-e6512813-a34c-4dd9-ad0b-5ed7076e7150')\"\n",
              "              title=\"Convert this dataframe to an interactive table.\"\n",
              "              style=\"display:none;\">\n",
              "        \n",
              "  <svg xmlns=\"http://www.w3.org/2000/svg\" height=\"24px\"viewBox=\"0 0 24 24\"\n",
              "       width=\"24px\">\n",
              "    <path d=\"M0 0h24v24H0V0z\" fill=\"none\"/>\n",
              "    <path d=\"M18.56 5.44l.94 2.06.94-2.06 2.06-.94-2.06-.94-.94-2.06-.94 2.06-2.06.94zm-11 1L8.5 8.5l.94-2.06 2.06-.94-2.06-.94L8.5 2.5l-.94 2.06-2.06.94zm10 10l.94 2.06.94-2.06 2.06-.94-2.06-.94-.94-2.06-.94 2.06-2.06.94z\"/><path d=\"M17.41 7.96l-1.37-1.37c-.4-.4-.92-.59-1.43-.59-.52 0-1.04.2-1.43.59L10.3 9.45l-7.72 7.72c-.78.78-.78 2.05 0 2.83L4 21.41c.39.39.9.59 1.41.59.51 0 1.02-.2 1.41-.59l7.78-7.78 2.81-2.81c.8-.78.8-2.07 0-2.86zM5.41 20L4 18.59l7.72-7.72 1.47 1.35L5.41 20z\"/>\n",
              "  </svg>\n",
              "      </button>\n",
              "      \n",
              "  <style>\n",
              "    .colab-df-container {\n",
              "      display:flex;\n",
              "      flex-wrap:wrap;\n",
              "      gap: 12px;\n",
              "    }\n",
              "\n",
              "    .colab-df-convert {\n",
              "      background-color: #E8F0FE;\n",
              "      border: none;\n",
              "      border-radius: 50%;\n",
              "      cursor: pointer;\n",
              "      display: none;\n",
              "      fill: #1967D2;\n",
              "      height: 32px;\n",
              "      padding: 0 0 0 0;\n",
              "      width: 32px;\n",
              "    }\n",
              "\n",
              "    .colab-df-convert:hover {\n",
              "      background-color: #E2EBFA;\n",
              "      box-shadow: 0px 1px 2px rgba(60, 64, 67, 0.3), 0px 1px 3px 1px rgba(60, 64, 67, 0.15);\n",
              "      fill: #174EA6;\n",
              "    }\n",
              "\n",
              "    [theme=dark] .colab-df-convert {\n",
              "      background-color: #3B4455;\n",
              "      fill: #D2E3FC;\n",
              "    }\n",
              "\n",
              "    [theme=dark] .colab-df-convert:hover {\n",
              "      background-color: #434B5C;\n",
              "      box-shadow: 0px 1px 3px 1px rgba(0, 0, 0, 0.15);\n",
              "      filter: drop-shadow(0px 1px 2px rgba(0, 0, 0, 0.3));\n",
              "      fill: #FFFFFF;\n",
              "    }\n",
              "  </style>\n",
              "\n",
              "      <script>\n",
              "        const buttonEl =\n",
              "          document.querySelector('#df-e6512813-a34c-4dd9-ad0b-5ed7076e7150 button.colab-df-convert');\n",
              "        buttonEl.style.display =\n",
              "          google.colab.kernel.accessAllowed ? 'block' : 'none';\n",
              "\n",
              "        async function convertToInteractive(key) {\n",
              "          const element = document.querySelector('#df-e6512813-a34c-4dd9-ad0b-5ed7076e7150');\n",
              "          const dataTable =\n",
              "            await google.colab.kernel.invokeFunction('convertToInteractive',\n",
              "                                                     [key], {});\n",
              "          if (!dataTable) return;\n",
              "\n",
              "          const docLinkHtml = 'Like what you see? Visit the ' +\n",
              "            '<a target=\"_blank\" href=https://colab.research.google.com/notebooks/data_table.ipynb>data table notebook</a>'\n",
              "            + ' to learn more about interactive tables.';\n",
              "          element.innerHTML = '';\n",
              "          dataTable['output_type'] = 'display_data';\n",
              "          await google.colab.output.renderOutput(dataTable, element);\n",
              "          const docLink = document.createElement('div');\n",
              "          docLink.innerHTML = docLinkHtml;\n",
              "          element.appendChild(docLink);\n",
              "        }\n",
              "      </script>\n",
              "    </div>\n",
              "  </div>\n",
              "  "
            ]
          },
          "metadata": {},
          "execution_count": 9
        }
      ]
    },
    {
      "cell_type": "code",
      "source": [
        "df.head(2)"
      ],
      "metadata": {
        "colab": {
          "base_uri": "https://localhost:8080/",
          "height": 228
        },
        "id": "TWflLrlOxq2n",
        "outputId": "4ba24294-8d91-4425-fd9f-7e0cb3e70115"
      },
      "execution_count": 10,
      "outputs": [
        {
          "output_type": "execute_result",
          "data": {
            "text/plain": [
              "        ID  innings  overs  ballnumber       batter          bowler  \\\n",
              "0  1312200        1      0           1  YBK Jaiswal  Mohammed Shami   \n",
              "1  1312200        1      0           2  YBK Jaiswal  Mohammed Shami   \n",
              "\n",
              "  non-striker extra_type  batsman_run  extras_run  total_run  non_boundary  \\\n",
              "0  JC Buttler        NaN            0           0          0             0   \n",
              "1  JC Buttler    legbyes            0           1          1             0   \n",
              "\n",
              "   isWicketDelivery player_out kind fielders_involved       BattingTeam  \n",
              "0                 0        NaN  NaN               NaN  Rajasthan Royals  \n",
              "1                 0        NaN  NaN               NaN  Rajasthan Royals  "
            ],
            "text/html": [
              "\n",
              "  <div id=\"df-59628597-b17a-4715-a2f4-5f901ec8a5de\">\n",
              "    <div class=\"colab-df-container\">\n",
              "      <div>\n",
              "<style scoped>\n",
              "    .dataframe tbody tr th:only-of-type {\n",
              "        vertical-align: middle;\n",
              "    }\n",
              "\n",
              "    .dataframe tbody tr th {\n",
              "        vertical-align: top;\n",
              "    }\n",
              "\n",
              "    .dataframe thead th {\n",
              "        text-align: right;\n",
              "    }\n",
              "</style>\n",
              "<table border=\"1\" class=\"dataframe\">\n",
              "  <thead>\n",
              "    <tr style=\"text-align: right;\">\n",
              "      <th></th>\n",
              "      <th>ID</th>\n",
              "      <th>innings</th>\n",
              "      <th>overs</th>\n",
              "      <th>ballnumber</th>\n",
              "      <th>batter</th>\n",
              "      <th>bowler</th>\n",
              "      <th>non-striker</th>\n",
              "      <th>extra_type</th>\n",
              "      <th>batsman_run</th>\n",
              "      <th>extras_run</th>\n",
              "      <th>total_run</th>\n",
              "      <th>non_boundary</th>\n",
              "      <th>isWicketDelivery</th>\n",
              "      <th>player_out</th>\n",
              "      <th>kind</th>\n",
              "      <th>fielders_involved</th>\n",
              "      <th>BattingTeam</th>\n",
              "    </tr>\n",
              "  </thead>\n",
              "  <tbody>\n",
              "    <tr>\n",
              "      <th>0</th>\n",
              "      <td>1312200</td>\n",
              "      <td>1</td>\n",
              "      <td>0</td>\n",
              "      <td>1</td>\n",
              "      <td>YBK Jaiswal</td>\n",
              "      <td>Mohammed Shami</td>\n",
              "      <td>JC Buttler</td>\n",
              "      <td>NaN</td>\n",
              "      <td>0</td>\n",
              "      <td>0</td>\n",
              "      <td>0</td>\n",
              "      <td>0</td>\n",
              "      <td>0</td>\n",
              "      <td>NaN</td>\n",
              "      <td>NaN</td>\n",
              "      <td>NaN</td>\n",
              "      <td>Rajasthan Royals</td>\n",
              "    </tr>\n",
              "    <tr>\n",
              "      <th>1</th>\n",
              "      <td>1312200</td>\n",
              "      <td>1</td>\n",
              "      <td>0</td>\n",
              "      <td>2</td>\n",
              "      <td>YBK Jaiswal</td>\n",
              "      <td>Mohammed Shami</td>\n",
              "      <td>JC Buttler</td>\n",
              "      <td>legbyes</td>\n",
              "      <td>0</td>\n",
              "      <td>1</td>\n",
              "      <td>1</td>\n",
              "      <td>0</td>\n",
              "      <td>0</td>\n",
              "      <td>NaN</td>\n",
              "      <td>NaN</td>\n",
              "      <td>NaN</td>\n",
              "      <td>Rajasthan Royals</td>\n",
              "    </tr>\n",
              "  </tbody>\n",
              "</table>\n",
              "</div>\n",
              "      <button class=\"colab-df-convert\" onclick=\"convertToInteractive('df-59628597-b17a-4715-a2f4-5f901ec8a5de')\"\n",
              "              title=\"Convert this dataframe to an interactive table.\"\n",
              "              style=\"display:none;\">\n",
              "        \n",
              "  <svg xmlns=\"http://www.w3.org/2000/svg\" height=\"24px\"viewBox=\"0 0 24 24\"\n",
              "       width=\"24px\">\n",
              "    <path d=\"M0 0h24v24H0V0z\" fill=\"none\"/>\n",
              "    <path d=\"M18.56 5.44l.94 2.06.94-2.06 2.06-.94-2.06-.94-.94-2.06-.94 2.06-2.06.94zm-11 1L8.5 8.5l.94-2.06 2.06-.94-2.06-.94L8.5 2.5l-.94 2.06-2.06.94zm10 10l.94 2.06.94-2.06 2.06-.94-2.06-.94-.94-2.06-.94 2.06-2.06.94z\"/><path d=\"M17.41 7.96l-1.37-1.37c-.4-.4-.92-.59-1.43-.59-.52 0-1.04.2-1.43.59L10.3 9.45l-7.72 7.72c-.78.78-.78 2.05 0 2.83L4 21.41c.39.39.9.59 1.41.59.51 0 1.02-.2 1.41-.59l7.78-7.78 2.81-2.81c.8-.78.8-2.07 0-2.86zM5.41 20L4 18.59l7.72-7.72 1.47 1.35L5.41 20z\"/>\n",
              "  </svg>\n",
              "      </button>\n",
              "      \n",
              "  <style>\n",
              "    .colab-df-container {\n",
              "      display:flex;\n",
              "      flex-wrap:wrap;\n",
              "      gap: 12px;\n",
              "    }\n",
              "\n",
              "    .colab-df-convert {\n",
              "      background-color: #E8F0FE;\n",
              "      border: none;\n",
              "      border-radius: 50%;\n",
              "      cursor: pointer;\n",
              "      display: none;\n",
              "      fill: #1967D2;\n",
              "      height: 32px;\n",
              "      padding: 0 0 0 0;\n",
              "      width: 32px;\n",
              "    }\n",
              "\n",
              "    .colab-df-convert:hover {\n",
              "      background-color: #E2EBFA;\n",
              "      box-shadow: 0px 1px 2px rgba(60, 64, 67, 0.3), 0px 1px 3px 1px rgba(60, 64, 67, 0.15);\n",
              "      fill: #174EA6;\n",
              "    }\n",
              "\n",
              "    [theme=dark] .colab-df-convert {\n",
              "      background-color: #3B4455;\n",
              "      fill: #D2E3FC;\n",
              "    }\n",
              "\n",
              "    [theme=dark] .colab-df-convert:hover {\n",
              "      background-color: #434B5C;\n",
              "      box-shadow: 0px 1px 3px 1px rgba(0, 0, 0, 0.15);\n",
              "      filter: drop-shadow(0px 1px 2px rgba(0, 0, 0, 0.3));\n",
              "      fill: #FFFFFF;\n",
              "    }\n",
              "  </style>\n",
              "\n",
              "      <script>\n",
              "        const buttonEl =\n",
              "          document.querySelector('#df-59628597-b17a-4715-a2f4-5f901ec8a5de button.colab-df-convert');\n",
              "        buttonEl.style.display =\n",
              "          google.colab.kernel.accessAllowed ? 'block' : 'none';\n",
              "\n",
              "        async function convertToInteractive(key) {\n",
              "          const element = document.querySelector('#df-59628597-b17a-4715-a2f4-5f901ec8a5de');\n",
              "          const dataTable =\n",
              "            await google.colab.kernel.invokeFunction('convertToInteractive',\n",
              "                                                     [key], {});\n",
              "          if (!dataTable) return;\n",
              "\n",
              "          const docLinkHtml = 'Like what you see? Visit the ' +\n",
              "            '<a target=\"_blank\" href=https://colab.research.google.com/notebooks/data_table.ipynb>data table notebook</a>'\n",
              "            + ' to learn more about interactive tables.';\n",
              "          element.innerHTML = '';\n",
              "          dataTable['output_type'] = 'display_data';\n",
              "          await google.colab.output.renderOutput(dataTable, element);\n",
              "          const docLink = document.createElement('div');\n",
              "          docLink.innerHTML = docLinkHtml;\n",
              "          element.appendChild(docLink);\n",
              "        }\n",
              "      </script>\n",
              "    </div>\n",
              "  </div>\n",
              "  "
            ]
          },
          "metadata": {},
          "execution_count": 10
        }
      ]
    },
    {
      "cell_type": "markdown",
      "source": [
        "With this data and very different type of input, our main challenge it to extract the relatable and important feature and shape the data. "
      ],
      "metadata": {
        "id": "wrJbPytl0Lpr"
      }
    },
    {
      "cell_type": "code",
      "source": [
        "df.isna().sum()"
      ],
      "metadata": {
        "colab": {
          "base_uri": "https://localhost:8080/"
        },
        "id": "0_-EbPX7xBgc",
        "outputId": "eaa762e8-e313-4c2c-cba0-b07dd0584696"
      },
      "execution_count": 11,
      "outputs": [
        {
          "output_type": "execute_result",
          "data": {
            "text/plain": [
              "ID                        0\n",
              "innings                   0\n",
              "overs                     0\n",
              "ballnumber                0\n",
              "batter                    0\n",
              "bowler                    0\n",
              "non-striker               0\n",
              "extra_type           213905\n",
              "batsman_run               0\n",
              "extras_run                0\n",
              "total_run                 0\n",
              "non_boundary              0\n",
              "isWicketDelivery          0\n",
              "player_out           214803\n",
              "kind                 214803\n",
              "fielders_involved    217966\n",
              "BattingTeam               0\n",
              "dtype: int64"
            ]
          },
          "metadata": {},
          "execution_count": 11
        }
      ]
    },
    {
      "cell_type": "markdown",
      "source": [
        "# **Understanding data**"
      ],
      "metadata": {
        "id": "XUVAbY_R1bmx"
      }
    },
    {
      "cell_type": "code",
      "source": [
        "df.drop(['extra_type','player_out','kind','fielders_involved'], axis =1 , inplace = True)\n",
        "#As more than 85% of the data is not nan. The clear reason behind this is it is not possible to have wickets in each ball"
      ],
      "metadata": {
        "id": "ax4TgvW1y4iN"
      },
      "execution_count": 12,
      "outputs": []
    },
    {
      "cell_type": "code",
      "source": [
        "df.info()"
      ],
      "metadata": {
        "colab": {
          "base_uri": "https://localhost:8080/"
        },
        "id": "P5SYfYyM0Hns",
        "outputId": "abb51124-3590-4f31-87a0-7cf71d1c8659"
      },
      "execution_count": 13,
      "outputs": [
        {
          "output_type": "stream",
          "name": "stdout",
          "text": [
            "<class 'pandas.core.frame.DataFrame'>\n",
            "RangeIndex: 225954 entries, 0 to 225953\n",
            "Data columns (total 13 columns):\n",
            " #   Column            Non-Null Count   Dtype \n",
            "---  ------            --------------   ----- \n",
            " 0   ID                225954 non-null  int64 \n",
            " 1   innings           225954 non-null  int64 \n",
            " 2   overs             225954 non-null  int64 \n",
            " 3   ballnumber        225954 non-null  int64 \n",
            " 4   batter            225954 non-null  object\n",
            " 5   bowler            225954 non-null  object\n",
            " 6   non-striker       225954 non-null  object\n",
            " 7   batsman_run       225954 non-null  int64 \n",
            " 8   extras_run        225954 non-null  int64 \n",
            " 9   total_run         225954 non-null  int64 \n",
            " 10  non_boundary      225954 non-null  int64 \n",
            " 11  isWicketDelivery  225954 non-null  int64 \n",
            " 12  BattingTeam       225954 non-null  object\n",
            "dtypes: int64(9), object(4)\n",
            "memory usage: 22.4+ MB\n"
          ]
        }
      ]
    },
    {
      "cell_type": "markdown",
      "source": [
        "Here, we have to predict the score upto powerplay only which means we can drop the other data rows from our df."
      ],
      "metadata": {
        "id": "39MroISr0-jU"
      }
    },
    {
      "cell_type": "code",
      "source": [
        "df = df[df.overs<6]"
      ],
      "metadata": {
        "id": "6X7bNH3O0JZd"
      },
      "execution_count": 14,
      "outputs": []
    },
    {
      "cell_type": "code",
      "source": [
        "df.shape"
      ],
      "metadata": {
        "colab": {
          "base_uri": "https://localhost:8080/"
        },
        "id": "WVw0COql1PhW",
        "outputId": "7e101986-13fe-4598-ed96-4ebc91368f17"
      },
      "execution_count": 15,
      "outputs": [
        {
          "output_type": "execute_result",
          "data": {
            "text/plain": [
              "(71082, 13)"
            ]
          },
          "metadata": {},
          "execution_count": 15
        }
      ]
    },
    {
      "cell_type": "code",
      "source": [
        "id = result_df['ID']"
      ],
      "metadata": {
        "id": "ivd8t45L1SPv"
      },
      "execution_count": 16,
      "outputs": []
    },
    {
      "cell_type": "code",
      "source": [
        "id.nunique()"
      ],
      "metadata": {
        "colab": {
          "base_uri": "https://localhost:8080/"
        },
        "id": "lQLTG7vTc7_2",
        "outputId": "d1e57fc8-eb59-4c0d-c672-a90fd2e8908c"
      },
      "execution_count": 17,
      "outputs": [
        {
          "output_type": "execute_result",
          "data": {
            "text/plain": [
              "950"
            ]
          },
          "metadata": {},
          "execution_count": 17
        }
      ]
    },
    {
      "cell_type": "code",
      "source": [
        "df.ID.nunique()"
      ],
      "metadata": {
        "colab": {
          "base_uri": "https://localhost:8080/"
        },
        "id": "1uQKvaoagoVl",
        "outputId": "7999ce81-7cd5-4dbf-ac94-74e9ba4e61f8"
      },
      "execution_count": 18,
      "outputs": [
        {
          "output_type": "execute_result",
          "data": {
            "text/plain": [
              "950"
            ]
          },
          "metadata": {},
          "execution_count": 18
        }
      ]
    },
    {
      "cell_type": "code",
      "source": [
        "result_df.Season.unique()"
      ],
      "metadata": {
        "colab": {
          "base_uri": "https://localhost:8080/"
        },
        "id": "8nzB-uT1h2Fz",
        "outputId": "b75fedb7-4801-467c-c9f2-46a346139369"
      },
      "execution_count": 19,
      "outputs": [
        {
          "output_type": "execute_result",
          "data": {
            "text/plain": [
              "array(['2022', '2021', '2020/21', '2019', '2018', '2017', '2016', '2015',\n",
              "       '2014', '2013', '2012', '2011', '2009/10', '2009', '2007/08'],\n",
              "      dtype=object)"
            ]
          },
          "metadata": {},
          "execution_count": 19
        }
      ]
    },
    {
      "cell_type": "code",
      "source": [
        "min(df['ID'])"
      ],
      "metadata": {
        "colab": {
          "base_uri": "https://localhost:8080/"
        },
        "id": "reR5IHBai_At",
        "outputId": "5cd0af90-a455-4398-8c0a-9852bc41aed0"
      },
      "execution_count": 20,
      "outputs": [
        {
          "output_type": "execute_result",
          "data": {
            "text/plain": [
              "335982"
            ]
          },
          "metadata": {},
          "execution_count": 20
        }
      ]
    },
    {
      "cell_type": "code",
      "source": [
        "df[df['ID']==113658]"
      ],
      "metadata": {
        "colab": {
          "base_uri": "https://localhost:8080/",
          "height": 49
        },
        "id": "rA2zJqm3fdv7",
        "outputId": "c1283dd3-aeb4-4fac-bd44-d8016e324a73"
      },
      "execution_count": 21,
      "outputs": [
        {
          "output_type": "execute_result",
          "data": {
            "text/plain": [
              "Empty DataFrame\n",
              "Columns: [ID, innings, overs, ballnumber, batter, bowler, non-striker, batsman_run, extras_run, total_run, non_boundary, isWicketDelivery, BattingTeam]\n",
              "Index: []"
            ],
            "text/html": [
              "\n",
              "  <div id=\"df-b892027b-94d4-4792-b45d-74c0fb545007\">\n",
              "    <div class=\"colab-df-container\">\n",
              "      <div>\n",
              "<style scoped>\n",
              "    .dataframe tbody tr th:only-of-type {\n",
              "        vertical-align: middle;\n",
              "    }\n",
              "\n",
              "    .dataframe tbody tr th {\n",
              "        vertical-align: top;\n",
              "    }\n",
              "\n",
              "    .dataframe thead th {\n",
              "        text-align: right;\n",
              "    }\n",
              "</style>\n",
              "<table border=\"1\" class=\"dataframe\">\n",
              "  <thead>\n",
              "    <tr style=\"text-align: right;\">\n",
              "      <th></th>\n",
              "      <th>ID</th>\n",
              "      <th>innings</th>\n",
              "      <th>overs</th>\n",
              "      <th>ballnumber</th>\n",
              "      <th>batter</th>\n",
              "      <th>bowler</th>\n",
              "      <th>non-striker</th>\n",
              "      <th>batsman_run</th>\n",
              "      <th>extras_run</th>\n",
              "      <th>total_run</th>\n",
              "      <th>non_boundary</th>\n",
              "      <th>isWicketDelivery</th>\n",
              "      <th>BattingTeam</th>\n",
              "    </tr>\n",
              "  </thead>\n",
              "  <tbody>\n",
              "  </tbody>\n",
              "</table>\n",
              "</div>\n",
              "      <button class=\"colab-df-convert\" onclick=\"convertToInteractive('df-b892027b-94d4-4792-b45d-74c0fb545007')\"\n",
              "              title=\"Convert this dataframe to an interactive table.\"\n",
              "              style=\"display:none;\">\n",
              "        \n",
              "  <svg xmlns=\"http://www.w3.org/2000/svg\" height=\"24px\"viewBox=\"0 0 24 24\"\n",
              "       width=\"24px\">\n",
              "    <path d=\"M0 0h24v24H0V0z\" fill=\"none\"/>\n",
              "    <path d=\"M18.56 5.44l.94 2.06.94-2.06 2.06-.94-2.06-.94-.94-2.06-.94 2.06-2.06.94zm-11 1L8.5 8.5l.94-2.06 2.06-.94-2.06-.94L8.5 2.5l-.94 2.06-2.06.94zm10 10l.94 2.06.94-2.06 2.06-.94-2.06-.94-.94-2.06-.94 2.06-2.06.94z\"/><path d=\"M17.41 7.96l-1.37-1.37c-.4-.4-.92-.59-1.43-.59-.52 0-1.04.2-1.43.59L10.3 9.45l-7.72 7.72c-.78.78-.78 2.05 0 2.83L4 21.41c.39.39.9.59 1.41.59.51 0 1.02-.2 1.41-.59l7.78-7.78 2.81-2.81c.8-.78.8-2.07 0-2.86zM5.41 20L4 18.59l7.72-7.72 1.47 1.35L5.41 20z\"/>\n",
              "  </svg>\n",
              "      </button>\n",
              "      \n",
              "  <style>\n",
              "    .colab-df-container {\n",
              "      display:flex;\n",
              "      flex-wrap:wrap;\n",
              "      gap: 12px;\n",
              "    }\n",
              "\n",
              "    .colab-df-convert {\n",
              "      background-color: #E8F0FE;\n",
              "      border: none;\n",
              "      border-radius: 50%;\n",
              "      cursor: pointer;\n",
              "      display: none;\n",
              "      fill: #1967D2;\n",
              "      height: 32px;\n",
              "      padding: 0 0 0 0;\n",
              "      width: 32px;\n",
              "    }\n",
              "\n",
              "    .colab-df-convert:hover {\n",
              "      background-color: #E2EBFA;\n",
              "      box-shadow: 0px 1px 2px rgba(60, 64, 67, 0.3), 0px 1px 3px 1px rgba(60, 64, 67, 0.15);\n",
              "      fill: #174EA6;\n",
              "    }\n",
              "\n",
              "    [theme=dark] .colab-df-convert {\n",
              "      background-color: #3B4455;\n",
              "      fill: #D2E3FC;\n",
              "    }\n",
              "\n",
              "    [theme=dark] .colab-df-convert:hover {\n",
              "      background-color: #434B5C;\n",
              "      box-shadow: 0px 1px 3px 1px rgba(0, 0, 0, 0.15);\n",
              "      filter: drop-shadow(0px 1px 2px rgba(0, 0, 0, 0.3));\n",
              "      fill: #FFFFFF;\n",
              "    }\n",
              "  </style>\n",
              "\n",
              "      <script>\n",
              "        const buttonEl =\n",
              "          document.querySelector('#df-b892027b-94d4-4792-b45d-74c0fb545007 button.colab-df-convert');\n",
              "        buttonEl.style.display =\n",
              "          google.colab.kernel.accessAllowed ? 'block' : 'none';\n",
              "\n",
              "        async function convertToInteractive(key) {\n",
              "          const element = document.querySelector('#df-b892027b-94d4-4792-b45d-74c0fb545007');\n",
              "          const dataTable =\n",
              "            await google.colab.kernel.invokeFunction('convertToInteractive',\n",
              "                                                     [key], {});\n",
              "          if (!dataTable) return;\n",
              "\n",
              "          const docLinkHtml = 'Like what you see? Visit the ' +\n",
              "            '<a target=\"_blank\" href=https://colab.research.google.com/notebooks/data_table.ipynb>data table notebook</a>'\n",
              "            + ' to learn more about interactive tables.';\n",
              "          element.innerHTML = '';\n",
              "          dataTable['output_type'] = 'display_data';\n",
              "          await google.colab.output.renderOutput(dataTable, element);\n",
              "          const docLink = document.createElement('div');\n",
              "          docLink.innerHTML = docLinkHtml;\n",
              "          element.appendChild(docLink);\n",
              "        }\n",
              "      </script>\n",
              "    </div>\n",
              "  </div>\n",
              "  "
            ]
          },
          "metadata": {},
          "execution_count": 21
        }
      ]
    },
    {
      "cell_type": "markdown",
      "source": [
        "Creating a new column powerplay runs which counts total runs scored in the powerplay overs by a team."
      ],
      "metadata": {
        "id": "nkfAz8L1jiYZ"
      }
    },
    {
      "cell_type": "markdown",
      "source": [
        "# **Data Preparation**\n",
        "In this section, I will prepare the data from raw form to required form."
      ],
      "metadata": {
        "id": "3w1xF6820mzj"
      }
    },
    {
      "cell_type": "code",
      "source": [
        "import warnings\n",
        "warnings.filterwarnings('ignore')"
      ],
      "metadata": {
        "id": "VbwfN1Ydkj5Y"
      },
      "execution_count": 22,
      "outputs": []
    },
    {
      "cell_type": "code",
      "source": [
        "# Create a new dataframe to store the total runs scored during powerplay for each match\n",
        "powerplay_runs = pd.DataFrame(columns=['ID', 'inning', 'powerplay_runs'])\n",
        "\n",
        "# Iterate over each match and inning\n",
        "for match_id in df['ID'].unique():\n",
        "  try:\n",
        "    for inning in [1, 2]:\n",
        "        # Filter the data for the current match and inning, and the first 6 overs\n",
        "        powerplay_data = df[(df['ID'] == match_id) & \n",
        "                                  (df['innings'] == inning) & \n",
        "                                  (df['overs'] < 6)]\n",
        "        # Calculate the total runs scored during the powerplay\n",
        "        total_powerplay_runs = powerplay_data['total_run'].sum()\n",
        "        total_powerplay_wickets = powerplay_data['isWicketDelivery'].sum()\n",
        "        batting_team = powerplay_data['BattingTeam'].unique()[0]\n",
        "        bowling_team = df[(df['ID'] == match_id) & \n",
        "                          (df['innings'] == (1 if inning==2 else 2)) & \n",
        "                          (df['overs'] == 1)]['BattingTeam'].values[0]\n",
        "        # Add the match_id, inning, and total runs to the powerplay_runs dataframe\n",
        "        powerplay_runs = powerplay_runs.append({'ID': match_id, 'inning': inning, \n",
        "                                                'powerplay_runs': total_powerplay_runs,'powerplay_wickets':total_powerplay_wickets\n",
        "                                                , 'Batting_team':batting_team, 'Bowling_team': bowling_team}, \n",
        "                                               ignore_index=True)\n",
        "  except:\n",
        "    continue"
      ],
      "metadata": {
        "id": "FSRFff6odBjc"
      },
      "execution_count": 23,
      "outputs": []
    },
    {
      "cell_type": "code",
      "source": [
        "powerplay_runs"
      ],
      "metadata": {
        "colab": {
          "base_uri": "https://localhost:8080/",
          "height": 424
        },
        "id": "A7QLsuUyfyJl",
        "outputId": "fdd4d052-67b1-4e95-fc4a-c2132595dd44"
      },
      "execution_count": 24,
      "outputs": [
        {
          "output_type": "execute_result",
          "data": {
            "text/plain": [
              "           ID inning powerplay_runs  powerplay_wickets  \\\n",
              "0     1312200      1             44                1.0   \n",
              "1     1312200      2             31                2.0   \n",
              "2     1312199      1             46                1.0   \n",
              "3     1312199      2             67                1.0   \n",
              "4     1312198      1             52                1.0   \n",
              "...       ...    ...            ...                ...   \n",
              "1891   335984      2             55                1.0   \n",
              "1892   335983      1             53                1.0   \n",
              "1893   335983      2             63                1.0   \n",
              "1894   335982      1             61                1.0   \n",
              "1895   335982      2             26                4.0   \n",
              "\n",
              "                     Batting_team                 Bowling_team  \n",
              "0                Rajasthan Royals               Gujarat Titans  \n",
              "1                  Gujarat Titans             Rajasthan Royals  \n",
              "2     Royal Challengers Bangalore             Rajasthan Royals  \n",
              "3                Rajasthan Royals  Royal Challengers Bangalore  \n",
              "4     Royal Challengers Bangalore         Lucknow Super Giants  \n",
              "...                           ...                          ...  \n",
              "1891             Delhi Daredevils             Rajasthan Royals  \n",
              "1892          Chennai Super Kings              Kings XI Punjab  \n",
              "1893              Kings XI Punjab          Chennai Super Kings  \n",
              "1894        Kolkata Knight Riders  Royal Challengers Bangalore  \n",
              "1895  Royal Challengers Bangalore        Kolkata Knight Riders  \n",
              "\n",
              "[1896 rows x 6 columns]"
            ],
            "text/html": [
              "\n",
              "  <div id=\"df-b48d8e81-6031-422c-a6a0-d428421e3645\">\n",
              "    <div class=\"colab-df-container\">\n",
              "      <div>\n",
              "<style scoped>\n",
              "    .dataframe tbody tr th:only-of-type {\n",
              "        vertical-align: middle;\n",
              "    }\n",
              "\n",
              "    .dataframe tbody tr th {\n",
              "        vertical-align: top;\n",
              "    }\n",
              "\n",
              "    .dataframe thead th {\n",
              "        text-align: right;\n",
              "    }\n",
              "</style>\n",
              "<table border=\"1\" class=\"dataframe\">\n",
              "  <thead>\n",
              "    <tr style=\"text-align: right;\">\n",
              "      <th></th>\n",
              "      <th>ID</th>\n",
              "      <th>inning</th>\n",
              "      <th>powerplay_runs</th>\n",
              "      <th>powerplay_wickets</th>\n",
              "      <th>Batting_team</th>\n",
              "      <th>Bowling_team</th>\n",
              "    </tr>\n",
              "  </thead>\n",
              "  <tbody>\n",
              "    <tr>\n",
              "      <th>0</th>\n",
              "      <td>1312200</td>\n",
              "      <td>1</td>\n",
              "      <td>44</td>\n",
              "      <td>1.0</td>\n",
              "      <td>Rajasthan Royals</td>\n",
              "      <td>Gujarat Titans</td>\n",
              "    </tr>\n",
              "    <tr>\n",
              "      <th>1</th>\n",
              "      <td>1312200</td>\n",
              "      <td>2</td>\n",
              "      <td>31</td>\n",
              "      <td>2.0</td>\n",
              "      <td>Gujarat Titans</td>\n",
              "      <td>Rajasthan Royals</td>\n",
              "    </tr>\n",
              "    <tr>\n",
              "      <th>2</th>\n",
              "      <td>1312199</td>\n",
              "      <td>1</td>\n",
              "      <td>46</td>\n",
              "      <td>1.0</td>\n",
              "      <td>Royal Challengers Bangalore</td>\n",
              "      <td>Rajasthan Royals</td>\n",
              "    </tr>\n",
              "    <tr>\n",
              "      <th>3</th>\n",
              "      <td>1312199</td>\n",
              "      <td>2</td>\n",
              "      <td>67</td>\n",
              "      <td>1.0</td>\n",
              "      <td>Rajasthan Royals</td>\n",
              "      <td>Royal Challengers Bangalore</td>\n",
              "    </tr>\n",
              "    <tr>\n",
              "      <th>4</th>\n",
              "      <td>1312198</td>\n",
              "      <td>1</td>\n",
              "      <td>52</td>\n",
              "      <td>1.0</td>\n",
              "      <td>Royal Challengers Bangalore</td>\n",
              "      <td>Lucknow Super Giants</td>\n",
              "    </tr>\n",
              "    <tr>\n",
              "      <th>...</th>\n",
              "      <td>...</td>\n",
              "      <td>...</td>\n",
              "      <td>...</td>\n",
              "      <td>...</td>\n",
              "      <td>...</td>\n",
              "      <td>...</td>\n",
              "    </tr>\n",
              "    <tr>\n",
              "      <th>1891</th>\n",
              "      <td>335984</td>\n",
              "      <td>2</td>\n",
              "      <td>55</td>\n",
              "      <td>1.0</td>\n",
              "      <td>Delhi Daredevils</td>\n",
              "      <td>Rajasthan Royals</td>\n",
              "    </tr>\n",
              "    <tr>\n",
              "      <th>1892</th>\n",
              "      <td>335983</td>\n",
              "      <td>1</td>\n",
              "      <td>53</td>\n",
              "      <td>1.0</td>\n",
              "      <td>Chennai Super Kings</td>\n",
              "      <td>Kings XI Punjab</td>\n",
              "    </tr>\n",
              "    <tr>\n",
              "      <th>1893</th>\n",
              "      <td>335983</td>\n",
              "      <td>2</td>\n",
              "      <td>63</td>\n",
              "      <td>1.0</td>\n",
              "      <td>Kings XI Punjab</td>\n",
              "      <td>Chennai Super Kings</td>\n",
              "    </tr>\n",
              "    <tr>\n",
              "      <th>1894</th>\n",
              "      <td>335982</td>\n",
              "      <td>1</td>\n",
              "      <td>61</td>\n",
              "      <td>1.0</td>\n",
              "      <td>Kolkata Knight Riders</td>\n",
              "      <td>Royal Challengers Bangalore</td>\n",
              "    </tr>\n",
              "    <tr>\n",
              "      <th>1895</th>\n",
              "      <td>335982</td>\n",
              "      <td>2</td>\n",
              "      <td>26</td>\n",
              "      <td>4.0</td>\n",
              "      <td>Royal Challengers Bangalore</td>\n",
              "      <td>Kolkata Knight Riders</td>\n",
              "    </tr>\n",
              "  </tbody>\n",
              "</table>\n",
              "<p>1896 rows × 6 columns</p>\n",
              "</div>\n",
              "      <button class=\"colab-df-convert\" onclick=\"convertToInteractive('df-b48d8e81-6031-422c-a6a0-d428421e3645')\"\n",
              "              title=\"Convert this dataframe to an interactive table.\"\n",
              "              style=\"display:none;\">\n",
              "        \n",
              "  <svg xmlns=\"http://www.w3.org/2000/svg\" height=\"24px\"viewBox=\"0 0 24 24\"\n",
              "       width=\"24px\">\n",
              "    <path d=\"M0 0h24v24H0V0z\" fill=\"none\"/>\n",
              "    <path d=\"M18.56 5.44l.94 2.06.94-2.06 2.06-.94-2.06-.94-.94-2.06-.94 2.06-2.06.94zm-11 1L8.5 8.5l.94-2.06 2.06-.94-2.06-.94L8.5 2.5l-.94 2.06-2.06.94zm10 10l.94 2.06.94-2.06 2.06-.94-2.06-.94-.94-2.06-.94 2.06-2.06.94z\"/><path d=\"M17.41 7.96l-1.37-1.37c-.4-.4-.92-.59-1.43-.59-.52 0-1.04.2-1.43.59L10.3 9.45l-7.72 7.72c-.78.78-.78 2.05 0 2.83L4 21.41c.39.39.9.59 1.41.59.51 0 1.02-.2 1.41-.59l7.78-7.78 2.81-2.81c.8-.78.8-2.07 0-2.86zM5.41 20L4 18.59l7.72-7.72 1.47 1.35L5.41 20z\"/>\n",
              "  </svg>\n",
              "      </button>\n",
              "      \n",
              "  <style>\n",
              "    .colab-df-container {\n",
              "      display:flex;\n",
              "      flex-wrap:wrap;\n",
              "      gap: 12px;\n",
              "    }\n",
              "\n",
              "    .colab-df-convert {\n",
              "      background-color: #E8F0FE;\n",
              "      border: none;\n",
              "      border-radius: 50%;\n",
              "      cursor: pointer;\n",
              "      display: none;\n",
              "      fill: #1967D2;\n",
              "      height: 32px;\n",
              "      padding: 0 0 0 0;\n",
              "      width: 32px;\n",
              "    }\n",
              "\n",
              "    .colab-df-convert:hover {\n",
              "      background-color: #E2EBFA;\n",
              "      box-shadow: 0px 1px 2px rgba(60, 64, 67, 0.3), 0px 1px 3px 1px rgba(60, 64, 67, 0.15);\n",
              "      fill: #174EA6;\n",
              "    }\n",
              "\n",
              "    [theme=dark] .colab-df-convert {\n",
              "      background-color: #3B4455;\n",
              "      fill: #D2E3FC;\n",
              "    }\n",
              "\n",
              "    [theme=dark] .colab-df-convert:hover {\n",
              "      background-color: #434B5C;\n",
              "      box-shadow: 0px 1px 3px 1px rgba(0, 0, 0, 0.15);\n",
              "      filter: drop-shadow(0px 1px 2px rgba(0, 0, 0, 0.3));\n",
              "      fill: #FFFFFF;\n",
              "    }\n",
              "  </style>\n",
              "\n",
              "      <script>\n",
              "        const buttonEl =\n",
              "          document.querySelector('#df-b48d8e81-6031-422c-a6a0-d428421e3645 button.colab-df-convert');\n",
              "        buttonEl.style.display =\n",
              "          google.colab.kernel.accessAllowed ? 'block' : 'none';\n",
              "\n",
              "        async function convertToInteractive(key) {\n",
              "          const element = document.querySelector('#df-b48d8e81-6031-422c-a6a0-d428421e3645');\n",
              "          const dataTable =\n",
              "            await google.colab.kernel.invokeFunction('convertToInteractive',\n",
              "                                                     [key], {});\n",
              "          if (!dataTable) return;\n",
              "\n",
              "          const docLinkHtml = 'Like what you see? Visit the ' +\n",
              "            '<a target=\"_blank\" href=https://colab.research.google.com/notebooks/data_table.ipynb>data table notebook</a>'\n",
              "            + ' to learn more about interactive tables.';\n",
              "          element.innerHTML = '';\n",
              "          dataTable['output_type'] = 'display_data';\n",
              "          await google.colab.output.renderOutput(dataTable, element);\n",
              "          const docLink = document.createElement('div');\n",
              "          docLink.innerHTML = docLinkHtml;\n",
              "          element.appendChild(docLink);\n",
              "        }\n",
              "      </script>\n",
              "    </div>\n",
              "  </div>\n",
              "  "
            ]
          },
          "metadata": {},
          "execution_count": 24
        }
      ]
    },
    {
      "cell_type": "code",
      "source": [
        "merged_df = pd.merge(powerplay_runs, result_df, how = 'left',on = 'ID')"
      ],
      "metadata": {
        "id": "tC5FA1ktjvto"
      },
      "execution_count": 25,
      "outputs": []
    },
    {
      "cell_type": "markdown",
      "source": [
        "Selecting only required columns"
      ],
      "metadata": {
        "id": "WbPMxWCj3Oc0"
      }
    },
    {
      "cell_type": "code",
      "source": [
        "merged_df.columns"
      ],
      "metadata": {
        "colab": {
          "base_uri": "https://localhost:8080/"
        },
        "id": "tPxvyqvB3Md_",
        "outputId": "f47cc482-f2ee-4852-d9aa-10a7be924402"
      },
      "execution_count": 26,
      "outputs": [
        {
          "output_type": "execute_result",
          "data": {
            "text/plain": [
              "Index(['ID', 'inning', 'powerplay_runs', 'powerplay_wickets', 'Batting_team',\n",
              "       'Bowling_team', 'City', 'Date', 'Season', 'MatchNumber', 'Team1',\n",
              "       'Team2', 'Venue', 'TossWinner', 'TossDecision', 'SuperOver',\n",
              "       'WinningTeam', 'WonBy', 'Margin', 'method', 'Player_of_Match',\n",
              "       'Team1Players', 'Team2Players', 'Umpire1', 'Umpire2'],\n",
              "      dtype='object')"
            ]
          },
          "metadata": {},
          "execution_count": 26
        }
      ]
    },
    {
      "cell_type": "code",
      "source": [
        "merged_df = merged_df[['ID', 'inning','Venue','Season','Batting_team',\n",
        "       'Bowling_team', 'City','Team1','Team1Players','Team2','Team2Players','powerplay_wickets','powerplay_runs']]"
      ],
      "metadata": {
        "id": "894LdKF53Avi"
      },
      "execution_count": 27,
      "outputs": []
    },
    {
      "cell_type": "code",
      "source": [
        "merged_df['Team1Players'][0]"
      ],
      "metadata": {
        "id": "_-SErOtNql_Z",
        "colab": {
          "base_uri": "https://localhost:8080/",
          "height": 35
        },
        "outputId": "2b62b543-7d57-4fec-9b37-59c1e38399e1"
      },
      "execution_count": 28,
      "outputs": [
        {
          "output_type": "execute_result",
          "data": {
            "text/plain": [
              "\"['YBK Jaiswal', 'JC Buttler', 'SV Samson', 'D Padikkal', 'SO Hetmyer', 'R Ashwin', 'R Parag', 'TA Boult', 'OC McCoy', 'M Prasidh Krishna', 'YS Chahal']\""
            ],
            "application/vnd.google.colaboratory.intrinsic+json": {
              "type": "string"
            }
          },
          "metadata": {},
          "execution_count": 28
        }
      ]
    },
    {
      "cell_type": "code",
      "source": [
        "input_format_df"
      ],
      "metadata": {
        "colab": {
          "base_uri": "https://localhost:8080/",
          "height": 156
        },
        "id": "rrr3g_If5fRg",
        "outputId": "c50cfdad-ce38-468f-f924-e843b50e00fd"
      },
      "execution_count": 29,
      "outputs": [
        {
          "output_type": "execute_result",
          "data": {
            "text/plain": [
              "                    venue  innings           batting_team  \\\n",
              "0  MA Chidambaram Stadium        1         Mumbai Indians   \n",
              "1  MA Chidambaram Stadium        2  Kolkata Knight Riders   \n",
              "\n",
              "            bowling_team                                            batsmen  \\\n",
              "0  Kolkata Knight Riders    Quinton de Kock, Rohit Sharma, Suryakumar Yadav   \n",
              "1         Mumbai Indians  Harbhajan Singh, Varun Chakravarthy, Shakib Al...   \n",
              "\n",
              "                                             bowlers  \n",
              "0  Harbhajan Singh, Varun Chakravarthy, Shakib Al...  \n",
              "1    Quinton de Kock, Rohit Sharma, Suryakumar Yadav  "
            ],
            "text/html": [
              "\n",
              "  <div id=\"df-b80528ee-be5b-4e0c-9140-9678e4c1f83e\">\n",
              "    <div class=\"colab-df-container\">\n",
              "      <div>\n",
              "<style scoped>\n",
              "    .dataframe tbody tr th:only-of-type {\n",
              "        vertical-align: middle;\n",
              "    }\n",
              "\n",
              "    .dataframe tbody tr th {\n",
              "        vertical-align: top;\n",
              "    }\n",
              "\n",
              "    .dataframe thead th {\n",
              "        text-align: right;\n",
              "    }\n",
              "</style>\n",
              "<table border=\"1\" class=\"dataframe\">\n",
              "  <thead>\n",
              "    <tr style=\"text-align: right;\">\n",
              "      <th></th>\n",
              "      <th>venue</th>\n",
              "      <th>innings</th>\n",
              "      <th>batting_team</th>\n",
              "      <th>bowling_team</th>\n",
              "      <th>batsmen</th>\n",
              "      <th>bowlers</th>\n",
              "    </tr>\n",
              "  </thead>\n",
              "  <tbody>\n",
              "    <tr>\n",
              "      <th>0</th>\n",
              "      <td>MA Chidambaram Stadium</td>\n",
              "      <td>1</td>\n",
              "      <td>Mumbai Indians</td>\n",
              "      <td>Kolkata Knight Riders</td>\n",
              "      <td>Quinton de Kock, Rohit Sharma, Suryakumar Yadav</td>\n",
              "      <td>Harbhajan Singh, Varun Chakravarthy, Shakib Al...</td>\n",
              "    </tr>\n",
              "    <tr>\n",
              "      <th>1</th>\n",
              "      <td>MA Chidambaram Stadium</td>\n",
              "      <td>2</td>\n",
              "      <td>Kolkata Knight Riders</td>\n",
              "      <td>Mumbai Indians</td>\n",
              "      <td>Harbhajan Singh, Varun Chakravarthy, Shakib Al...</td>\n",
              "      <td>Quinton de Kock, Rohit Sharma, Suryakumar Yadav</td>\n",
              "    </tr>\n",
              "  </tbody>\n",
              "</table>\n",
              "</div>\n",
              "      <button class=\"colab-df-convert\" onclick=\"convertToInteractive('df-b80528ee-be5b-4e0c-9140-9678e4c1f83e')\"\n",
              "              title=\"Convert this dataframe to an interactive table.\"\n",
              "              style=\"display:none;\">\n",
              "        \n",
              "  <svg xmlns=\"http://www.w3.org/2000/svg\" height=\"24px\"viewBox=\"0 0 24 24\"\n",
              "       width=\"24px\">\n",
              "    <path d=\"M0 0h24v24H0V0z\" fill=\"none\"/>\n",
              "    <path d=\"M18.56 5.44l.94 2.06.94-2.06 2.06-.94-2.06-.94-.94-2.06-.94 2.06-2.06.94zm-11 1L8.5 8.5l.94-2.06 2.06-.94-2.06-.94L8.5 2.5l-.94 2.06-2.06.94zm10 10l.94 2.06.94-2.06 2.06-.94-2.06-.94-.94-2.06-.94 2.06-2.06.94z\"/><path d=\"M17.41 7.96l-1.37-1.37c-.4-.4-.92-.59-1.43-.59-.52 0-1.04.2-1.43.59L10.3 9.45l-7.72 7.72c-.78.78-.78 2.05 0 2.83L4 21.41c.39.39.9.59 1.41.59.51 0 1.02-.2 1.41-.59l7.78-7.78 2.81-2.81c.8-.78.8-2.07 0-2.86zM5.41 20L4 18.59l7.72-7.72 1.47 1.35L5.41 20z\"/>\n",
              "  </svg>\n",
              "      </button>\n",
              "      \n",
              "  <style>\n",
              "    .colab-df-container {\n",
              "      display:flex;\n",
              "      flex-wrap:wrap;\n",
              "      gap: 12px;\n",
              "    }\n",
              "\n",
              "    .colab-df-convert {\n",
              "      background-color: #E8F0FE;\n",
              "      border: none;\n",
              "      border-radius: 50%;\n",
              "      cursor: pointer;\n",
              "      display: none;\n",
              "      fill: #1967D2;\n",
              "      height: 32px;\n",
              "      padding: 0 0 0 0;\n",
              "      width: 32px;\n",
              "    }\n",
              "\n",
              "    .colab-df-convert:hover {\n",
              "      background-color: #E2EBFA;\n",
              "      box-shadow: 0px 1px 2px rgba(60, 64, 67, 0.3), 0px 1px 3px 1px rgba(60, 64, 67, 0.15);\n",
              "      fill: #174EA6;\n",
              "    }\n",
              "\n",
              "    [theme=dark] .colab-df-convert {\n",
              "      background-color: #3B4455;\n",
              "      fill: #D2E3FC;\n",
              "    }\n",
              "\n",
              "    [theme=dark] .colab-df-convert:hover {\n",
              "      background-color: #434B5C;\n",
              "      box-shadow: 0px 1px 3px 1px rgba(0, 0, 0, 0.15);\n",
              "      filter: drop-shadow(0px 1px 2px rgba(0, 0, 0, 0.3));\n",
              "      fill: #FFFFFF;\n",
              "    }\n",
              "  </style>\n",
              "\n",
              "      <script>\n",
              "        const buttonEl =\n",
              "          document.querySelector('#df-b80528ee-be5b-4e0c-9140-9678e4c1f83e button.colab-df-convert');\n",
              "        buttonEl.style.display =\n",
              "          google.colab.kernel.accessAllowed ? 'block' : 'none';\n",
              "\n",
              "        async function convertToInteractive(key) {\n",
              "          const element = document.querySelector('#df-b80528ee-be5b-4e0c-9140-9678e4c1f83e');\n",
              "          const dataTable =\n",
              "            await google.colab.kernel.invokeFunction('convertToInteractive',\n",
              "                                                     [key], {});\n",
              "          if (!dataTable) return;\n",
              "\n",
              "          const docLinkHtml = 'Like what you see? Visit the ' +\n",
              "            '<a target=\"_blank\" href=https://colab.research.google.com/notebooks/data_table.ipynb>data table notebook</a>'\n",
              "            + ' to learn more about interactive tables.';\n",
              "          element.innerHTML = '';\n",
              "          dataTable['output_type'] = 'display_data';\n",
              "          await google.colab.output.renderOutput(dataTable, element);\n",
              "          const docLink = document.createElement('div');\n",
              "          docLink.innerHTML = docLinkHtml;\n",
              "          element.appendChild(docLink);\n",
              "        }\n",
              "      </script>\n",
              "    </div>\n",
              "  </div>\n",
              "  "
            ]
          },
          "metadata": {},
          "execution_count": 29
        }
      ]
    },
    {
      "cell_type": "code",
      "source": [
        "merged_df.columns"
      ],
      "metadata": {
        "colab": {
          "base_uri": "https://localhost:8080/"
        },
        "id": "XBAW9fUz6AmP",
        "outputId": "5b618824-6a63-4f12-ff80-d040d38887a0"
      },
      "execution_count": 30,
      "outputs": [
        {
          "output_type": "execute_result",
          "data": {
            "text/plain": [
              "Index(['ID', 'inning', 'Venue', 'Season', 'Batting_team', 'Bowling_team',\n",
              "       'City', 'Team1', 'Team1Players', 'Team2', 'Team2Players',\n",
              "       'powerplay_wickets', 'powerplay_runs'],\n",
              "      dtype='object')"
            ]
          },
          "metadata": {},
          "execution_count": 30
        }
      ]
    },
    {
      "cell_type": "code",
      "source": [
        "# Define a function to extract the player names for a given team\n",
        "def extract_players(team_name, team_players1, team_players2, team1_name, team2_name):\n",
        "    if team_name == team1_name:\n",
        "        return team_players1\n",
        "    else:\n",
        "        return team_players2\n",
        "\n",
        "# Apply the extract_players function to create the batting_team_players and bowling_team_players columns\n",
        "merged_df['batting_team_players'] = merged_df.apply(lambda row: extract_players(row['Batting_team'], row['Team1Players'],row['Team2Players'], row['Team1'], row['Team2']), axis=1)\n",
        "merged_df['bowling_team_players'] = merged_df.apply(lambda row: extract_players(row['Bowling_team'], row['Team1Players'],row['Team2Players'], row['Team1'], row['Team2']), axis=1)\n"
      ],
      "metadata": {
        "id": "roTR0kCC7fN2"
      },
      "execution_count": 31,
      "outputs": []
    },
    {
      "cell_type": "code",
      "source": [
        "merged_df = merged_df.drop(['Team1','Team1Players','Team2', 'Team2Players'], axis=1)"
      ],
      "metadata": {
        "id": "7Mx0AQbR8vOi"
      },
      "execution_count": 32,
      "outputs": []
    },
    {
      "cell_type": "code",
      "source": [
        "merged_df['Season'].unique()"
      ],
      "metadata": {
        "colab": {
          "base_uri": "https://localhost:8080/"
        },
        "id": "v0m8BWjS92eN",
        "outputId": "04baae09-b3d4-4168-bbdf-cc235c4eb2ae"
      },
      "execution_count": 33,
      "outputs": [
        {
          "output_type": "execute_result",
          "data": {
            "text/plain": [
              "array(['2022', '2021', '2020/21', '2019', '2018', '2017', '2016', '2015',\n",
              "       '2014', '2013', '2012', '2011', '2009/10', '2009', '2007/08'],\n",
              "      dtype=object)"
            ]
          },
          "metadata": {},
          "execution_count": 33
        }
      ]
    },
    {
      "cell_type": "code",
      "source": [
        "merged_df.City.unique()"
      ],
      "metadata": {
        "colab": {
          "base_uri": "https://localhost:8080/"
        },
        "id": "Lsm72b3h-2sr",
        "outputId": "338e1ff3-2dfa-4738-9437-03a8165902f3"
      },
      "execution_count": 34,
      "outputs": [
        {
          "output_type": "execute_result",
          "data": {
            "text/plain": [
              "array(['Ahmedabad', 'Kolkata', 'Mumbai', 'Navi Mumbai', 'Pune', 'Dubai',\n",
              "       'Sharjah', 'Abu Dhabi', 'Delhi', 'Chennai', nan, 'Hyderabad',\n",
              "       'Visakhapatnam', 'Chandigarh', 'Bengaluru', 'Jaipur', 'Indore',\n",
              "       'Bangalore', 'Kanpur', 'Rajkot', 'Raipur', 'Ranchi', 'Cuttack',\n",
              "       'Dharamsala', 'Kochi', 'Nagpur', 'Johannesburg', 'Centurion',\n",
              "       'Durban', 'Bloemfontein', 'Port Elizabeth', 'Kimberley',\n",
              "       'East London', 'Cape Town'], dtype=object)"
            ]
          },
          "metadata": {},
          "execution_count": 34
        }
      ]
    },
    {
      "cell_type": "code",
      "source": [
        "merged_df['is_india'] = merged_df.apply(lambda row: 0 if row['City'] in ['Dubai','Sharjah', 'Abu Dhabi','Johannesburg', 'Centurion',\n",
        "       'Durban', 'Bloemfontein', 'Port Elizabeth', 'Kimberley',\n",
        "       'East London', 'Cape Town'] else 1, axis = 1)"
      ],
      "metadata": {
        "id": "GrLSyNy39CK3"
      },
      "execution_count": 35,
      "outputs": []
    },
    {
      "cell_type": "code",
      "source": [
        "input_format_df"
      ],
      "metadata": {
        "colab": {
          "base_uri": "https://localhost:8080/",
          "height": 156
        },
        "id": "6ZEq2QBp9Xnp",
        "outputId": "b6975728-77fa-4e2c-fad0-7b7421019d3d"
      },
      "execution_count": 36,
      "outputs": [
        {
          "output_type": "execute_result",
          "data": {
            "text/plain": [
              "                    venue  innings           batting_team  \\\n",
              "0  MA Chidambaram Stadium        1         Mumbai Indians   \n",
              "1  MA Chidambaram Stadium        2  Kolkata Knight Riders   \n",
              "\n",
              "            bowling_team                                            batsmen  \\\n",
              "0  Kolkata Knight Riders    Quinton de Kock, Rohit Sharma, Suryakumar Yadav   \n",
              "1         Mumbai Indians  Harbhajan Singh, Varun Chakravarthy, Shakib Al...   \n",
              "\n",
              "                                             bowlers  \n",
              "0  Harbhajan Singh, Varun Chakravarthy, Shakib Al...  \n",
              "1    Quinton de Kock, Rohit Sharma, Suryakumar Yadav  "
            ],
            "text/html": [
              "\n",
              "  <div id=\"df-400c730e-1a93-4f5b-b858-f4a156cb893f\">\n",
              "    <div class=\"colab-df-container\">\n",
              "      <div>\n",
              "<style scoped>\n",
              "    .dataframe tbody tr th:only-of-type {\n",
              "        vertical-align: middle;\n",
              "    }\n",
              "\n",
              "    .dataframe tbody tr th {\n",
              "        vertical-align: top;\n",
              "    }\n",
              "\n",
              "    .dataframe thead th {\n",
              "        text-align: right;\n",
              "    }\n",
              "</style>\n",
              "<table border=\"1\" class=\"dataframe\">\n",
              "  <thead>\n",
              "    <tr style=\"text-align: right;\">\n",
              "      <th></th>\n",
              "      <th>venue</th>\n",
              "      <th>innings</th>\n",
              "      <th>batting_team</th>\n",
              "      <th>bowling_team</th>\n",
              "      <th>batsmen</th>\n",
              "      <th>bowlers</th>\n",
              "    </tr>\n",
              "  </thead>\n",
              "  <tbody>\n",
              "    <tr>\n",
              "      <th>0</th>\n",
              "      <td>MA Chidambaram Stadium</td>\n",
              "      <td>1</td>\n",
              "      <td>Mumbai Indians</td>\n",
              "      <td>Kolkata Knight Riders</td>\n",
              "      <td>Quinton de Kock, Rohit Sharma, Suryakumar Yadav</td>\n",
              "      <td>Harbhajan Singh, Varun Chakravarthy, Shakib Al...</td>\n",
              "    </tr>\n",
              "    <tr>\n",
              "      <th>1</th>\n",
              "      <td>MA Chidambaram Stadium</td>\n",
              "      <td>2</td>\n",
              "      <td>Kolkata Knight Riders</td>\n",
              "      <td>Mumbai Indians</td>\n",
              "      <td>Harbhajan Singh, Varun Chakravarthy, Shakib Al...</td>\n",
              "      <td>Quinton de Kock, Rohit Sharma, Suryakumar Yadav</td>\n",
              "    </tr>\n",
              "  </tbody>\n",
              "</table>\n",
              "</div>\n",
              "      <button class=\"colab-df-convert\" onclick=\"convertToInteractive('df-400c730e-1a93-4f5b-b858-f4a156cb893f')\"\n",
              "              title=\"Convert this dataframe to an interactive table.\"\n",
              "              style=\"display:none;\">\n",
              "        \n",
              "  <svg xmlns=\"http://www.w3.org/2000/svg\" height=\"24px\"viewBox=\"0 0 24 24\"\n",
              "       width=\"24px\">\n",
              "    <path d=\"M0 0h24v24H0V0z\" fill=\"none\"/>\n",
              "    <path d=\"M18.56 5.44l.94 2.06.94-2.06 2.06-.94-2.06-.94-.94-2.06-.94 2.06-2.06.94zm-11 1L8.5 8.5l.94-2.06 2.06-.94-2.06-.94L8.5 2.5l-.94 2.06-2.06.94zm10 10l.94 2.06.94-2.06 2.06-.94-2.06-.94-.94-2.06-.94 2.06-2.06.94z\"/><path d=\"M17.41 7.96l-1.37-1.37c-.4-.4-.92-.59-1.43-.59-.52 0-1.04.2-1.43.59L10.3 9.45l-7.72 7.72c-.78.78-.78 2.05 0 2.83L4 21.41c.39.39.9.59 1.41.59.51 0 1.02-.2 1.41-.59l7.78-7.78 2.81-2.81c.8-.78.8-2.07 0-2.86zM5.41 20L4 18.59l7.72-7.72 1.47 1.35L5.41 20z\"/>\n",
              "  </svg>\n",
              "      </button>\n",
              "      \n",
              "  <style>\n",
              "    .colab-df-container {\n",
              "      display:flex;\n",
              "      flex-wrap:wrap;\n",
              "      gap: 12px;\n",
              "    }\n",
              "\n",
              "    .colab-df-convert {\n",
              "      background-color: #E8F0FE;\n",
              "      border: none;\n",
              "      border-radius: 50%;\n",
              "      cursor: pointer;\n",
              "      display: none;\n",
              "      fill: #1967D2;\n",
              "      height: 32px;\n",
              "      padding: 0 0 0 0;\n",
              "      width: 32px;\n",
              "    }\n",
              "\n",
              "    .colab-df-convert:hover {\n",
              "      background-color: #E2EBFA;\n",
              "      box-shadow: 0px 1px 2px rgba(60, 64, 67, 0.3), 0px 1px 3px 1px rgba(60, 64, 67, 0.15);\n",
              "      fill: #174EA6;\n",
              "    }\n",
              "\n",
              "    [theme=dark] .colab-df-convert {\n",
              "      background-color: #3B4455;\n",
              "      fill: #D2E3FC;\n",
              "    }\n",
              "\n",
              "    [theme=dark] .colab-df-convert:hover {\n",
              "      background-color: #434B5C;\n",
              "      box-shadow: 0px 1px 3px 1px rgba(0, 0, 0, 0.15);\n",
              "      filter: drop-shadow(0px 1px 2px rgba(0, 0, 0, 0.3));\n",
              "      fill: #FFFFFF;\n",
              "    }\n",
              "  </style>\n",
              "\n",
              "      <script>\n",
              "        const buttonEl =\n",
              "          document.querySelector('#df-400c730e-1a93-4f5b-b858-f4a156cb893f button.colab-df-convert');\n",
              "        buttonEl.style.display =\n",
              "          google.colab.kernel.accessAllowed ? 'block' : 'none';\n",
              "\n",
              "        async function convertToInteractive(key) {\n",
              "          const element = document.querySelector('#df-400c730e-1a93-4f5b-b858-f4a156cb893f');\n",
              "          const dataTable =\n",
              "            await google.colab.kernel.invokeFunction('convertToInteractive',\n",
              "                                                     [key], {});\n",
              "          if (!dataTable) return;\n",
              "\n",
              "          const docLinkHtml = 'Like what you see? Visit the ' +\n",
              "            '<a target=\"_blank\" href=https://colab.research.google.com/notebooks/data_table.ipynb>data table notebook</a>'\n",
              "            + ' to learn more about interactive tables.';\n",
              "          element.innerHTML = '';\n",
              "          dataTable['output_type'] = 'display_data';\n",
              "          await google.colab.output.renderOutput(dataTable, element);\n",
              "          const docLink = document.createElement('div');\n",
              "          docLink.innerHTML = docLinkHtml;\n",
              "          element.appendChild(docLink);\n",
              "        }\n",
              "      </script>\n",
              "    </div>\n",
              "  </div>\n",
              "  "
            ]
          },
          "metadata": {},
          "execution_count": 36
        }
      ]
    },
    {
      "cell_type": "code",
      "source": [
        "input_format_df.iloc[:,:]"
      ],
      "metadata": {
        "colab": {
          "base_uri": "https://localhost:8080/",
          "height": 156
        },
        "id": "GY1uxoSCPLqZ",
        "outputId": "5fe4518a-5670-4e10-e72f-92130a200d86"
      },
      "execution_count": 37,
      "outputs": [
        {
          "output_type": "execute_result",
          "data": {
            "text/plain": [
              "                    venue  innings           batting_team  \\\n",
              "0  MA Chidambaram Stadium        1         Mumbai Indians   \n",
              "1  MA Chidambaram Stadium        2  Kolkata Knight Riders   \n",
              "\n",
              "            bowling_team                                            batsmen  \\\n",
              "0  Kolkata Knight Riders    Quinton de Kock, Rohit Sharma, Suryakumar Yadav   \n",
              "1         Mumbai Indians  Harbhajan Singh, Varun Chakravarthy, Shakib Al...   \n",
              "\n",
              "                                             bowlers  \n",
              "0  Harbhajan Singh, Varun Chakravarthy, Shakib Al...  \n",
              "1    Quinton de Kock, Rohit Sharma, Suryakumar Yadav  "
            ],
            "text/html": [
              "\n",
              "  <div id=\"df-846757b0-f21d-411f-992a-8c754656cf3e\">\n",
              "    <div class=\"colab-df-container\">\n",
              "      <div>\n",
              "<style scoped>\n",
              "    .dataframe tbody tr th:only-of-type {\n",
              "        vertical-align: middle;\n",
              "    }\n",
              "\n",
              "    .dataframe tbody tr th {\n",
              "        vertical-align: top;\n",
              "    }\n",
              "\n",
              "    .dataframe thead th {\n",
              "        text-align: right;\n",
              "    }\n",
              "</style>\n",
              "<table border=\"1\" class=\"dataframe\">\n",
              "  <thead>\n",
              "    <tr style=\"text-align: right;\">\n",
              "      <th></th>\n",
              "      <th>venue</th>\n",
              "      <th>innings</th>\n",
              "      <th>batting_team</th>\n",
              "      <th>bowling_team</th>\n",
              "      <th>batsmen</th>\n",
              "      <th>bowlers</th>\n",
              "    </tr>\n",
              "  </thead>\n",
              "  <tbody>\n",
              "    <tr>\n",
              "      <th>0</th>\n",
              "      <td>MA Chidambaram Stadium</td>\n",
              "      <td>1</td>\n",
              "      <td>Mumbai Indians</td>\n",
              "      <td>Kolkata Knight Riders</td>\n",
              "      <td>Quinton de Kock, Rohit Sharma, Suryakumar Yadav</td>\n",
              "      <td>Harbhajan Singh, Varun Chakravarthy, Shakib Al...</td>\n",
              "    </tr>\n",
              "    <tr>\n",
              "      <th>1</th>\n",
              "      <td>MA Chidambaram Stadium</td>\n",
              "      <td>2</td>\n",
              "      <td>Kolkata Knight Riders</td>\n",
              "      <td>Mumbai Indians</td>\n",
              "      <td>Harbhajan Singh, Varun Chakravarthy, Shakib Al...</td>\n",
              "      <td>Quinton de Kock, Rohit Sharma, Suryakumar Yadav</td>\n",
              "    </tr>\n",
              "  </tbody>\n",
              "</table>\n",
              "</div>\n",
              "      <button class=\"colab-df-convert\" onclick=\"convertToInteractive('df-846757b0-f21d-411f-992a-8c754656cf3e')\"\n",
              "              title=\"Convert this dataframe to an interactive table.\"\n",
              "              style=\"display:none;\">\n",
              "        \n",
              "  <svg xmlns=\"http://www.w3.org/2000/svg\" height=\"24px\"viewBox=\"0 0 24 24\"\n",
              "       width=\"24px\">\n",
              "    <path d=\"M0 0h24v24H0V0z\" fill=\"none\"/>\n",
              "    <path d=\"M18.56 5.44l.94 2.06.94-2.06 2.06-.94-2.06-.94-.94-2.06-.94 2.06-2.06.94zm-11 1L8.5 8.5l.94-2.06 2.06-.94-2.06-.94L8.5 2.5l-.94 2.06-2.06.94zm10 10l.94 2.06.94-2.06 2.06-.94-2.06-.94-.94-2.06-.94 2.06-2.06.94z\"/><path d=\"M17.41 7.96l-1.37-1.37c-.4-.4-.92-.59-1.43-.59-.52 0-1.04.2-1.43.59L10.3 9.45l-7.72 7.72c-.78.78-.78 2.05 0 2.83L4 21.41c.39.39.9.59 1.41.59.51 0 1.02-.2 1.41-.59l7.78-7.78 2.81-2.81c.8-.78.8-2.07 0-2.86zM5.41 20L4 18.59l7.72-7.72 1.47 1.35L5.41 20z\"/>\n",
              "  </svg>\n",
              "      </button>\n",
              "      \n",
              "  <style>\n",
              "    .colab-df-container {\n",
              "      display:flex;\n",
              "      flex-wrap:wrap;\n",
              "      gap: 12px;\n",
              "    }\n",
              "\n",
              "    .colab-df-convert {\n",
              "      background-color: #E8F0FE;\n",
              "      border: none;\n",
              "      border-radius: 50%;\n",
              "      cursor: pointer;\n",
              "      display: none;\n",
              "      fill: #1967D2;\n",
              "      height: 32px;\n",
              "      padding: 0 0 0 0;\n",
              "      width: 32px;\n",
              "    }\n",
              "\n",
              "    .colab-df-convert:hover {\n",
              "      background-color: #E2EBFA;\n",
              "      box-shadow: 0px 1px 2px rgba(60, 64, 67, 0.3), 0px 1px 3px 1px rgba(60, 64, 67, 0.15);\n",
              "      fill: #174EA6;\n",
              "    }\n",
              "\n",
              "    [theme=dark] .colab-df-convert {\n",
              "      background-color: #3B4455;\n",
              "      fill: #D2E3FC;\n",
              "    }\n",
              "\n",
              "    [theme=dark] .colab-df-convert:hover {\n",
              "      background-color: #434B5C;\n",
              "      box-shadow: 0px 1px 3px 1px rgba(0, 0, 0, 0.15);\n",
              "      filter: drop-shadow(0px 1px 2px rgba(0, 0, 0, 0.3));\n",
              "      fill: #FFFFFF;\n",
              "    }\n",
              "  </style>\n",
              "\n",
              "      <script>\n",
              "        const buttonEl =\n",
              "          document.querySelector('#df-846757b0-f21d-411f-992a-8c754656cf3e button.colab-df-convert');\n",
              "        buttonEl.style.display =\n",
              "          google.colab.kernel.accessAllowed ? 'block' : 'none';\n",
              "\n",
              "        async function convertToInteractive(key) {\n",
              "          const element = document.querySelector('#df-846757b0-f21d-411f-992a-8c754656cf3e');\n",
              "          const dataTable =\n",
              "            await google.colab.kernel.invokeFunction('convertToInteractive',\n",
              "                                                     [key], {});\n",
              "          if (!dataTable) return;\n",
              "\n",
              "          const docLinkHtml = 'Like what you see? Visit the ' +\n",
              "            '<a target=\"_blank\" href=https://colab.research.google.com/notebooks/data_table.ipynb>data table notebook</a>'\n",
              "            + ' to learn more about interactive tables.';\n",
              "          element.innerHTML = '';\n",
              "          dataTable['output_type'] = 'display_data';\n",
              "          await google.colab.output.renderOutput(dataTable, element);\n",
              "          const docLink = document.createElement('div');\n",
              "          docLink.innerHTML = docLinkHtml;\n",
              "          element.appendChild(docLink);\n",
              "        }\n",
              "      </script>\n",
              "    </div>\n",
              "  </div>\n",
              "  "
            ]
          },
          "metadata": {},
          "execution_count": 37
        }
      ]
    },
    {
      "cell_type": "code",
      "source": [
        "merged_df.head()"
      ],
      "metadata": {
        "colab": {
          "base_uri": "https://localhost:8080/",
          "height": 513
        },
        "id": "_RQtnzuR_AfR",
        "outputId": "0b66bec0-3c3f-4997-c0d6-ce4b69f04298"
      },
      "execution_count": 38,
      "outputs": [
        {
          "output_type": "execute_result",
          "data": {
            "text/plain": [
              "        ID inning                             Venue Season  \\\n",
              "0  1312200      1  Narendra Modi Stadium, Ahmedabad   2022   \n",
              "1  1312200      2  Narendra Modi Stadium, Ahmedabad   2022   \n",
              "2  1312199      1  Narendra Modi Stadium, Ahmedabad   2022   \n",
              "3  1312199      2  Narendra Modi Stadium, Ahmedabad   2022   \n",
              "4  1312198      1             Eden Gardens, Kolkata   2022   \n",
              "\n",
              "                  Batting_team                 Bowling_team       City  \\\n",
              "0             Rajasthan Royals               Gujarat Titans  Ahmedabad   \n",
              "1               Gujarat Titans             Rajasthan Royals  Ahmedabad   \n",
              "2  Royal Challengers Bangalore             Rajasthan Royals  Ahmedabad   \n",
              "3             Rajasthan Royals  Royal Challengers Bangalore  Ahmedabad   \n",
              "4  Royal Challengers Bangalore         Lucknow Super Giants    Kolkata   \n",
              "\n",
              "   powerplay_wickets powerplay_runs  \\\n",
              "0                1.0             44   \n",
              "1                2.0             31   \n",
              "2                1.0             46   \n",
              "3                1.0             67   \n",
              "4                1.0             52   \n",
              "\n",
              "                                batting_team_players  \\\n",
              "0  ['YBK Jaiswal', 'JC Buttler', 'SV Samson', 'D ...   \n",
              "1  ['WP Saha', 'Shubman Gill', 'MS Wade', 'HH Pan...   \n",
              "2  ['V Kohli', 'F du Plessis', 'RM Patidar', 'GJ ...   \n",
              "3  ['YBK Jaiswal', 'JC Buttler', 'SV Samson', 'D ...   \n",
              "4  ['V Kohli', 'F du Plessis', 'RM Patidar', 'GJ ...   \n",
              "\n",
              "                                bowling_team_players  is_india  \n",
              "0  ['WP Saha', 'Shubman Gill', 'MS Wade', 'HH Pan...         1  \n",
              "1  ['YBK Jaiswal', 'JC Buttler', 'SV Samson', 'D ...         1  \n",
              "2  ['YBK Jaiswal', 'JC Buttler', 'SV Samson', 'D ...         1  \n",
              "3  ['V Kohli', 'F du Plessis', 'RM Patidar', 'GJ ...         1  \n",
              "4  ['Q de Kock', 'KL Rahul', 'M Vohra', 'DJ Hooda...         1  "
            ],
            "text/html": [
              "\n",
              "  <div id=\"df-398e1196-8d20-47d7-a242-ad8bc8091662\">\n",
              "    <div class=\"colab-df-container\">\n",
              "      <div>\n",
              "<style scoped>\n",
              "    .dataframe tbody tr th:only-of-type {\n",
              "        vertical-align: middle;\n",
              "    }\n",
              "\n",
              "    .dataframe tbody tr th {\n",
              "        vertical-align: top;\n",
              "    }\n",
              "\n",
              "    .dataframe thead th {\n",
              "        text-align: right;\n",
              "    }\n",
              "</style>\n",
              "<table border=\"1\" class=\"dataframe\">\n",
              "  <thead>\n",
              "    <tr style=\"text-align: right;\">\n",
              "      <th></th>\n",
              "      <th>ID</th>\n",
              "      <th>inning</th>\n",
              "      <th>Venue</th>\n",
              "      <th>Season</th>\n",
              "      <th>Batting_team</th>\n",
              "      <th>Bowling_team</th>\n",
              "      <th>City</th>\n",
              "      <th>powerplay_wickets</th>\n",
              "      <th>powerplay_runs</th>\n",
              "      <th>batting_team_players</th>\n",
              "      <th>bowling_team_players</th>\n",
              "      <th>is_india</th>\n",
              "    </tr>\n",
              "  </thead>\n",
              "  <tbody>\n",
              "    <tr>\n",
              "      <th>0</th>\n",
              "      <td>1312200</td>\n",
              "      <td>1</td>\n",
              "      <td>Narendra Modi Stadium, Ahmedabad</td>\n",
              "      <td>2022</td>\n",
              "      <td>Rajasthan Royals</td>\n",
              "      <td>Gujarat Titans</td>\n",
              "      <td>Ahmedabad</td>\n",
              "      <td>1.0</td>\n",
              "      <td>44</td>\n",
              "      <td>['YBK Jaiswal', 'JC Buttler', 'SV Samson', 'D ...</td>\n",
              "      <td>['WP Saha', 'Shubman Gill', 'MS Wade', 'HH Pan...</td>\n",
              "      <td>1</td>\n",
              "    </tr>\n",
              "    <tr>\n",
              "      <th>1</th>\n",
              "      <td>1312200</td>\n",
              "      <td>2</td>\n",
              "      <td>Narendra Modi Stadium, Ahmedabad</td>\n",
              "      <td>2022</td>\n",
              "      <td>Gujarat Titans</td>\n",
              "      <td>Rajasthan Royals</td>\n",
              "      <td>Ahmedabad</td>\n",
              "      <td>2.0</td>\n",
              "      <td>31</td>\n",
              "      <td>['WP Saha', 'Shubman Gill', 'MS Wade', 'HH Pan...</td>\n",
              "      <td>['YBK Jaiswal', 'JC Buttler', 'SV Samson', 'D ...</td>\n",
              "      <td>1</td>\n",
              "    </tr>\n",
              "    <tr>\n",
              "      <th>2</th>\n",
              "      <td>1312199</td>\n",
              "      <td>1</td>\n",
              "      <td>Narendra Modi Stadium, Ahmedabad</td>\n",
              "      <td>2022</td>\n",
              "      <td>Royal Challengers Bangalore</td>\n",
              "      <td>Rajasthan Royals</td>\n",
              "      <td>Ahmedabad</td>\n",
              "      <td>1.0</td>\n",
              "      <td>46</td>\n",
              "      <td>['V Kohli', 'F du Plessis', 'RM Patidar', 'GJ ...</td>\n",
              "      <td>['YBK Jaiswal', 'JC Buttler', 'SV Samson', 'D ...</td>\n",
              "      <td>1</td>\n",
              "    </tr>\n",
              "    <tr>\n",
              "      <th>3</th>\n",
              "      <td>1312199</td>\n",
              "      <td>2</td>\n",
              "      <td>Narendra Modi Stadium, Ahmedabad</td>\n",
              "      <td>2022</td>\n",
              "      <td>Rajasthan Royals</td>\n",
              "      <td>Royal Challengers Bangalore</td>\n",
              "      <td>Ahmedabad</td>\n",
              "      <td>1.0</td>\n",
              "      <td>67</td>\n",
              "      <td>['YBK Jaiswal', 'JC Buttler', 'SV Samson', 'D ...</td>\n",
              "      <td>['V Kohli', 'F du Plessis', 'RM Patidar', 'GJ ...</td>\n",
              "      <td>1</td>\n",
              "    </tr>\n",
              "    <tr>\n",
              "      <th>4</th>\n",
              "      <td>1312198</td>\n",
              "      <td>1</td>\n",
              "      <td>Eden Gardens, Kolkata</td>\n",
              "      <td>2022</td>\n",
              "      <td>Royal Challengers Bangalore</td>\n",
              "      <td>Lucknow Super Giants</td>\n",
              "      <td>Kolkata</td>\n",
              "      <td>1.0</td>\n",
              "      <td>52</td>\n",
              "      <td>['V Kohli', 'F du Plessis', 'RM Patidar', 'GJ ...</td>\n",
              "      <td>['Q de Kock', 'KL Rahul', 'M Vohra', 'DJ Hooda...</td>\n",
              "      <td>1</td>\n",
              "    </tr>\n",
              "  </tbody>\n",
              "</table>\n",
              "</div>\n",
              "      <button class=\"colab-df-convert\" onclick=\"convertToInteractive('df-398e1196-8d20-47d7-a242-ad8bc8091662')\"\n",
              "              title=\"Convert this dataframe to an interactive table.\"\n",
              "              style=\"display:none;\">\n",
              "        \n",
              "  <svg xmlns=\"http://www.w3.org/2000/svg\" height=\"24px\"viewBox=\"0 0 24 24\"\n",
              "       width=\"24px\">\n",
              "    <path d=\"M0 0h24v24H0V0z\" fill=\"none\"/>\n",
              "    <path d=\"M18.56 5.44l.94 2.06.94-2.06 2.06-.94-2.06-.94-.94-2.06-.94 2.06-2.06.94zm-11 1L8.5 8.5l.94-2.06 2.06-.94-2.06-.94L8.5 2.5l-.94 2.06-2.06.94zm10 10l.94 2.06.94-2.06 2.06-.94-2.06-.94-.94-2.06-.94 2.06-2.06.94z\"/><path d=\"M17.41 7.96l-1.37-1.37c-.4-.4-.92-.59-1.43-.59-.52 0-1.04.2-1.43.59L10.3 9.45l-7.72 7.72c-.78.78-.78 2.05 0 2.83L4 21.41c.39.39.9.59 1.41.59.51 0 1.02-.2 1.41-.59l7.78-7.78 2.81-2.81c.8-.78.8-2.07 0-2.86zM5.41 20L4 18.59l7.72-7.72 1.47 1.35L5.41 20z\"/>\n",
              "  </svg>\n",
              "      </button>\n",
              "      \n",
              "  <style>\n",
              "    .colab-df-container {\n",
              "      display:flex;\n",
              "      flex-wrap:wrap;\n",
              "      gap: 12px;\n",
              "    }\n",
              "\n",
              "    .colab-df-convert {\n",
              "      background-color: #E8F0FE;\n",
              "      border: none;\n",
              "      border-radius: 50%;\n",
              "      cursor: pointer;\n",
              "      display: none;\n",
              "      fill: #1967D2;\n",
              "      height: 32px;\n",
              "      padding: 0 0 0 0;\n",
              "      width: 32px;\n",
              "    }\n",
              "\n",
              "    .colab-df-convert:hover {\n",
              "      background-color: #E2EBFA;\n",
              "      box-shadow: 0px 1px 2px rgba(60, 64, 67, 0.3), 0px 1px 3px 1px rgba(60, 64, 67, 0.15);\n",
              "      fill: #174EA6;\n",
              "    }\n",
              "\n",
              "    [theme=dark] .colab-df-convert {\n",
              "      background-color: #3B4455;\n",
              "      fill: #D2E3FC;\n",
              "    }\n",
              "\n",
              "    [theme=dark] .colab-df-convert:hover {\n",
              "      background-color: #434B5C;\n",
              "      box-shadow: 0px 1px 3px 1px rgba(0, 0, 0, 0.15);\n",
              "      filter: drop-shadow(0px 1px 2px rgba(0, 0, 0, 0.3));\n",
              "      fill: #FFFFFF;\n",
              "    }\n",
              "  </style>\n",
              "\n",
              "      <script>\n",
              "        const buttonEl =\n",
              "          document.querySelector('#df-398e1196-8d20-47d7-a242-ad8bc8091662 button.colab-df-convert');\n",
              "        buttonEl.style.display =\n",
              "          google.colab.kernel.accessAllowed ? 'block' : 'none';\n",
              "\n",
              "        async function convertToInteractive(key) {\n",
              "          const element = document.querySelector('#df-398e1196-8d20-47d7-a242-ad8bc8091662');\n",
              "          const dataTable =\n",
              "            await google.colab.kernel.invokeFunction('convertToInteractive',\n",
              "                                                     [key], {});\n",
              "          if (!dataTable) return;\n",
              "\n",
              "          const docLinkHtml = 'Like what you see? Visit the ' +\n",
              "            '<a target=\"_blank\" href=https://colab.research.google.com/notebooks/data_table.ipynb>data table notebook</a>'\n",
              "            + ' to learn more about interactive tables.';\n",
              "          element.innerHTML = '';\n",
              "          dataTable['output_type'] = 'display_data';\n",
              "          await google.colab.output.renderOutput(dataTable, element);\n",
              "          const docLink = document.createElement('div');\n",
              "          docLink.innerHTML = docLinkHtml;\n",
              "          element.appendChild(docLink);\n",
              "        }\n",
              "      </script>\n",
              "    </div>\n",
              "  </div>\n",
              "  "
            ]
          },
          "metadata": {},
          "execution_count": 38
        }
      ]
    },
    {
      "cell_type": "markdown",
      "source": [
        "Now, Dropping city column because we have created other column is_india which indicated whether the following season of IPL happended in India or outside. And also dropping wicket column because in my view this can be also considered as target column."
      ],
      "metadata": {
        "id": "io3Whx0kNbIf"
      }
    },
    {
      "cell_type": "code",
      "source": [
        "merged_df.drop(['City', 'powerplay_wickets'], inplace = True, axis = 1)"
      ],
      "metadata": {
        "id": "G5Qv4Zu-Q6Bf"
      },
      "execution_count": 39,
      "outputs": []
    },
    {
      "cell_type": "code",
      "source": [
        "merged_df.columns"
      ],
      "metadata": {
        "colab": {
          "base_uri": "https://localhost:8080/"
        },
        "id": "4mnpuv9pN_a_",
        "outputId": "809012f5-8dde-4f73-c98d-b27182764ae5"
      },
      "execution_count": 40,
      "outputs": [
        {
          "output_type": "execute_result",
          "data": {
            "text/plain": [
              "Index(['ID', 'inning', 'Venue', 'Season', 'Batting_team', 'Bowling_team',\n",
              "       'powerplay_runs', 'batting_team_players', 'bowling_team_players',\n",
              "       'is_india'],\n",
              "      dtype='object')"
            ]
          },
          "metadata": {},
          "execution_count": 40
        }
      ]
    },
    {
      "cell_type": "markdown",
      "source": [
        "Separating batting_players_name and bowling_players_name which have players name in comma separated form into sperate columns for player1 to player 11."
      ],
      "metadata": {
        "id": "0IwwoU8dRtEM"
      }
    },
    {
      "cell_type": "code",
      "source": [
        "merged_df['batting_team_players'][0].split(',')[10]"
      ],
      "metadata": {
        "colab": {
          "base_uri": "https://localhost:8080/",
          "height": 35
        },
        "id": "GYDl3MyLSpZw",
        "outputId": "49172e4f-be5a-4735-a61d-3040d1540404"
      },
      "execution_count": 41,
      "outputs": [
        {
          "output_type": "execute_result",
          "data": {
            "text/plain": [
              "\" 'YS Chahal']\""
            ],
            "application/vnd.google.colaboratory.intrinsic+json": {
              "type": "string"
            }
          },
          "metadata": {},
          "execution_count": 41
        }
      ]
    },
    {
      "cell_type": "code",
      "source": [
        "# Define a function to split the player names\n",
        "def extract_player_names(player_string, player_index):\n",
        "    try:\n",
        "        return player_string.split(',')[player_index]\n",
        "    except IndexError:\n",
        "        return ''"
      ],
      "metadata": {
        "id": "tnpKCuTrSCy5"
      },
      "execution_count": 42,
      "outputs": []
    },
    {
      "cell_type": "code",
      "source": [
        "for i in range(1, 12):\n",
        "    col_name = 'batsmen{}'.format(i)\n",
        "    merged_df[col_name] = merged_df['batting_team_players'].apply(lambda x: extract_player_names(x, i-1))"
      ],
      "metadata": {
        "id": "ktMWmGYnSG9b"
      },
      "execution_count": 43,
      "outputs": []
    },
    {
      "cell_type": "code",
      "source": [
        "for i in range(1,12):\n",
        "  col = 'bowler{}'.format(i)\n",
        "  merged_df[col] = merged_df['bowling_team_players'].apply(lambda x: extract_player_names(x,i-1))"
      ],
      "metadata": {
        "id": "xsOHx6k-SR1O"
      },
      "execution_count": 44,
      "outputs": []
    },
    {
      "cell_type": "code",
      "source": [
        "merged_df.tail()"
      ],
      "metadata": {
        "colab": {
          "base_uri": "https://localhost:8080/",
          "height": 543
        },
        "id": "frXMR8qrTB7T",
        "outputId": "530a6df6-4bb4-467c-cc8f-07e7a7dfcc27"
      },
      "execution_count": 45,
      "outputs": [
        {
          "output_type": "execute_result",
          "data": {
            "text/plain": [
              "          ID inning                                       Venue   Season  \\\n",
              "1891  335984      2                            Feroz Shah Kotla  2007/08   \n",
              "1892  335983      1  Punjab Cricket Association Stadium, Mohali  2007/08   \n",
              "1893  335983      2  Punjab Cricket Association Stadium, Mohali  2007/08   \n",
              "1894  335982      1                       M Chinnaswamy Stadium  2007/08   \n",
              "1895  335982      2                       M Chinnaswamy Stadium  2007/08   \n",
              "\n",
              "                     Batting_team                 Bowling_team powerplay_runs  \\\n",
              "1891             Delhi Daredevils             Rajasthan Royals             55   \n",
              "1892          Chennai Super Kings              Kings XI Punjab             53   \n",
              "1893              Kings XI Punjab          Chennai Super Kings             63   \n",
              "1894        Kolkata Knight Riders  Royal Challengers Bangalore             61   \n",
              "1895  Royal Challengers Bangalore        Kolkata Knight Riders             26   \n",
              "\n",
              "                                   batting_team_players  \\\n",
              "1891  ['G Gambhir', 'V Sehwag', 'S Dhawan', 'MK Tiwa...   \n",
              "1892  ['PA Patel', 'ML Hayden', 'MEK Hussey', 'MS Dh...   \n",
              "1893  ['K Goel', 'JR Hopes', 'KC Sangakkara', 'Yuvra...   \n",
              "1894  ['SC Ganguly', 'BB McCullum', 'RT Ponting', 'D...   \n",
              "1895  ['R Dravid', 'W Jaffer', 'V Kohli', 'JH Kallis...   \n",
              "\n",
              "                                   bowling_team_players  is_india  ...  \\\n",
              "1891  ['T Kohli', 'YK Pathan', 'SR Watson', 'M Kaif'...         1  ...   \n",
              "1892  ['K Goel', 'JR Hopes', 'KC Sangakkara', 'Yuvra...         1  ...   \n",
              "1893  ['PA Patel', 'ML Hayden', 'MEK Hussey', 'MS Dh...         1  ...   \n",
              "1894  ['R Dravid', 'W Jaffer', 'V Kohli', 'JH Kallis...         1  ...   \n",
              "1895  ['SC Ganguly', 'BB McCullum', 'RT Ponting', 'D...         1  ...   \n",
              "\n",
              "             bowler2           bowler3          bowler4             bowler5  \\\n",
              "1891     'YK Pathan'       'SR Watson'         'M Kaif'        'DS Lehmann'   \n",
              "1892      'JR Hopes'   'KC Sangakkara'   'Yuvraj Singh'         'SM Katich'   \n",
              "1893     'ML Hayden'      'MEK Hussey'       'MS Dhoni'          'SK Raina'   \n",
              "1894      'W Jaffer'         'V Kohli'      'JH Kallis'          'CL White'   \n",
              "1895   'BB McCullum'      'RT Ponting'      'DJ Hussey'   'Mohammad Hafeez'   \n",
              "\n",
              "            bowler6         bowler7             bowler8        bowler9  \\\n",
              "1891    'RA Jadeja'       'M Rawat'        'D Salunkhe'     'SK Warne'   \n",
              "1892    'IK Pathan'    'P Dharmani'             'B Lee'    'PP Chawla'   \n",
              "1893     'JDP Oram'   'S Badrinath'   'Joginder Sharma'   'P Amarnath'   \n",
              "1894   'MV Boucher'       'B Akhil'         'AA Noffke'      'P Kumar'   \n",
              "1895    'LR Shukla'       'WP Saha'        'AB Agarkar'     'AB Dinda'   \n",
              "\n",
              "           bowler10            bowler11  \n",
              "1891   'SK Trivedi'         'MM Patel']  \n",
              "1892      'WA Mota'      'S Sreesanth']  \n",
              "1893      'MS Gony'   'M Muralitharan']  \n",
              "1894       'Z Khan'         'SB Joshi']  \n",
              "1895     'M Kartik'         'I Sharma']  \n",
              "\n",
              "[5 rows x 32 columns]"
            ],
            "text/html": [
              "\n",
              "  <div id=\"df-a2b16e05-368e-45c4-a59d-9f468a42f098\">\n",
              "    <div class=\"colab-df-container\">\n",
              "      <div>\n",
              "<style scoped>\n",
              "    .dataframe tbody tr th:only-of-type {\n",
              "        vertical-align: middle;\n",
              "    }\n",
              "\n",
              "    .dataframe tbody tr th {\n",
              "        vertical-align: top;\n",
              "    }\n",
              "\n",
              "    .dataframe thead th {\n",
              "        text-align: right;\n",
              "    }\n",
              "</style>\n",
              "<table border=\"1\" class=\"dataframe\">\n",
              "  <thead>\n",
              "    <tr style=\"text-align: right;\">\n",
              "      <th></th>\n",
              "      <th>ID</th>\n",
              "      <th>inning</th>\n",
              "      <th>Venue</th>\n",
              "      <th>Season</th>\n",
              "      <th>Batting_team</th>\n",
              "      <th>Bowling_team</th>\n",
              "      <th>powerplay_runs</th>\n",
              "      <th>batting_team_players</th>\n",
              "      <th>bowling_team_players</th>\n",
              "      <th>is_india</th>\n",
              "      <th>...</th>\n",
              "      <th>bowler2</th>\n",
              "      <th>bowler3</th>\n",
              "      <th>bowler4</th>\n",
              "      <th>bowler5</th>\n",
              "      <th>bowler6</th>\n",
              "      <th>bowler7</th>\n",
              "      <th>bowler8</th>\n",
              "      <th>bowler9</th>\n",
              "      <th>bowler10</th>\n",
              "      <th>bowler11</th>\n",
              "    </tr>\n",
              "  </thead>\n",
              "  <tbody>\n",
              "    <tr>\n",
              "      <th>1891</th>\n",
              "      <td>335984</td>\n",
              "      <td>2</td>\n",
              "      <td>Feroz Shah Kotla</td>\n",
              "      <td>2007/08</td>\n",
              "      <td>Delhi Daredevils</td>\n",
              "      <td>Rajasthan Royals</td>\n",
              "      <td>55</td>\n",
              "      <td>['G Gambhir', 'V Sehwag', 'S Dhawan', 'MK Tiwa...</td>\n",
              "      <td>['T Kohli', 'YK Pathan', 'SR Watson', 'M Kaif'...</td>\n",
              "      <td>1</td>\n",
              "      <td>...</td>\n",
              "      <td>'YK Pathan'</td>\n",
              "      <td>'SR Watson'</td>\n",
              "      <td>'M Kaif'</td>\n",
              "      <td>'DS Lehmann'</td>\n",
              "      <td>'RA Jadeja'</td>\n",
              "      <td>'M Rawat'</td>\n",
              "      <td>'D Salunkhe'</td>\n",
              "      <td>'SK Warne'</td>\n",
              "      <td>'SK Trivedi'</td>\n",
              "      <td>'MM Patel']</td>\n",
              "    </tr>\n",
              "    <tr>\n",
              "      <th>1892</th>\n",
              "      <td>335983</td>\n",
              "      <td>1</td>\n",
              "      <td>Punjab Cricket Association Stadium, Mohali</td>\n",
              "      <td>2007/08</td>\n",
              "      <td>Chennai Super Kings</td>\n",
              "      <td>Kings XI Punjab</td>\n",
              "      <td>53</td>\n",
              "      <td>['PA Patel', 'ML Hayden', 'MEK Hussey', 'MS Dh...</td>\n",
              "      <td>['K Goel', 'JR Hopes', 'KC Sangakkara', 'Yuvra...</td>\n",
              "      <td>1</td>\n",
              "      <td>...</td>\n",
              "      <td>'JR Hopes'</td>\n",
              "      <td>'KC Sangakkara'</td>\n",
              "      <td>'Yuvraj Singh'</td>\n",
              "      <td>'SM Katich'</td>\n",
              "      <td>'IK Pathan'</td>\n",
              "      <td>'P Dharmani'</td>\n",
              "      <td>'B Lee'</td>\n",
              "      <td>'PP Chawla'</td>\n",
              "      <td>'WA Mota'</td>\n",
              "      <td>'S Sreesanth']</td>\n",
              "    </tr>\n",
              "    <tr>\n",
              "      <th>1893</th>\n",
              "      <td>335983</td>\n",
              "      <td>2</td>\n",
              "      <td>Punjab Cricket Association Stadium, Mohali</td>\n",
              "      <td>2007/08</td>\n",
              "      <td>Kings XI Punjab</td>\n",
              "      <td>Chennai Super Kings</td>\n",
              "      <td>63</td>\n",
              "      <td>['K Goel', 'JR Hopes', 'KC Sangakkara', 'Yuvra...</td>\n",
              "      <td>['PA Patel', 'ML Hayden', 'MEK Hussey', 'MS Dh...</td>\n",
              "      <td>1</td>\n",
              "      <td>...</td>\n",
              "      <td>'ML Hayden'</td>\n",
              "      <td>'MEK Hussey'</td>\n",
              "      <td>'MS Dhoni'</td>\n",
              "      <td>'SK Raina'</td>\n",
              "      <td>'JDP Oram'</td>\n",
              "      <td>'S Badrinath'</td>\n",
              "      <td>'Joginder Sharma'</td>\n",
              "      <td>'P Amarnath'</td>\n",
              "      <td>'MS Gony'</td>\n",
              "      <td>'M Muralitharan']</td>\n",
              "    </tr>\n",
              "    <tr>\n",
              "      <th>1894</th>\n",
              "      <td>335982</td>\n",
              "      <td>1</td>\n",
              "      <td>M Chinnaswamy Stadium</td>\n",
              "      <td>2007/08</td>\n",
              "      <td>Kolkata Knight Riders</td>\n",
              "      <td>Royal Challengers Bangalore</td>\n",
              "      <td>61</td>\n",
              "      <td>['SC Ganguly', 'BB McCullum', 'RT Ponting', 'D...</td>\n",
              "      <td>['R Dravid', 'W Jaffer', 'V Kohli', 'JH Kallis...</td>\n",
              "      <td>1</td>\n",
              "      <td>...</td>\n",
              "      <td>'W Jaffer'</td>\n",
              "      <td>'V Kohli'</td>\n",
              "      <td>'JH Kallis'</td>\n",
              "      <td>'CL White'</td>\n",
              "      <td>'MV Boucher'</td>\n",
              "      <td>'B Akhil'</td>\n",
              "      <td>'AA Noffke'</td>\n",
              "      <td>'P Kumar'</td>\n",
              "      <td>'Z Khan'</td>\n",
              "      <td>'SB Joshi']</td>\n",
              "    </tr>\n",
              "    <tr>\n",
              "      <th>1895</th>\n",
              "      <td>335982</td>\n",
              "      <td>2</td>\n",
              "      <td>M Chinnaswamy Stadium</td>\n",
              "      <td>2007/08</td>\n",
              "      <td>Royal Challengers Bangalore</td>\n",
              "      <td>Kolkata Knight Riders</td>\n",
              "      <td>26</td>\n",
              "      <td>['R Dravid', 'W Jaffer', 'V Kohli', 'JH Kallis...</td>\n",
              "      <td>['SC Ganguly', 'BB McCullum', 'RT Ponting', 'D...</td>\n",
              "      <td>1</td>\n",
              "      <td>...</td>\n",
              "      <td>'BB McCullum'</td>\n",
              "      <td>'RT Ponting'</td>\n",
              "      <td>'DJ Hussey'</td>\n",
              "      <td>'Mohammad Hafeez'</td>\n",
              "      <td>'LR Shukla'</td>\n",
              "      <td>'WP Saha'</td>\n",
              "      <td>'AB Agarkar'</td>\n",
              "      <td>'AB Dinda'</td>\n",
              "      <td>'M Kartik'</td>\n",
              "      <td>'I Sharma']</td>\n",
              "    </tr>\n",
              "  </tbody>\n",
              "</table>\n",
              "<p>5 rows × 32 columns</p>\n",
              "</div>\n",
              "      <button class=\"colab-df-convert\" onclick=\"convertToInteractive('df-a2b16e05-368e-45c4-a59d-9f468a42f098')\"\n",
              "              title=\"Convert this dataframe to an interactive table.\"\n",
              "              style=\"display:none;\">\n",
              "        \n",
              "  <svg xmlns=\"http://www.w3.org/2000/svg\" height=\"24px\"viewBox=\"0 0 24 24\"\n",
              "       width=\"24px\">\n",
              "    <path d=\"M0 0h24v24H0V0z\" fill=\"none\"/>\n",
              "    <path d=\"M18.56 5.44l.94 2.06.94-2.06 2.06-.94-2.06-.94-.94-2.06-.94 2.06-2.06.94zm-11 1L8.5 8.5l.94-2.06 2.06-.94-2.06-.94L8.5 2.5l-.94 2.06-2.06.94zm10 10l.94 2.06.94-2.06 2.06-.94-2.06-.94-.94-2.06-.94 2.06-2.06.94z\"/><path d=\"M17.41 7.96l-1.37-1.37c-.4-.4-.92-.59-1.43-.59-.52 0-1.04.2-1.43.59L10.3 9.45l-7.72 7.72c-.78.78-.78 2.05 0 2.83L4 21.41c.39.39.9.59 1.41.59.51 0 1.02-.2 1.41-.59l7.78-7.78 2.81-2.81c.8-.78.8-2.07 0-2.86zM5.41 20L4 18.59l7.72-7.72 1.47 1.35L5.41 20z\"/>\n",
              "  </svg>\n",
              "      </button>\n",
              "      \n",
              "  <style>\n",
              "    .colab-df-container {\n",
              "      display:flex;\n",
              "      flex-wrap:wrap;\n",
              "      gap: 12px;\n",
              "    }\n",
              "\n",
              "    .colab-df-convert {\n",
              "      background-color: #E8F0FE;\n",
              "      border: none;\n",
              "      border-radius: 50%;\n",
              "      cursor: pointer;\n",
              "      display: none;\n",
              "      fill: #1967D2;\n",
              "      height: 32px;\n",
              "      padding: 0 0 0 0;\n",
              "      width: 32px;\n",
              "    }\n",
              "\n",
              "    .colab-df-convert:hover {\n",
              "      background-color: #E2EBFA;\n",
              "      box-shadow: 0px 1px 2px rgba(60, 64, 67, 0.3), 0px 1px 3px 1px rgba(60, 64, 67, 0.15);\n",
              "      fill: #174EA6;\n",
              "    }\n",
              "\n",
              "    [theme=dark] .colab-df-convert {\n",
              "      background-color: #3B4455;\n",
              "      fill: #D2E3FC;\n",
              "    }\n",
              "\n",
              "    [theme=dark] .colab-df-convert:hover {\n",
              "      background-color: #434B5C;\n",
              "      box-shadow: 0px 1px 3px 1px rgba(0, 0, 0, 0.15);\n",
              "      filter: drop-shadow(0px 1px 2px rgba(0, 0, 0, 0.3));\n",
              "      fill: #FFFFFF;\n",
              "    }\n",
              "  </style>\n",
              "\n",
              "      <script>\n",
              "        const buttonEl =\n",
              "          document.querySelector('#df-a2b16e05-368e-45c4-a59d-9f468a42f098 button.colab-df-convert');\n",
              "        buttonEl.style.display =\n",
              "          google.colab.kernel.accessAllowed ? 'block' : 'none';\n",
              "\n",
              "        async function convertToInteractive(key) {\n",
              "          const element = document.querySelector('#df-a2b16e05-368e-45c4-a59d-9f468a42f098');\n",
              "          const dataTable =\n",
              "            await google.colab.kernel.invokeFunction('convertToInteractive',\n",
              "                                                     [key], {});\n",
              "          if (!dataTable) return;\n",
              "\n",
              "          const docLinkHtml = 'Like what you see? Visit the ' +\n",
              "            '<a target=\"_blank\" href=https://colab.research.google.com/notebooks/data_table.ipynb>data table notebook</a>'\n",
              "            + ' to learn more about interactive tables.';\n",
              "          element.innerHTML = '';\n",
              "          dataTable['output_type'] = 'display_data';\n",
              "          await google.colab.output.renderOutput(dataTable, element);\n",
              "          const docLink = document.createElement('div');\n",
              "          docLink.innerHTML = docLinkHtml;\n",
              "          element.appendChild(docLink);\n",
              "        }\n",
              "      </script>\n",
              "    </div>\n",
              "  </div>\n",
              "  "
            ]
          },
          "metadata": {},
          "execution_count": 45
        }
      ]
    },
    {
      "cell_type": "code",
      "source": [
        "#Dropping batting_team_players and bowling_team_players column as we have extracted name of each player.\n",
        "merged_df.drop(['batting_team_players','bowling_team_players'], axis = 1, inplace = True)"
      ],
      "metadata": {
        "id": "CSig4_xtTql9"
      },
      "execution_count": 46,
      "outputs": []
    },
    {
      "cell_type": "code",
      "source": [],
      "metadata": {
        "id": "qX0InKkl3SCj"
      },
      "execution_count": 46,
      "outputs": []
    },
    {
      "cell_type": "code",
      "source": [
        "# merged_df.drop('Season',axis = 1, inplace = True)"
      ],
      "metadata": {
        "id": "jdseN3r-GNiZ"
      },
      "execution_count": 47,
      "outputs": []
    },
    {
      "cell_type": "markdown",
      "source": [
        "Now, we have somewhat prepared our data."
      ],
      "metadata": {
        "id": "Uu2NrYgGUpe6"
      }
    },
    {
      "cell_type": "code",
      "source": [
        "# merged_df.drop(['Team1','Team2'], axis = 1, inplace = True)"
      ],
      "metadata": {
        "id": "VmW0idE8Mo5A"
      },
      "execution_count": 48,
      "outputs": []
    },
    {
      "cell_type": "code",
      "source": [
        "# merged_df.drop(['Team1Players','Team2Players'], axis = 1, inplace = True)"
      ],
      "metadata": {
        "id": "-FtE9kGll7Ox"
      },
      "execution_count": 49,
      "outputs": []
    },
    {
      "cell_type": "code",
      "source": [
        "merged_df.columns"
      ],
      "metadata": {
        "colab": {
          "base_uri": "https://localhost:8080/"
        },
        "id": "BG_WdK05mH4W",
        "outputId": "3b93c51c-4ee8-4a51-f522-ab11bda38fef"
      },
      "execution_count": 50,
      "outputs": [
        {
          "output_type": "execute_result",
          "data": {
            "text/plain": [
              "Index(['ID', 'inning', 'Venue', 'Season', 'Batting_team', 'Bowling_team',\n",
              "       'powerplay_runs', 'is_india', 'batsmen1', 'batsmen2', 'batsmen3',\n",
              "       'batsmen4', 'batsmen5', 'batsmen6', 'batsmen7', 'batsmen8', 'batsmen9',\n",
              "       'batsmen10', 'batsmen11', 'bowler1', 'bowler2', 'bowler3', 'bowler4',\n",
              "       'bowler5', 'bowler6', 'bowler7', 'bowler8', 'bowler9', 'bowler10',\n",
              "       'bowler11'],\n",
              "      dtype='object')"
            ]
          },
          "metadata": {},
          "execution_count": 50
        }
      ]
    },
    {
      "cell_type": "code",
      "source": [
        "merged_df.head()"
      ],
      "metadata": {
        "colab": {
          "base_uri": "https://localhost:8080/",
          "height": 543
        },
        "id": "Xk2Fus36QM9w",
        "outputId": "3de7b4cb-0538-4dc9-9ade-83b1889d0349"
      },
      "execution_count": 69,
      "outputs": [
        {
          "output_type": "execute_result",
          "data": {
            "text/plain": [
              "        ID inning                             Venue Season  \\\n",
              "0  1312200      1  Narendra Modi Stadium, Ahmedabad   2022   \n",
              "1  1312200      2  Narendra Modi Stadium, Ahmedabad   2022   \n",
              "2  1312199      1  Narendra Modi Stadium, Ahmedabad   2022   \n",
              "3  1312199      2  Narendra Modi Stadium, Ahmedabad   2022   \n",
              "4  1312198      1             Eden Gardens, Kolkata   2022   \n",
              "\n",
              "                  Batting_team                 Bowling_team powerplay_runs  \\\n",
              "0             Rajasthan Royals               Gujarat Titans             44   \n",
              "1               Gujarat Titans             Rajasthan Royals             31   \n",
              "2  Royal Challengers Bangalore             Rajasthan Royals             46   \n",
              "3             Rajasthan Royals  Royal Challengers Bangalore             67   \n",
              "4  Royal Challengers Bangalore         Lucknow Super Giants             52   \n",
              "\n",
              "   is_india     batsmen1       batsmen2  ...        bowler2      bowler3  \\\n",
              "0         1  YBK Jaiswal     JC Buttler  ...   Shubman Gill      MS Wade   \n",
              "1         1      WP Saha   Shubman Gill  ...     JC Buttler    SV Samson   \n",
              "2         1      V Kohli   F du Plessis  ...     JC Buttler    SV Samson   \n",
              "3         1  YBK Jaiswal     JC Buttler  ...   F du Plessis   RM Patidar   \n",
              "4         1      V Kohli   F du Plessis  ...       KL Rahul      M Vohra   \n",
              "\n",
              "       bowler4      bowler5      bowler6         bowler7         bowler8  \\\n",
              "0    HH Pandya    DA Miller    R Tewatia     Rashid Khan   R Sai Kishore   \n",
              "1   D Padikkal   SO Hetmyer     R Ashwin         R Parag        TA Boult   \n",
              "2   D Padikkal   SO Hetmyer      R Parag        R Ashwin        TA Boult   \n",
              "3   GJ Maxwell    MK Lomror   KD Karthik   Shahbaz Ahmed    PWH de Silva   \n",
              "4     DJ Hooda   MP Stoinis      E Lewis       KH Pandya    PVD Chameera   \n",
              "\n",
              "        bowler9            bowler10         bowler11  \n",
              "0   LH Ferguson          Yash Dayal   Mohammed Shami  \n",
              "1      OC McCoy   M Prasidh Krishna        YS Chahal  \n",
              "2     YS Chahal   M Prasidh Krishna         OC McCoy  \n",
              "3      HV Patel        JR Hazlewood   Mohammed Siraj  \n",
              "4   Mohsin Khan          Avesh Khan     Ravi Bishnoi  \n",
              "\n",
              "[5 rows x 30 columns]"
            ],
            "text/html": [
              "\n",
              "  <div id=\"df-77cf89c9-4a7b-4dbb-97cd-d5bff4780aac\">\n",
              "    <div class=\"colab-df-container\">\n",
              "      <div>\n",
              "<style scoped>\n",
              "    .dataframe tbody tr th:only-of-type {\n",
              "        vertical-align: middle;\n",
              "    }\n",
              "\n",
              "    .dataframe tbody tr th {\n",
              "        vertical-align: top;\n",
              "    }\n",
              "\n",
              "    .dataframe thead th {\n",
              "        text-align: right;\n",
              "    }\n",
              "</style>\n",
              "<table border=\"1\" class=\"dataframe\">\n",
              "  <thead>\n",
              "    <tr style=\"text-align: right;\">\n",
              "      <th></th>\n",
              "      <th>ID</th>\n",
              "      <th>inning</th>\n",
              "      <th>Venue</th>\n",
              "      <th>Season</th>\n",
              "      <th>Batting_team</th>\n",
              "      <th>Bowling_team</th>\n",
              "      <th>powerplay_runs</th>\n",
              "      <th>is_india</th>\n",
              "      <th>batsmen1</th>\n",
              "      <th>batsmen2</th>\n",
              "      <th>...</th>\n",
              "      <th>bowler2</th>\n",
              "      <th>bowler3</th>\n",
              "      <th>bowler4</th>\n",
              "      <th>bowler5</th>\n",
              "      <th>bowler6</th>\n",
              "      <th>bowler7</th>\n",
              "      <th>bowler8</th>\n",
              "      <th>bowler9</th>\n",
              "      <th>bowler10</th>\n",
              "      <th>bowler11</th>\n",
              "    </tr>\n",
              "  </thead>\n",
              "  <tbody>\n",
              "    <tr>\n",
              "      <th>0</th>\n",
              "      <td>1312200</td>\n",
              "      <td>1</td>\n",
              "      <td>Narendra Modi Stadium, Ahmedabad</td>\n",
              "      <td>2022</td>\n",
              "      <td>Rajasthan Royals</td>\n",
              "      <td>Gujarat Titans</td>\n",
              "      <td>44</td>\n",
              "      <td>1</td>\n",
              "      <td>YBK Jaiswal</td>\n",
              "      <td>JC Buttler</td>\n",
              "      <td>...</td>\n",
              "      <td>Shubman Gill</td>\n",
              "      <td>MS Wade</td>\n",
              "      <td>HH Pandya</td>\n",
              "      <td>DA Miller</td>\n",
              "      <td>R Tewatia</td>\n",
              "      <td>Rashid Khan</td>\n",
              "      <td>R Sai Kishore</td>\n",
              "      <td>LH Ferguson</td>\n",
              "      <td>Yash Dayal</td>\n",
              "      <td>Mohammed Shami</td>\n",
              "    </tr>\n",
              "    <tr>\n",
              "      <th>1</th>\n",
              "      <td>1312200</td>\n",
              "      <td>2</td>\n",
              "      <td>Narendra Modi Stadium, Ahmedabad</td>\n",
              "      <td>2022</td>\n",
              "      <td>Gujarat Titans</td>\n",
              "      <td>Rajasthan Royals</td>\n",
              "      <td>31</td>\n",
              "      <td>1</td>\n",
              "      <td>WP Saha</td>\n",
              "      <td>Shubman Gill</td>\n",
              "      <td>...</td>\n",
              "      <td>JC Buttler</td>\n",
              "      <td>SV Samson</td>\n",
              "      <td>D Padikkal</td>\n",
              "      <td>SO Hetmyer</td>\n",
              "      <td>R Ashwin</td>\n",
              "      <td>R Parag</td>\n",
              "      <td>TA Boult</td>\n",
              "      <td>OC McCoy</td>\n",
              "      <td>M Prasidh Krishna</td>\n",
              "      <td>YS Chahal</td>\n",
              "    </tr>\n",
              "    <tr>\n",
              "      <th>2</th>\n",
              "      <td>1312199</td>\n",
              "      <td>1</td>\n",
              "      <td>Narendra Modi Stadium, Ahmedabad</td>\n",
              "      <td>2022</td>\n",
              "      <td>Royal Challengers Bangalore</td>\n",
              "      <td>Rajasthan Royals</td>\n",
              "      <td>46</td>\n",
              "      <td>1</td>\n",
              "      <td>V Kohli</td>\n",
              "      <td>F du Plessis</td>\n",
              "      <td>...</td>\n",
              "      <td>JC Buttler</td>\n",
              "      <td>SV Samson</td>\n",
              "      <td>D Padikkal</td>\n",
              "      <td>SO Hetmyer</td>\n",
              "      <td>R Parag</td>\n",
              "      <td>R Ashwin</td>\n",
              "      <td>TA Boult</td>\n",
              "      <td>YS Chahal</td>\n",
              "      <td>M Prasidh Krishna</td>\n",
              "      <td>OC McCoy</td>\n",
              "    </tr>\n",
              "    <tr>\n",
              "      <th>3</th>\n",
              "      <td>1312199</td>\n",
              "      <td>2</td>\n",
              "      <td>Narendra Modi Stadium, Ahmedabad</td>\n",
              "      <td>2022</td>\n",
              "      <td>Rajasthan Royals</td>\n",
              "      <td>Royal Challengers Bangalore</td>\n",
              "      <td>67</td>\n",
              "      <td>1</td>\n",
              "      <td>YBK Jaiswal</td>\n",
              "      <td>JC Buttler</td>\n",
              "      <td>...</td>\n",
              "      <td>F du Plessis</td>\n",
              "      <td>RM Patidar</td>\n",
              "      <td>GJ Maxwell</td>\n",
              "      <td>MK Lomror</td>\n",
              "      <td>KD Karthik</td>\n",
              "      <td>Shahbaz Ahmed</td>\n",
              "      <td>PWH de Silva</td>\n",
              "      <td>HV Patel</td>\n",
              "      <td>JR Hazlewood</td>\n",
              "      <td>Mohammed Siraj</td>\n",
              "    </tr>\n",
              "    <tr>\n",
              "      <th>4</th>\n",
              "      <td>1312198</td>\n",
              "      <td>1</td>\n",
              "      <td>Eden Gardens, Kolkata</td>\n",
              "      <td>2022</td>\n",
              "      <td>Royal Challengers Bangalore</td>\n",
              "      <td>Lucknow Super Giants</td>\n",
              "      <td>52</td>\n",
              "      <td>1</td>\n",
              "      <td>V Kohli</td>\n",
              "      <td>F du Plessis</td>\n",
              "      <td>...</td>\n",
              "      <td>KL Rahul</td>\n",
              "      <td>M Vohra</td>\n",
              "      <td>DJ Hooda</td>\n",
              "      <td>MP Stoinis</td>\n",
              "      <td>E Lewis</td>\n",
              "      <td>KH Pandya</td>\n",
              "      <td>PVD Chameera</td>\n",
              "      <td>Mohsin Khan</td>\n",
              "      <td>Avesh Khan</td>\n",
              "      <td>Ravi Bishnoi</td>\n",
              "    </tr>\n",
              "  </tbody>\n",
              "</table>\n",
              "<p>5 rows × 30 columns</p>\n",
              "</div>\n",
              "      <button class=\"colab-df-convert\" onclick=\"convertToInteractive('df-77cf89c9-4a7b-4dbb-97cd-d5bff4780aac')\"\n",
              "              title=\"Convert this dataframe to an interactive table.\"\n",
              "              style=\"display:none;\">\n",
              "        \n",
              "  <svg xmlns=\"http://www.w3.org/2000/svg\" height=\"24px\"viewBox=\"0 0 24 24\"\n",
              "       width=\"24px\">\n",
              "    <path d=\"M0 0h24v24H0V0z\" fill=\"none\"/>\n",
              "    <path d=\"M18.56 5.44l.94 2.06.94-2.06 2.06-.94-2.06-.94-.94-2.06-.94 2.06-2.06.94zm-11 1L8.5 8.5l.94-2.06 2.06-.94-2.06-.94L8.5 2.5l-.94 2.06-2.06.94zm10 10l.94 2.06.94-2.06 2.06-.94-2.06-.94-.94-2.06-.94 2.06-2.06.94z\"/><path d=\"M17.41 7.96l-1.37-1.37c-.4-.4-.92-.59-1.43-.59-.52 0-1.04.2-1.43.59L10.3 9.45l-7.72 7.72c-.78.78-.78 2.05 0 2.83L4 21.41c.39.39.9.59 1.41.59.51 0 1.02-.2 1.41-.59l7.78-7.78 2.81-2.81c.8-.78.8-2.07 0-2.86zM5.41 20L4 18.59l7.72-7.72 1.47 1.35L5.41 20z\"/>\n",
              "  </svg>\n",
              "      </button>\n",
              "      \n",
              "  <style>\n",
              "    .colab-df-container {\n",
              "      display:flex;\n",
              "      flex-wrap:wrap;\n",
              "      gap: 12px;\n",
              "    }\n",
              "\n",
              "    .colab-df-convert {\n",
              "      background-color: #E8F0FE;\n",
              "      border: none;\n",
              "      border-radius: 50%;\n",
              "      cursor: pointer;\n",
              "      display: none;\n",
              "      fill: #1967D2;\n",
              "      height: 32px;\n",
              "      padding: 0 0 0 0;\n",
              "      width: 32px;\n",
              "    }\n",
              "\n",
              "    .colab-df-convert:hover {\n",
              "      background-color: #E2EBFA;\n",
              "      box-shadow: 0px 1px 2px rgba(60, 64, 67, 0.3), 0px 1px 3px 1px rgba(60, 64, 67, 0.15);\n",
              "      fill: #174EA6;\n",
              "    }\n",
              "\n",
              "    [theme=dark] .colab-df-convert {\n",
              "      background-color: #3B4455;\n",
              "      fill: #D2E3FC;\n",
              "    }\n",
              "\n",
              "    [theme=dark] .colab-df-convert:hover {\n",
              "      background-color: #434B5C;\n",
              "      box-shadow: 0px 1px 3px 1px rgba(0, 0, 0, 0.15);\n",
              "      filter: drop-shadow(0px 1px 2px rgba(0, 0, 0, 0.3));\n",
              "      fill: #FFFFFF;\n",
              "    }\n",
              "  </style>\n",
              "\n",
              "      <script>\n",
              "        const buttonEl =\n",
              "          document.querySelector('#df-77cf89c9-4a7b-4dbb-97cd-d5bff4780aac button.colab-df-convert');\n",
              "        buttonEl.style.display =\n",
              "          google.colab.kernel.accessAllowed ? 'block' : 'none';\n",
              "\n",
              "        async function convertToInteractive(key) {\n",
              "          const element = document.querySelector('#df-77cf89c9-4a7b-4dbb-97cd-d5bff4780aac');\n",
              "          const dataTable =\n",
              "            await google.colab.kernel.invokeFunction('convertToInteractive',\n",
              "                                                     [key], {});\n",
              "          if (!dataTable) return;\n",
              "\n",
              "          const docLinkHtml = 'Like what you see? Visit the ' +\n",
              "            '<a target=\"_blank\" href=https://colab.research.google.com/notebooks/data_table.ipynb>data table notebook</a>'\n",
              "            + ' to learn more about interactive tables.';\n",
              "          element.innerHTML = '';\n",
              "          dataTable['output_type'] = 'display_data';\n",
              "          await google.colab.output.renderOutput(dataTable, element);\n",
              "          const docLink = document.createElement('div');\n",
              "          docLink.innerHTML = docLinkHtml;\n",
              "          element.appendChild(docLink);\n",
              "        }\n",
              "      </script>\n",
              "    </div>\n",
              "  </div>\n",
              "  "
            ]
          },
          "metadata": {},
          "execution_count": 69
        }
      ]
    },
    {
      "cell_type": "code",
      "source": [
        "# merged_df.to_csv('Data1.csv')"
      ],
      "metadata": {
        "id": "rmAAbzwtQdv2"
      },
      "execution_count": 100,
      "outputs": []
    },
    {
      "cell_type": "markdown",
      "source": [
        "# **Data Preprocessing**"
      ],
      "metadata": {
        "id": "u6MEFfokVEGa"
      }
    },
    {
      "cell_type": "code",
      "source": [
        "def clean_names(data, cols):\n",
        "    for col in cols:\n",
        "        data[col] = data[col].str.replace('[','')\n",
        "        data[col] = data[col].str.replace(']','')\n",
        "        data[col] = data[col].str.replace(\"'\",\"\")\n",
        "    return data"
      ],
      "metadata": {
        "id": "iJHsvMBOun4n"
      },
      "execution_count": 70,
      "outputs": []
    },
    {
      "cell_type": "code",
      "source": [
        "merged_df = clean_names(merged_df, ['batsmen1', 'batsmen2', 'batsmen3', 'batsmen4', 'batsmen5', 'batsmen6', 'batsmen7', 'batsmen8', 'batsmen9', 'batsmen10', 'batsmen11'])\n",
        "merged_df = clean_names(merged_df, [f'bowler{i}' for i in range(1,12)])"
      ],
      "metadata": {
        "id": "rH-K3PtnvXp1"
      },
      "execution_count": 71,
      "outputs": []
    },
    {
      "cell_type": "code",
      "source": [
        "from sklearn.preprocessing import LabelEncoder, OneHotEncoder"
      ],
      "metadata": {
        "id": "6YKH3o_YMu43"
      },
      "execution_count": 72,
      "outputs": []
    },
    {
      "cell_type": "code",
      "source": [
        "ohe = OneHotEncoder(handle_unknown='ignore')\n",
        "\n",
        "# fit and transform the batting_team and bowling_team columns\n",
        "# ohe.fit_transform(merged_df[['Batting_team', 'Bowling_team']]).toarray()\n",
        "\n",
        "# concatenate the encoded columns with the existing dataframe\n",
        "encoded_cols = pd.DataFrame(ohe.fit_transform(merged_df[['Batting_team', 'Bowling_team']]).toarray(), columns=ohe.get_feature_names_out(['Batting_team', 'Bowling_team']))\n",
        "batsmen_enc = pd.DataFrame(ohe.fit_transform(merged_df[['batsmen1', 'batsmen2', 'batsmen3', 'batsmen4', 'batsmen5', 'batsmen6', 'batsmen7', 'batsmen8', \n",
        "                                                        'batsmen9', 'batsmen10', 'batsmen11']]).toarray(), columns = ohe.get_feature_names_out(['batsmen1', \n",
        "                                                    'batsmen2', 'batsmen3', 'batsmen4', 'batsmen5', 'batsmen6', 'batsmen7', 'batsmen8', 'batsmen9', \n",
        "                                                    'batsmen10', 'batsmen11']))\n",
        "bowler_enc = pd.DataFrame(ohe.fit_transform(merged_df[['bowler1', 'bowler2', 'bowler3', 'bowler4', 'bowler5', 'bowler6', 'bowler7', \n",
        "                                                       'bowler8', 'bowler9', 'bowler10', 'bowler11']]).toarray(), columns = ohe.get_feature_names_out(['bowler1'\n",
        "                                                       , 'bowler2', 'bowler3', 'bowler4', 'bowler5', 'bowler6', 'bowler7', 'bowler8', 'bowler9', 'bowler10', \n",
        "                                                       'bowler11']))\n",
        "venue_enc = pd.DataFrame(ohe.fit_transform(merged_df[['Venue']]).toarray(), columns = ohe.get_feature_names_out(['Venue']))\n"
      ],
      "metadata": {
        "id": "guVNbn_-MrMH"
      },
      "execution_count": 73,
      "outputs": []
    },
    {
      "cell_type": "code",
      "source": [
        "data = pd.concat([merged_df, encoded_cols, batsmen_enc, bowler_enc, venue_enc], axis=1)"
      ],
      "metadata": {
        "id": "5bPS2Eb6OODj"
      },
      "execution_count": 74,
      "outputs": []
    },
    {
      "cell_type": "code",
      "source": [
        "data.shape"
      ],
      "metadata": {
        "colab": {
          "base_uri": "https://localhost:8080/"
        },
        "id": "JFDuTZiUwfPN",
        "outputId": "24cbc2df-8eed-49dc-9955-ec303a86602b"
      },
      "execution_count": 75,
      "outputs": [
        {
          "output_type": "execute_result",
          "data": {
            "text/plain": [
              "(1896, 5007)"
            ]
          },
          "metadata": {},
          "execution_count": 75
        }
      ]
    },
    {
      "cell_type": "code",
      "source": [
        "data['powerplay_runs'] = data['powerplay_runs'].astype(int)"
      ],
      "metadata": {
        "id": "6PL9SA6nDHdK"
      },
      "execution_count": 76,
      "outputs": []
    },
    {
      "cell_type": "code",
      "source": [
        "data.drop(['Venue','Batting_team', 'Bowling_team'], axis = 1, inplace = True)"
      ],
      "metadata": {
        "id": "2leG1HE1wi2c"
      },
      "execution_count": 77,
      "outputs": []
    },
    {
      "cell_type": "code",
      "source": [
        "data.drop([f'batsmen{i}' for i in range(1,12)], axis = 1, inplace = True)"
      ],
      "metadata": {
        "id": "4ybvPpdRxNrc"
      },
      "execution_count": 78,
      "outputs": []
    },
    {
      "cell_type": "code",
      "source": [
        "data.drop([f'bowler{i}' for i in range(1,12)], axis = 1, inplace = True)"
      ],
      "metadata": {
        "id": "u3GXThT-xXor"
      },
      "execution_count": 79,
      "outputs": []
    },
    {
      "cell_type": "code",
      "source": [
        "data.shape"
      ],
      "metadata": {
        "colab": {
          "base_uri": "https://localhost:8080/"
        },
        "id": "t04ADCtWxZ6b",
        "outputId": "77aa31d6-33a9-4b42-83cc-bcdc56ebeb5e"
      },
      "execution_count": 80,
      "outputs": [
        {
          "output_type": "execute_result",
          "data": {
            "text/plain": [
              "(1896, 4982)"
            ]
          },
          "metadata": {},
          "execution_count": 80
        }
      ]
    },
    {
      "cell_type": "code",
      "source": [
        "data.drop('ID', axis = 1, inplace = True)"
      ],
      "metadata": {
        "id": "tyqHbsmSxuML"
      },
      "execution_count": 81,
      "outputs": []
    },
    {
      "cell_type": "code",
      "source": [
        "data['inning'] = data['inning'].astype(int)"
      ],
      "metadata": {
        "id": "vIQaJrVyx2S2"
      },
      "execution_count": 82,
      "outputs": []
    },
    {
      "cell_type": "code",
      "source": [
        "data.info()"
      ],
      "metadata": {
        "colab": {
          "base_uri": "https://localhost:8080/"
        },
        "id": "ef4TT0lhyDIH",
        "outputId": "d36ee4a3-5d94-4267-9831-1b5380048de3"
      },
      "execution_count": 83,
      "outputs": [
        {
          "output_type": "stream",
          "name": "stdout",
          "text": [
            "<class 'pandas.core.frame.DataFrame'>\n",
            "Int64Index: 1896 entries, 0 to 1895\n",
            "Columns: 4981 entries, inning to Venue_Zayed Cricket Stadium, Abu Dhabi\n",
            "dtypes: float64(4977), int64(3), object(1)\n",
            "memory usage: 72.1+ MB\n"
          ]
        }
      ]
    },
    {
      "cell_type": "code",
      "source": [
        "data.shape"
      ],
      "metadata": {
        "colab": {
          "base_uri": "https://localhost:8080/"
        },
        "id": "kpNOUmDN0QoB",
        "outputId": "0f2e46e9-085e-49ed-a9c5-a7022fed6a2e"
      },
      "execution_count": 84,
      "outputs": [
        {
          "output_type": "execute_result",
          "data": {
            "text/plain": [
              "(1896, 4981)"
            ]
          },
          "metadata": {},
          "execution_count": 84
        }
      ]
    },
    {
      "cell_type": "code",
      "source": [
        "# from sklearn.model_selection import train_test_split\n",
        "# from sklearn.linear_model import Ridge\n",
        "# from sklearn.ensemble import RandomForestRegressor\n",
        "# from sklearn.svm import SVR\n",
        "# from sklearn.metrics import "
      ],
      "metadata": {
        "id": "Ks_LkqxVCvK1"
      },
      "execution_count": 67,
      "outputs": []
    },
    {
      "cell_type": "code",
      "source": [
        "data['Season'] = np.where(data['Season']=='2007/08', '2008', data['Season'])\n",
        "data['Season'] = np.where(data['Season']=='2009/10', '2010', data['Season'])\n",
        "data['Season'] = np.where(data['Season']=='2020/21', '2020', data['Season'])"
      ],
      "metadata": {
        "id": "0aKOtQRT3csB"
      },
      "execution_count": 85,
      "outputs": []
    },
    {
      "cell_type": "code",
      "source": [
        "data['Season'] =  data['Season'].astype(int)"
      ],
      "metadata": {
        "id": "dD-EGjeq3gSr"
      },
      "execution_count": 86,
      "outputs": []
    },
    {
      "cell_type": "code",
      "source": [
        "train_df = data[data['Season']<2021]\n",
        "val_df = data[data['Season']>2020]"
      ],
      "metadata": {
        "id": "cRzQdymX5Vfh"
      },
      "execution_count": 87,
      "outputs": []
    },
    {
      "cell_type": "code",
      "source": [
        "X_train = train_df.drop('powerplay_runs', axis=1)\n",
        "y_train = train_df['powerplay_runs']\n",
        "X_val = val_df.drop('powerplay_runs', axis=1)\n",
        "y_val = val_df['powerplay_runs']"
      ],
      "metadata": {
        "id": "0JC9IhJv3kOd"
      },
      "execution_count": 88,
      "outputs": []
    },
    {
      "cell_type": "code",
      "source": [
        "from sklearn.linear_model import LinearRegression, Ridge\n",
        "from sklearn.ensemble import RandomForestClassifier, GradientBoostingRegressor\n",
        "from sklearn.metrics import mean_squared_error\n",
        "from xgboost import XGBRegressor\n",
        "from sklearn.svm import SVR"
      ],
      "metadata": {
        "id": "Qqub4eRI2dwM"
      },
      "execution_count": 91,
      "outputs": []
    },
    {
      "cell_type": "code",
      "source": [
        "lr = LinearRegression()\n",
        "ridge = Ridge(alpha = 1.0)\n",
        "rfc = RandomForestClassifier(n_estimators=200, random_state=2)\n",
        "gbr = GradientBoostingRegressor(n_estimators=200, random_state=42)\n",
        "# bc = BaggingClassifier(n_estimators=50, random_state=2)\n",
        "xgb = XGBRegressor(n_estimators=100,random_state=42)\n",
        "# abc = AdaBoostClassifier(n_estimators=150, random_state=2)\n",
        "svr = SVR(kernel=\"linear\")"
      ],
      "metadata": {
        "id": "Yp5iPCatB8OM"
      },
      "execution_count": 92,
      "outputs": []
    },
    {
      "cell_type": "code",
      "source": [
        "clfs = {\n",
        "    'svr': svr,\n",
        "    'lr' : lr,\n",
        "    'rr' : ridge,\n",
        "    'rfc': rfc,\n",
        "    'gbr': gbr,\n",
        "    'xgb': xgb\n",
        "}"
      ],
      "metadata": {
        "id": "BXqv0H5gEMQ5"
      },
      "execution_count": 93,
      "outputs": []
    },
    {
      "cell_type": "code",
      "source": [
        "def train_classifier(clf,X_train,y_train,X_val,y_val):\n",
        "    clf.fit(X_train,y_train)\n",
        "    y_train_pred = clf.predict(X_train)\n",
        "    y_pred = clf.predict(X_val)\n",
        "    accuracy = mean_squared_error(y_train,y_train_pred)\n",
        "    val_accuracy = mean_squared_error(y_val, y_pred)\n",
        "    \n",
        "    return accuracy, val_accuracy"
      ],
      "metadata": {
        "id": "rOXS-jumCxFQ"
      },
      "execution_count": 95,
      "outputs": []
    },
    {
      "cell_type": "code",
      "source": [
        "scores = []\n",
        "\n",
        "for name,clf in clfs.items():\n",
        "    \n",
        "    train,val = train_classifier(clf, X_train,y_train, X_val, y_val)\n",
        "    print(name)\n",
        "    scores.append([name,train,val])"
      ],
      "metadata": {
        "colab": {
          "base_uri": "https://localhost:8080/"
        },
        "id": "6GyiCc326QmX",
        "outputId": "d817acfb-c68f-4fac-9dbf-f542b14f0b94"
      },
      "execution_count": 97,
      "outputs": [
        {
          "output_type": "stream",
          "name": "stdout",
          "text": [
            "svr\n",
            "lr\n",
            "rr\n",
            "rfc\n",
            "gbr\n",
            "xgb\n"
          ]
        }
      ]
    },
    {
      "cell_type": "code",
      "source": [
        "scores"
      ],
      "metadata": {
        "colab": {
          "base_uri": "https://localhost:8080/"
        },
        "id": "3p98Zcuu7Qt0",
        "outputId": "33d207a1-69e7-4854-c042-b47df2efcd39"
      },
      "execution_count": 99,
      "outputs": [
        {
          "output_type": "execute_result",
          "data": {
            "text/plain": [
              "[['svr', 45.130125376215375, 159.31347636478796],\n",
              " ['lr', 4.235120754194245e-25, 212.65660199339123],\n",
              " ['rr', 4.360980496057456, 183.48529161760246],\n",
              " ['rfc', 0.0, 206.31716417910448],\n",
              " ['gbr', 78.82057190051084, 144.24512069526196],\n",
              " ['xgb', 32.03253819018971, 149.30402468321537]]"
            ]
          },
          "metadata": {},
          "execution_count": 99
        }
      ]
    }
  ]
}